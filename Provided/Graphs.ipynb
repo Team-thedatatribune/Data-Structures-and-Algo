{
  "nbformat": 4,
  "nbformat_minor": 0,
  "metadata": {
    "colab": {
      "name": "Graphs.ipynb",
      "provenance": [],
      "collapsed_sections": [],
      "include_colab_link": true
    },
    "kernelspec": {
      "name": "python3",
      "display_name": "Python 3"
    }
  },
  "cells": [
    {
      "cell_type": "markdown",
      "metadata": {
        "id": "view-in-github",
        "colab_type": "text"
      },
      "source": [
        "<a href=\"https://colab.research.google.com/github/ravi-prakash1907/Data-Structures-and-Algo/blob/main/Provided/Graphs.ipynb\" target=\"_parent\"><img src=\"https://colab.research.google.com/assets/colab-badge.svg\" alt=\"Open In Colab\"/></a>"
      ]
    },
    {
      "cell_type": "markdown",
      "metadata": {
        "id": "A_gfX7-fUJLW"
      },
      "source": [
        "#Graph\n",
        "\n",
        "![image.png](data:image/png;base64,iVBORw0KGgoAAAANSUhEUgAAAPoAAACfCAYAAADQ1cTUAAAABHNCSVQICAgIfAhkiAAAIABJREFUeF7tXQm0XWV13nd6Y+aQhMwJEUMCAQQLhcBSkCgppS6rBE0MUocuupaiRUWWdnVZC2ppBlpbS4jBmBgGW61LrSERGZRAJCGBBDIAKsFgzAQZ33Sn7m//Z5973n333Xffe+e9nHez/3A5957h///z7f3tvf/9/+e8WC6fz1OJEiuxz3ZVLwLpdJpSqZTcoFOJHMVi0IK429fJrZuedAJMxHY7KUasU9ad/kNA7XwymZRGM5mMENyRvP/6YS31LQJxWORSn75t1mqPEgIgO4gNkoPwSv5sNut3s5SOmDePkhTL98U8enl8qv4oCK6ETiQSPslx4/G4qUe1KEAPJJnjew9+qgWK0/M+kKGJx5OUy7kxuXp3jM3zefPZ1aIVbmBWLXdj99FtBBzRcVncD93h4eHpzaN3G87IXtADjx7Ze7GO9QCBGGtAjr16ui0r4/Mjbx2h/fv3U2tra7swnjA3E/z4UV0PGrVL+h2BGIdqJafXOu8JwvZgMVvROVbRP6LC1yD9hhtuEMLPnz+frr/++sINFGtJTPXA5B99KXuTpJqMCWZZMWYLFtgDZGXzGLvxh0d0si0uOMfKwEFAxQwet6Xh1Ws5bE9SbU29fxMi0+K0e47l7yXlg74i+L1YhwYOKtXX0ziEgWwrSI4tQjYUjM+CBgBjNp1rzeVBc+cD9BwsuEDR6ZluBwrVh+2AuKNgYj2VSlA6k5bxeZCkkKn+xla/x7rIytsYPzoqEFehguQotbW1TPA8Zdmhx2EAvC3GcfigxHlgh4Af3gDXQfDBVVX4rfOy0blV60kpBCBrFGwhz9qaWoLRTqZq/SE5dACkxpkgrxCYV2DkZQ8fkxV0hWJGvh0ckfiRVCHpYgkIPJGAEB2RIdMnn/g17d69mw4eOkiNDY00fPhwuuiid9Ks82dIwkYtt9ahRkMjgEjcqXWiJAKQtS9zFjpIDvnV17vQ/ekNG2nz5s109NhRGtQ4iOV+Eb3r3VcSB3Usd9YTL8WjeoQt9hXvL9m47ew3BGIceueDIRa8Ngx0msdrz21+jhYvXspCr6Pmtja28kmx3m2tbRy4s2Vnc7Dqe9+luvoaf2oGPUc4D0Eb0ftNjj1uCAY9SPR5N3yEampqpD6Qvra2hrduWSzkWlOToizrx9e/didNPWsiFsbLuUGD3+PO2IV9hoCM0VE0hNOWmpua6Z577hGyZjJZGj16NM2bdyNddunllEyk3FicLfqX7rjDJ7Um4uARjOR9JrNQK4b4nWd2Bl7lJuE7yx4kv+qqq+gDH/iAy+FwYi7L+nDHV75Me/f9SQw/PnAWwXF9qJ20ynqNQCz49JpOtMGj/8e37qWnnnqK8kzmxUuW0Lixo6SxNs65Jfkhpw/feBNx1MdePUsPPvj9duM0CNwSMb2WTb9U4PyxayqTydFHPrxAPHqGQ7tBgwbRsvu+LQehE9CPR3/xOK1atYqTdm0UT8bogZWrWB/c7EswXLfQvV/EV3Ej/vxYIbHiBNrGoTos9aDBg+hMJrk+3wCSt3Fifu7cuf5YrHhcBpIHx2kV98ZOPGUIwLMnk3Hx4jDUMOL/tezbbLDh8R3Rsb1mzlV0zjnnyNAtlo/TiRPHOOJr69Bv9fQdDtiOU4IA22QXuudkek2fR87RbZ+/VbKwEG5ba46StS7TnmWPvvW5LbT+kXUuZOM5V8nMy3Nw/Jhjms9lC6/k9+8KrkNDBuzUBRcxl+0/JXd/GjWa50lvyCRYYIxjjL+IBd95bXuek7ExZjnIXCOicfrRxpFbklg/WB9uueUW+vvPfYFa21ro2U3P0nvfe7Wcl+cMnYvksOaC9cB79PU0gjmyt5rUFw64uXTMoSbceIuFD5JveW4bbdiwgba+sI2am5tZmO0zrdAdnOcEG6cEewUtxYol8V/hYGRBqaaO6VRnB1kEbhIETSR4jI11MRhvs6eeM2eOnJFjgmPdRAIGgX8hBXvGqKHU2pymmro6l8NhI8IeQ/RAC0juDEl741JN2A6ke0li/tstlkmJsFFA/v0HDtEXv/BFFmSK2nhgnue5cxgDfL/88stp86bNLHiXXW9rzXB2FiGfEzY8RMG6e3CovHVQyMokxfTAA6hvNoVcSUegnd11Hltbj7EOtLH8jx496smT11KI5+coDRkZlh/C+gRHbZmsC9mxrgKu3iXj3BoK1F3OuPTN3VqtnSGQ1GkRbJE1B/FhjW//4u0iOGTc3//+99MHeQ00CJxyMy/07G9eoCVLFgmha5jkGpUHp2o6a9T2nzoEipNkauTFSHOoDsPgMuhYH8FGn8dlqQQPz7jLHJwzyWP84MtJIXGOE3bI5cAEaAnmZ1S3Tt3dWsu+XGCJEa5DcCA5HO6RI8f9qZK/+usP0I3z+UEHHp4pyVtbcrRx40Y5B/OsOW91FRQDCzBQgll3TczJFi3gFP2YLPocAeAOWen0l+ZP5Dd7cAmyWB54/FyXNK9cuVL6BZLL2goJ2p1sX3nlFcmxQN5YPIVqVMZBfbKZlz4XbcUNxNXC4wp4dAhNCM/KAc9+1tSpHMq58K7gtbP09NNPy/HmE01CboRq8OY4R8/TXkCxgp+Ke2cn9hoBJbd6ag2nZSwO783kzRIWxLikq+zPuzzNhqeeFX1AaA5bjik3lKX3LOHzOZxnol944YW+UVdvjqEf2g3qVq9vxCroFQIsabfcNYOlr0xcWGkXzrkHXe6++246cOCg5F7TnEl97Je/pptvvlnOE4/OCZnmJvcgDAiPcA5Koxa+M4Grl+lV7+3iLhGQsTUE4hUQFx//N/tzPKDU2sLJNZ5ZEdnX8DW5OH3rW9+i769+wPfYGLfPu/HDjsSsETPPnek9G+FyNWrM4ShA+mC7XXbUTuhTBGTBTDbHwuUBmo6v0eLNN3+cWppbKIckXJIfXOGxmjytFAjTYNETPEYHmZcvX05Dhg6SzuoUG/YjUw+hw/vjY8LvU3l2qBzRlfIccsGYGgVkTPH8GcbdztSzMLnMu2GByCsR4yRt3j3Jxmab9QChvUZ2eB4iQQ+sWo3In4vbr+N97FFnIZVaOeUIcDIOwzQ3lx0k4YoVK+ib3/wmvfTiS5ThR1dra+sk4w7J3n7H7XT+BbNowUc+KjcAhUlgfsUr2VyaNj/zAu3Zs8etsuIhAcK5iy6+iKZPf7uveEHDcsqRGKAdQGRUynhqxBT3ZLtr18u046Ud1NLSQnUchTU1NdHESePpksv+XNY9JCVz7jLlqO8fv/oPUu9Xv/pVMeQcqYPvEslde+1cWnjTQvnuivuiszbYpw826Rm2PbUIxLLs0tEFWH0Zj7HMMF2GTLoSEb9xrLaOs+sYi/N3WHIIv621xffUKtyHH3qYxowZS7NmzXLega0/nnPHuP748eOEt5jU1rnFOaf29qurdR0TFxP/kbXr6eTJkzwtehkNHjxEbhqGd9euXfTo47/gxVGfp4a6epEx9AAffixdErBaWlv4gZZaJG1dDgbbNj6pNnhSdcFZVXfT7lVSGm5B4HiYAWRH0fAvGAaqEXAr6txrgpHMW79+PQ0bNoz+7J2X8vLIE/xkW72EcTKe52fd165dSyNHjqTZV8yWur2p+6oCtT9vJiiTYLvYj8/2bdvp1792eRWdPtXzYBh2vrKTXn/9dVnSXM9RmxY1+lp/lhfTcAJeCoZ6MgaXf1YGAgJ+8AUyuqyp8+rFJMfNqNeHEug0Gry4ho8HDx6UMfkFF1wgHqShocHNs7JSaLiIFVf79u2TlxAWQr+BAFU0+wiZlCogKPIqL774In3oQx8UGenLQSBreHSUadOmUWNjI+157TVZAYeknJIcx7X+IMkx1APFcb6VgYGAvwRWM6ZQiCwSb56EQX4UeIOgsmCfhIoBTXvrrbdo/PjxYjBqeNyOazDnCvLrCjzU+9qe1+jTn/60n5kfGFBFs5cqJ8hCDW5w31nTzqKzmMwgN5Kh2OI8vEAC32sTtTR5wmT60x//SDOmn0OJOidvRGAqe9w5yI/rkmzY3e8MR2P2tvBoakXHXskSWBQIVafCgokUCBf79QEFKAcKzgmOBXEeEj14xBEvpqira5BxOTyHKoxbT5+Vt9Tg2mJl6tg921MpAsAzSHSVZXDNOWSH8yAHGGGJxli22AcZ4bhGaKoPKnvY+45/0AEe3Q8KK+2qnXcKEBCTjCkXEDRowQtK414tpVMoGrLjaShXCoIeOnSoZNrrG+p5aq5VvLgq1vTp0+X1RFAmZHznzr2OPc0kVp5TcNdV1KQGVYHASjBFVJbhPMvPfvYzmjlzJjU0NvB6h2ZJwImxTiByY+IzFphGhfydsdCn3CAYNvCI2T0ZcUKHDQMWynjLZPn6uCVZBoQ2CUuDrw4K9lrDQeyDZcdHC5Qi6EWwf+zYsXT40GE6duyY7xn0OpAe3v3I0SN0+PBhmjBhnFQFBbVPzzGAp1WSq9HEbzxbXsPLk5EA3X9gv5AcMtD3DOB9UGrYMY6fOnWq/FaZQjZy3KsUnh8NgeRIwLrjNnMiQAyA0i7u0jAe/VYiYx08wjP8fS58XKiGy9wHugDLD0Ij+TZ9xkxas+YhzsyyR5FQEMrgXkQBD3L/iuV0ySUXyxge3sQ+4WGAVwIE8YSzvfjiC2n9urX01pG3hOTJJD+bIJx1Y228RQjz6aNGeW8QasNyWIT2XljuVYqn2rTyOC+gEvl3kgiERliJFgI9+Est7W8gy2+icJ7AvfYZFn/jM8/Stm3b6M95McYbe/fJWP2saVNk8c15582gc889Vzy+jgmjBUn19Wbv3r308MP/I48X799/UCK4yZMn06uvvkxDBg+Wt7rqmBxbHcrp8K36EDn97qjXRNexO7wElKTVW2yzb98BepUz7qtXr5Ek0c0330STp0ymiV7IbiTvP2UD1idPtsgru5ctWy4NL1iwgKZMnUQTxo13S2G9pJz2ChGdlepBoNfzI5qV19dQ6fz7mDGjecw+mr797XvFc8++4jJBDefjt2bxqwfK6N4JoqfBQxplCTLyJ3hl8xVXXCEr30BnyKQ4ERvdu7Ge9QSBdmP0nlSgWXWM0SWbywXvhMfYHavncFzeBe49s47fQaXqSZt2TfcQcAlRjMuReE1x1IV39Dv54K+oFntvTbrCAFipDgR67dEVBiUvHlnG3/CCjmAqDi+NxMMw2Ep4zwvkjej9qzzAG5SFsYUs3Ny6k0+Mvb1L0rknC0FuXUdRbAD6t9fWWpgI9Nqjw4sHLb8O7fBcOgrmc51Hd28kgfLYiwnCFGH5uuCdC39Yw02JYh/kBMML8usaimC0BZmaRy+P7UA62muPDuuviiPK4c25wJtjigb7nBfByiv25uzRg9N4AwmsgdhXeHN8YHdhdHXlG+4FwytZs86ML46yisftA/Herc8FBHpNdKcwLjAoDvWwaEPH8O48DuXZlUCJis81ofQdAoo35KHj72BrxSQPyrTvemU19ycCvQ7d+7Oz1pYhYAj0DAEjes9ws6sMgQGFgBF9QInLOmsI9AwBI3rPcLOrDIEBhYARfUCJyzprCPQMASN6z3CzqwyBAYWAEX1Aics6awj0DIEQ5tHb2wp95ql4lbS8F7xDsVcRdYCkj3YUnkUrvDykj5qyaiOIQP96dNOxCKqAdel0QKB/iX46IGr3aAhEEAEjegSFYl0yBMJGwIgeNqJWnyEQQQSM6BEUinXJEAgbASN62IhafYZABBEwokdQKNYlQyBsBIzoYSNq9RkCEUTAiB5BoViXDIGwETCih42o1WcIRBABI3oEhWJdMgTCRsCIHjaiVp8hEEEEjOgRFIp1yRAIGwEjetiIWn2GQAQRMKJHUCjWJUMgbASM6GEjavUZAhFEwIgeQaFYlwyBsBEwooeNqNVnCEQQASN6BIViXTIEwkbAiB42olafIRBBBIzoERSKdckQCBsBI3rYiFp9hkAEETCiR1Ao1iVDIGwEjOhhI2r1GQIRRMCIHkGhWJcMgbARMKKHjajVZwhEEAEjegSFYl0yBMJGwIgeNqJWnyEQQQSM6BEUinXJEAgbASN62IhafYZABBEwokdQKNYlQyBsBIzoYSNq9RkCEUTAiB5BoViXDIGwETCih42o1WcIRBABI3oEhWJdMgTCRsCIHjaiVp8hEEEEjOgRFIp1yRAIGwEjetiIWn2GQAQRMKJHUCjWJUMgbASM6GEjavUZAhFEwIgeQaFYlwyBsBEwooeNqNVnCEQQASN6BIViXTIEwkbAiB42olafIRBBBIzoERSKdckQCBsBI3rYiFp9hkAEETCiR1Ao1iVDIGwEjOhhI2r1GQIRRMCIHkGhWJcMgbARMKKHjajVZwhEEAEjegSFYl0yBMJGwIgeNqJWnyEQQQSM6BEUinXJEAgbASN62IhafYZABBEwokdQKNYlQyBsBIzoYSNq9RkCEUTAiB5BoViXDIGwETCih42o1WcIRBABI3oEhWJdMgTCRsCIHjaiVp8hEEEEjOgRFIp1yRAIGwEjetiIWn2GQAQR6F+i929rEYTbumQInBoEQqBejnuOjyt53uBTXPKxUvtDaL64IftdEoHO5FLyZNtZdQgY06pOpHZDhkBHBIzoHTGxPYZA1SFgRK86kdoNGQIdETCid8TE9hgCVYeAEb3qRGo3ZAh0RMCI3hET22MIVB0CRvSqE6ndkCHQEYHQiJ7LFebSA19J9+d5IhcflFgs5u/v2CXb0x0EgG9egfUuLP4NvIPY43c2076VgpyckILy7E5/7Nz2CGQyDuhiPLPZbLsTi+VYLEP8Du7D9cXnlMM+NKJrRxyhnbJks3lKJBJCbP6P4l5r6GRcf5TrnR3rEgGHLYNbVIJKACUC/plMjuURp3QmTYlk4QIchzzS6bTICgW/i5WzuA373TUCyWRScFR9V+KDF8X4OoOcl/34rueiFZWLtqi86roH7oxQiA4FCTacSKCTuDl4Ekd6/EYByXEu9hffaKWdtvMKCBQrgB7R/UElc2TOUF1tbTuPjnMhl1QqJZdDwcwYh6dl6r2xBfGxBWeU/G1tbf538AL7scW5wQI59ZQz7Wvqwb0FOwQFSYgFY2VJZ2j37t9SXR0rFd/Yrl276G3T3sa/U3ITekM9aNIu6QKBIPnVMyBS3PvGXkrVODLv2LGTJk4cT8OHD5Ha1Pjie7GCddGcHS6DAPQcBhTcUO8OrPFBOXnyJO3Zs4eOHDlCLS0tNH78ePnU19f756AOlWlQtkEjXqYLcijGlZRamt7Vdf7xbNZ5cw72ZB8q27XrZdq8aTNNmTKFb+IPcoNjxoyi3//+93TttXNo7Nix0vHgDVTcoJ3YLQSgDCdOnKB16x6loUOH0sGDB0XxJk6cTC+/vItmnXceXXTxheIpIA9VQJNNt2Aue3IpQsKj/+53v6NNmzbR1KlTaciQISKXffv2CfHnzp3LnBkj9cJRgi+9Ge722qNDMcSTJ5ynPnDwTXrm6WfoL667jhobGpjkNaJA559/Hk2eMplWr15NN910k5BdQ5myKNnBsggE7XTQ2uMiHGttbaWlS5fSBz80j6ZMnkJbt24VMs+cOZNmzJhO31m+nGLxPF144YWiSAgjNYSHfJT4ZTthB8sioE4NhFc8Dx8+TBs3bqQ5c+bQ4MGDfccHbz558mS6//776WMf+xiNGzfOj7bU+KrMi+VdrhO9HqOj8/DYGiKue+QRITnGgcFwEMZgzOgxdMMNN9CvnvyV9MmUqJxoKjtWKqTDlZALPk888QRdx/KYNHGS/AaJQWjIDArzyU9+kl55+RXx9Cg1NTV+MsjkU5kMyp0FzCEjfBRPePP169cLyYcNGyb7NfmJ80aNGkULFiygDU9tkHAeRY1F8fdybQeP9ZroGk5Aad544w2xQA08voDC4IZQcKyWiY/fCEdGjBwhYYsqqY4dbOtE010cGEiHsydZ4J3n54KhZEePHKdzps/0sQbmmvxBFBZnJZt61tvotdf+QDluGB/sy/CMCfpR6UfkrO3b1peHEJiBwQBZ8fnD3j+y0xtLw4eNFBkhctLoVg3CiBEjqL6hXsbupabolDse1F1uktp48ZkdJ2yKz9DfLkOIhtGpkSOH8QHuOE8f1rD3yOddpnHz5s1+UmL37lfpvvtWyG++T8ph6o07Ytue4ZCNc0iYi5Nu8X4AEB3bs8+eThMnTRJjKxEWAw65vPD8FlZAHvclU5w72UNr1/2cmpc0czKVp32yboYkGCJq2BjTaVExJgXtMfmV1t8YWM6YxnkL/c5neLydStK118yhrc9vE36AByD6jBkzKCVZeY4C2AWD7IcOHaIzzzxTyCbZeEg1zzNafAJLmTNjlTG112N0VQB0BIp09OhRzqzXUXNTaztLhJuBJ8ExnY6DpYqxosVY4aCX6LJtu4kDMyxOTGCe0ozzvzwYx79lw78zmDNnz53LZURR0oy5RmFQrgwrYIwVMZvmtDwfz7RhS5TiazJ8TSLGx/BiEfmPK4USeolUkTk08nSXWwzRD8LzjluYzCRPM7e0tFFtPeer4hwtcWTb3NrG31nvM3k/wpLcCBtPR2iWDcsK2fcgx4C1enNuUbCvpCQrP7V0dWrVsYUFQvh+/PhxauBEHMKSd7zjHWKtdHyIMQeyikg0DB8xVEIaK+EiEMT04YceZq8+jerZwIphZZJCoZCkE0+CqdCtGbrj9ttp5qxzZO4Eysk6K0YXv7G2KwGOe7+DvcV5VjpHAKMqrCFJJhH5gqREr7++l7a98CKdN+MccY74gBfgECIuyCjGRuDAgQPi5bWoR++8tc6P9HqMLp3yLPyECRPEOr366qtCbHxwAzovC+V6/vnnxQiA5AAAN44POmLb7uOg+AW3iK71M3HiRHrmmWfahdkwvFAabI8efZN2bt9GU6dMEnLD8AdlAdUByVE/wj9VGDnH239ay031t5Mt8ATJsQVOOc59TJo0gVpbmui3v/2tGF98IA98wCXw5cknn6TGxkZJ1pUqCN+7U0IhOhqUsJBDkquvvpoef/xx2rJli3Ras7hQqt27d9OmzZvommuuYSXDyh9uHh4Bpg79tm03cXCQBQUOhQpm0C695BI6wRHWD3/035xkY6VLYZyH5E+aDh7aT7/85S/oxhs/RIMGNfB1bJwxhpQ6eEzJMhMFlcDUGQHsF5Lzh52OyU8ybTzc6WSbx1CHlRu45rDmBKDx+XPf915au/ZnvObkJQ7lW5krcIxpribDHPkN7dixQ7LyOtUJkaAI7vx/fEROFZZeL5hBO8ExhIz72EI99dRTMmVzxhljJEzECiBYp9mzZ1NDY50k4XjZtVOUCjtrp5VAAHoT2F1K+G2tGXr+hS20c+dOGj16tISKTU1NctWll76T1zSMK9SQh/HlGoXFrhTLVz2PHA02Xqjl9PnGBC1bNF7Xk2BAWfnVMa5b/6g4SCxmAk9OHD9Bw4YPoyuvvFJmquAsg1N0ZdsqczA0oqMNdAhKBLJrYg7JOXwfNnQENQ6ql65k0jxmYc+S5sRPKsVupiuwytyAHSodlGnuRIdV2GJYhSwuhlOYq8VCDUmx8XJlJOQQW+Y4OYTpNbgLVTCVK7AO1uvkXMq0mFR8BEB0oAxyA1dgiHE4R8Bum5ScFniCgjwXhrbFpSPZ1cCUln/x9b0mulp73aq1CnoBbbTYuMl+4GBEL5ZLN36XFrQSEhWpV4AXUfmoMc5zZl2nzLIciSUSNTyH7tZl41okhHAdxouYMdH6Ch3swqN1406q8tSA0gu+RQ+qIBBXWahsgjgE+aXYu/M0knbGoyvsYtxIHoJEKSZnMYlxDoYiSCpoJhFhHhRJjnkhifzgUlyf7rdt/yIAOeATJDp6AHlBoPA0GI/HMYfOu2B7PZXg2ZG/4cgrzdFYI917771sCAoeHAkhnV7r3zuqztaU8MV3pxEwhsS6ohE5FpfkLm3oi+tg2bsFLziAhrToVAx+K5EdcaEgLpPojFXhUVTUhTqC9RQ3aL/7HwEleXCrRjmGRAm4y2NyMeL4KWE7DDXR+HET5Pl1hPogOZKo+KBg0YaV3iMAuYjR9QpyKiiKM4a5KEpyzczr+ZVsZcGMhnY6DYZGEWJonsWPPlgD8F2tvefIhdh6LcbjKKhDDUS5jmgb5c6xY6UR8H0rQCwzVA5GXJAPfus+bEUGTFolONLqbh9vecEMu3o63tTiTYy42RLVS9WF0j20vV0hgHE6HKTvTPmCVG2SI2ZOVvMqF2xhT4Fzmhc11SCnxcWtfHRGuas2cDzpj9XAYK8I0QMSPHDgEP30Jz+hfX/aJ2dMnDCRZl8xWxZiwBqB5MGwQ0MMv8IyX6CfRvYyAIVwSJVIh2hapRhjT84yHOMD+AlVwHJNkBmZ4CRW1nnRHt5Qo8VI3nvhQCbgS8J75U+ap+FgjLdufV7m0pGRx+q4888/n666+kqRCUtGjAO4V2mRZJwSUx5R5IdRtMCCLJi/QBrOeWFaktfpZrkzKBme97v/O/fRIE7U6FgNHcPcX6dkD/atjBeq9AbsvPIIaIiO5auYedXozL3mywmgpTlDT2/8jUyJQtZjxo3l9wZcS2POHEl3/vM3aMdLO3i99RhatOhfqZa9TIH0lSWCyvfQjgIBpcWL23fRXXfdRWmefwePZLk4rzdxS5pztHjJYn5w7EzmYCFhWgmCMVaEfDDE1gahEB9dsFCshoTmnHF917veLQvsv7dypVgUKAWvsqY1D6yWyDHo1XFdydC92AgZ2SuRU4/PUTko7PAI8MTYQl4//J//pR//+MeiWPX1ddTCxh4FBmL4iOF07OgxUUM8J33P4n8ROQeHZSVl3OPenn4XQg4yBObPzp276Wv/dCcvMktRE6+Nhxe/4IIL6CccTTefPCHTo8iT4Fn1Rl6L0p3CD9egeOEatwoCQxF+9MMf0w9+8AMMFGjS5En0zW/cKfXyNKuspVi16kFa/8hayqU8WoThAAAIlElEQVTb6FO3fJLmvOcaOY4+B7ODviIUE7w7vbRzO0egC0MZhN2FfYUcy09/8n/0wAMPiczTuSxNe9s0uuzSy2VhzZbnt3qGOs/z7YOolsP3f/v3pbLICQ9vSJHQ0bx658Lp4ognOyRBGX5+Bv2jHJS7nStWrOCZjkJ0vWXrNlr0r4vYs+fkUe+l9yyWyrsQv98Bjgjged1vLEnVcddDD/1AFADhOUiOoQGedMJTMBilLVzwEfEIWOL60IMP8sMR/PpZLwDRsaBZ+y4E3Q+HIVpMg4GTkC0++I6H1NaseZC/YxiWo39buoTuuvOf6C+vfx/d9vnP8ZBshch3EE+rHXnrCMs5ydd6zzXAYugYoB/uoZqb0OnqF17YxguT3aPEixYtbkdypEcuesf58kIXRFNY25Aufl93FyDhmRqWGewI/+Plj3hiqaU5K8vvIOjrr3svE5s9PVeUifFcK7mXC2Ld9MMPrhGByzPnePyOxw1xTsyB6Do29Nuv1PR00WE7XIyATssUkmTtz2DZQr4aH/JByPi557a656R5quxTn/o4vwhhpMgYJctf6huS9J//+R9062c+I/JE2KgOIcZZeBkSwJ+YXIsF0q3fwDTNhvfRJx6ToTDG5IOHDXFDK2Tc+ThsKpYvTJs8RWQR57BqN7/c8zx+358vlC5a5ek1KAHS+0xOfiFMngmcbsnwMslWbjguY7MMHo7nFvEBqWVckePxuTzOBEm7x9rR0U7H5l10xA73DQK6GotTMUJ2OIIsy/jRRx9jpcpwSJ6jK2ZfJkomYzg+J4ZnV9kFnDFyKNXyW3ybm5olcsNhOAUom8m59/LCwAdcwnAIXholWVtDn+LXe+kLJSAzMdIcMbvv7Ih5CfP+/ftp1qxZFXciLi8V4ALBsaGWgmwfPDoEOv3sczhcT1Arr8TxfQesCkyEt74GVkgTNOiMn+nVQWHF3bETw0YABA4WRGKwzceOHZNp0ViMBcnyDRI3OIV27rnnSmTnjjs9QX0q57D7e7rVh6EU7CreKgOckV1PsQcF95TkYqD5mP/HN1iIiLDAs0oLXnLjJc/4pYDs0eMcmTezxYDVQPbv5d0v04SJ46gmUevVCa8OKwOi81tGuUGs3AmG61AKkF8X0VTaGTuvDxCAoOCKAzE2QnQ8qgpFwT99FDILb1202u3ss99O27dvF8WSENIzHFA+iQCs9AoB9egpnrbG1HXTySb60f8+3K5OnCNPdLuAy48CuoO/DMs0bIOXRmXDRjbIVAvG3Bg7wHGn+eEHFJmPRaOsP/MXfpQ+8YlP0MKFC+WYhBhcUB+UR3/LTiv9ggCoF6QfVl7BKqssxEDzOSA55CRk5wvgVUDydBubAD7HW+VK69et80N3T7xCevE+cEdWeoWAYjp79hXCvXqeNkvj9VKtBSnqt3RbjlZ+dxWt+t4qwb87/BJJ+WGb46mE5Cl+lxs88iv8tpgDB/ZTKs4en1tUi79/35u+osybN88P3dEBLd0JLXqFll3cKQIFgkvqzC9QLJEPh4kHDx5m0rpDiRq81MAlf7Au6s03C3L2116zXvhj+k5btgNdIQB5qOHF8+dgep5J9vWvf51qahGuO6OMMTxEtWzZMnrs8cfo5z//ebfCdvSDqyhYZTwlg4YxjvvyV77sW40vfuFL9PSzm7hXbPGZ7I89uYFu/fvPiYHAuAHvDYd1l1U8XmgnY36z+F3Juu+Ps0DdSjZMseU5SuMtK81VV10lbcMQfPrWz3LEhqit0B18XbPmAdmByM7J2uVf9Cwz5AW8evMNr+oaMbSRP0M4yZ2nV/kvHX3pjq/QSU6CIm3W2pSm76/+Pv/Bh6f55Z1pevvbz/aHW5W2y0tgeWTG5iLuZeKYqzxW4NCNI/Xly79DT2x4UqyHjgfkjaOsMN47R+nvbvlbete7ryxEBdyyHyFU2gs7rxcIKDudwdYwz/femCfX+JBbyXJcHue5Ghjsz956G715+JDId/CQwbRkyVKev63j95llaBk/koq/JKIZ9jNHnSELZvQhDJNxL0QWuBRRMkJ2+EQY4QXzF4qzxJw6Cj+CJMYYb/EF5kl2rCtXfk8eeOmOIxWiu3bbK4r2ZfsOLMv7Go/JvadseK4dD0I01tbR3Xffza+KGhrOHVstPUSgC6L7cyVaPVZOuJAQe+bPv0kUCGRHMgh/HFPDcgn7vYUZ+MMcixYvYqIX/lggjndnnNjDGzwtLsMfzNDHgFevWs1/K2+dYOuy7S6X8p73vIc+/vGPiXxwrDvGtkuiYwUV3jKEgvXQCPtgSWp4HyxQCulAK6cQgZ4RHR3Glfjct2wFPfH443IPeAmFJPC43HbbbfTo+kdo+7bt/NdcptI3vnGXjPNdBGhyF5B6WeDNpTCw/stcvF3IiQBrNajYYrze6QNjZfrCi6a8poKZGr5A29drg0874QqNBosuK9OUHeobBHpOdO2PKhsW1aiXUO8C5UJYKW+g4S/qwdXT9M09nT61ajSluS3cOfaBYLC3wF5C+wDReoJ9RWZZGsIbSLjhIMlPH3FU150WG2eJ0DlaA7lFybyC3zp2DCoiDuM3PIuV3iEgXtpLYGtNkAEcq+ayIRJ4dkxrKvb6vdLWO/XofqOBL+rFNXTrzhih0g7Zed1FoLRHRy2O0Hpc6y3KxbAWBceCKlOVMbYompTDuRa6d1dGZc6HXVXjytji4bDgzJVGUKhBZdMT3nXp0Z01aZe4FcVAFtB/XLHMfdihU4eA883lRazEVeXCb3gLJTa2+AQXaGi2N7hm4tTdZXW0rJFUkNhqgHGHanCDd4vp7EpLidc9t/cQHSpCGIHxGp5XlTi+/VrqDufbjj5GoHOPjoYLYXrp8yBLkByKpJ4CRNYlzNinxA7eiHn1cMSabeNZDp7t8L26NxgHviC6Ej+Itzvm3vFXaS/+H4Jb7ogpZI1kAAAAAElFTkSuQmCC)\n",
        "\n",
        "V = {a, b, c, d, e}\n",
        "E = {ab, ac, bd, cd, de}"
      ]
    },
    {
      "cell_type": "code",
      "metadata": {
        "colab": {
          "base_uri": "https://localhost:8080/"
        },
        "id": "HKiIKR3LUVVL",
        "outputId": "c33563ff-deba-436f-f146-458d6a641b5e"
      },
      "source": [
        "# Create the dictionary with graph elements\n",
        "graph = { \"a\" : [\"b\",\"c\"],\n",
        "          \"b\" : [\"a\", \"d\"],\n",
        "          \"c\" : [\"a\", \"d\"],\n",
        "          \"d\" : [\"e\"],\n",
        "          \"e\" : [\"d\"]\n",
        "         }\n",
        "\n",
        "# Print the graph \t\t \n",
        "print(graph)"
      ],
      "execution_count": null,
      "outputs": [
        {
          "output_type": "stream",
          "text": [
            "{'a': ['b', 'c'], 'b': ['a', 'd'], 'c': ['a', 'd'], 'd': ['e'], 'e': ['d']}\n"
          ],
          "name": "stdout"
        }
      ]
    },
    {
      "cell_type": "markdown",
      "metadata": {
        "id": "ALLAf2bkUs20"
      },
      "source": [
        "**Display graph vertices**"
      ]
    },
    {
      "cell_type": "code",
      "metadata": {
        "colab": {
          "base_uri": "https://localhost:8080/"
        },
        "id": "uhWn-FpRUvhM",
        "outputId": "b8738033-0362-433c-d138-8f1e2d8526a4"
      },
      "source": [
        "class graph:\n",
        "    def __init__(self,gdict=None):\n",
        "        if gdict is None:\n",
        "            gdict = []\n",
        "        self.gdict = gdict\n",
        "\n",
        "# Get the keys of the dictionary\n",
        "    def getVertices(self):\n",
        "        return list(self.gdict.keys())\n",
        "\n",
        "# Create the dictionary with graph elements\n",
        "graph_elements = { \"a\" : [\"b\",\"c\"],\n",
        "                \"b\" : [\"a\", \"d\"],\n",
        "                \"c\" : [\"a\", \"d\"],\n",
        "                \"d\" : [\"e\"],\n",
        "                \"e\" : [\"d\"]\n",
        "                }\n",
        "\n",
        "g = graph(graph_elements)\n",
        "\n",
        "print(g.getVertices())"
      ],
      "execution_count": null,
      "outputs": [
        {
          "output_type": "stream",
          "text": [
            "['a', 'b', 'c', 'd', 'e']\n"
          ],
          "name": "stdout"
        }
      ]
    },
    {
      "cell_type": "markdown",
      "metadata": {
        "id": "CTjrxJ-OU2dS"
      },
      "source": [
        "**Display graph edges**"
      ]
    },
    {
      "cell_type": "code",
      "metadata": {
        "colab": {
          "base_uri": "https://localhost:8080/"
        },
        "id": "-dqyGgv5U5wP",
        "outputId": "a90a4da6-2316-441b-8360-208726a16470"
      },
      "source": [
        "class graph:\n",
        "\n",
        "    def __init__(self,gdict=None):\n",
        "        if gdict is None:\n",
        "            gdict = {}\n",
        "        self.gdict = gdict\n",
        "\n",
        "    def edges(self):\n",
        "        return self.findedges()\n",
        "# Find the distinct list of edges\n",
        "\n",
        "    def findedges(self):\n",
        "        edgename = []\n",
        "        for vrtx in self.gdict:\n",
        "            for nxtvrtx in self.gdict[vrtx]:\n",
        "                if {nxtvrtx, vrtx} not in edgename:\n",
        "                    edgename.append({nxtvrtx,vrtx})\n",
        "        return edgename\n",
        "\n",
        "# Create the dictionary with graph elements\n",
        "graph_elements = { \"a\" : [\"b\",\"c\"],\n",
        "                \"b\" : [\"a\", \"d\"],\n",
        "                \"c\" : [\"a\", \"d\"],\n",
        "                \"d\" : [\"e\"],\n",
        "                \"e\" : [\"d\"]\n",
        "                }\n",
        "\n",
        "g = graph(graph_elements)\n",
        "\n",
        "print(g.edges())"
      ],
      "execution_count": null,
      "outputs": [
        {
          "output_type": "stream",
          "text": [
            "[{'b', 'a'}, {'a', 'c'}, {'b', 'd'}, {'c', 'd'}, {'e', 'd'}]\n"
          ],
          "name": "stdout"
        }
      ]
    },
    {
      "cell_type": "markdown",
      "metadata": {
        "id": "yc0hpUDsueXV"
      },
      "source": [
        "**Directed Graph**\n",
        "\n",
        "\n",
        "![image.png](data:image/png;base64,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)"
      ]
    },
    {
      "cell_type": "code",
      "metadata": {
        "colab": {
          "base_uri": "https://localhost:8080/"
        },
        "id": "x8m9sqJVukHP",
        "outputId": "0df32b7e-035f-456c-bbb1-425f43ea2fa5"
      },
      "source": [
        "# Directed Graph Implementation in Python\n",
        " \n",
        " \n",
        "# data structure to store graph edges\n",
        "class Edge:\n",
        "    def __init__(self, src, dest):\n",
        "        self.src = src\n",
        "        self.dest = dest\n",
        " \n",
        " \n",
        "# class to represent a graph object:\n",
        "class Graph:\n",
        "    # Constructor\n",
        "    def __init__(self, edges, N):\n",
        "        # allocate memory for the adjacency list\n",
        "        self.adj = [[] for _ in range(N)]\n",
        " \n",
        "        # add edges to the undirected graph\n",
        "        for current in edges:\n",
        "            # allocate node in adjacency List from src to dest\n",
        "            self.adj[current.src].append(current.dest)\n",
        " \n",
        " \n",
        "# print adjacency list representation of graph\n",
        "def printGraph(graph):\n",
        "    for src in range(len(graph.adj)):\n",
        "        # print current vertex and all its neighboring vertices\n",
        "        for dest in graph.adj[src]:\n",
        "            print(f\"({src} -> {dest}) \", end=\"\")\n",
        "        print()\n",
        " \n",
        " \n",
        "if __name__ == '__main__':\n",
        " \n",
        "    # Input: Edges in a directed graph\n",
        "    edges = [Edge(0, 1), Edge(1, 2), Edge(2, 0), Edge(2, 1),\n",
        "             Edge(3, 2), Edge(4, 5), Edge(5, 4)]\n",
        " \n",
        "    # Input: No of vertices\n",
        "    N = 6\n",
        " \n",
        "    # construct graph from given list of edges\n",
        "    graph = Graph(edges, N)\n",
        " \n",
        "    # print adjacency list representation of the graph\n",
        "    printGraph(graph)"
      ],
      "execution_count": null,
      "outputs": [
        {
          "output_type": "stream",
          "text": [
            "(0 -> 1) \n",
            "(1 -> 2) \n",
            "(2 -> 0) (2 -> 1) \n",
            "(3 -> 2) \n",
            "(4 -> 5) \n",
            "(5 -> 4) \n"
          ],
          "name": "stdout"
        }
      ]
    },
    {
      "cell_type": "markdown",
      "metadata": {
        "id": "qUf5p73ju1hn"
      },
      "source": [
        "**Weighted Directed Graph**\n",
        "\n",
        "![image.png](data:image/png;base64,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)"
      ]
    },
    {
      "cell_type": "code",
      "metadata": {
        "id": "7qvxfF78vHDj",
        "colab": {
          "base_uri": "https://localhost:8080/"
        },
        "outputId": "c04b44bc-6634-49eb-d61c-9d27a0fae9b1"
      },
      "source": [
        "# Weighted Directed Graph Implementation in Python\n",
        " \n",
        " \n",
        "# data structure to store graph edges\n",
        "class Edge:\n",
        "    def __init__(self, src, dest, weight):\n",
        "        self.src = src\n",
        "        self.dest = dest\n",
        "        self.weight = weight\n",
        " \n",
        " \n",
        "# data structure for adjacency list node\n",
        "class Node:\n",
        "    def __init__(self, value, weight):\n",
        "        self.value = value\n",
        "        self.weight = weight\n",
        " \n",
        " \n",
        "# class to represent a graph object\n",
        "class Graph:\n",
        "    # Constructor to construct graph\n",
        "    def __init__(self, edges, N):\n",
        " \n",
        "        # A list of lists to represent adjacency list\n",
        "        self.adj = [None] * N\n",
        " \n",
        "        # allocate memory for adjacency list\n",
        "        for i in range(N):\n",
        "            self.adj[i] = []\n",
        " \n",
        "        # add edges to the undirected graph\n",
        "        for e in edges:\n",
        "            # allocate node in adjacency List from src to dest\n",
        "            node = Node(e.dest, e.weight)\n",
        "            self.adj[e.src].append(node)\n",
        " \n",
        " \n",
        "# print adjacency list representation of graph\n",
        "def printGraph(graph):\n",
        "    for src in range(len(graph.adj)):\n",
        "        # print current vertex and all its neighboring vertices\n",
        "        for edge in graph.adj[src]:\n",
        "            print(f\"({src} -> {edge.value}, {edge.weight}) \", end='')\n",
        "        print()\n",
        " \n",
        " \n",
        "if __name__ == '__main__':\n",
        " \n",
        "    # Input: Edges in a weighted digraph (as per above diagram)\n",
        "    # Edge(x, y, w) represents an edge from x to y having weight w\n",
        "    edges = [Edge(0, 1, 6), Edge(1, 2, 7), Edge(2, 0, 5), Edge(2, 1, 4),\n",
        "             Edge(3, 2, 10), Edge(4, 5, 1), Edge(5, 4, 3)]\n",
        " \n",
        "    # Input: No of vertices\n",
        "    N = 6\n",
        " \n",
        "    # construct graph from given list of edges\n",
        "    graph = Graph(edges, N)\n",
        " \n",
        "    # print adjacency list representation of the graph\n",
        "    printGraph(graph)"
      ],
      "execution_count": null,
      "outputs": [
        {
          "output_type": "stream",
          "text": [
            "(0 -> 1, 6) \n",
            "(1 -> 2, 7) \n",
            "(2 -> 0, 5) (2 -> 1, 4) \n",
            "(3 -> 2, 10) \n",
            "(4 -> 5, 1) \n",
            "(5 -> 4, 3) \n"
          ],
          "name": "stdout"
        }
      ]
    },
    {
      "cell_type": "markdown",
      "metadata": {
        "id": "hXzD-eMdT2eJ"
      },
      "source": [
        "Prim's Algorithm"
      ]
    },
    {
      "cell_type": "code",
      "metadata": {
        "colab": {
          "base_uri": "https://localhost:8080/"
        },
        "id": "JCbJQaakoKXS",
        "outputId": "e01d10cf-1fa5-4dbc-df57-5ae8546f2e56"
      },
      "source": [
        "# Prim's Algorithm in Python\n",
        "\n",
        "\n",
        "INF = 9999999\n",
        "# number of vertices in graph\n",
        "V = 5\n",
        "# create a 2d array of size 5x5\n",
        "# for adjacency matrix to represent graph\n",
        "G = [[0, 9, 75, 0, 0],\n",
        "     [9, 0, 95, 19, 42],\n",
        "     [75, 95, 0, 51, 66],\n",
        "     [0, 19, 51, 0, 31],\n",
        "     [0, 42, 66, 31, 0]]\n",
        "# create a array to track selected vertex\n",
        "# selected will become true otherwise false\n",
        "selected = [0, 0, 0, 0, 0]\n",
        "# set number of edge to 0\n",
        "no_edge = 0\n",
        "# the number of egde in minimum spanning tree will be\n",
        "# always less than(V - 1), where V is number of vertices in\n",
        "# graph\n",
        "# choose 0th vertex and make it true\n",
        "selected[0] = True\n",
        "# print for edge and weight\n",
        "print(\"Edge : Weight\\n\")\n",
        "while (no_edge < V - 1):\n",
        "    # For every vertex in the set S, find the all adjacent vertices\n",
        "    #, calculate the distance from the vertex selected at step 1.\n",
        "    # if the vertex is already in the set S, discard it otherwise\n",
        "    # choose another vertex nearest to selected vertex  at step 1.\n",
        "    minimum = INF\n",
        "    x = 0\n",
        "    y = 0\n",
        "    for i in range(V):\n",
        "        if selected[i]:\n",
        "            for j in range(V):\n",
        "                if ((not selected[j]) and G[i][j]):  \n",
        "                    # not in selected and there is an edge\n",
        "                    if minimum > G[i][j]:\n",
        "                        minimum = G[i][j]\n",
        "                        x = i\n",
        "                        y = j\n",
        "    print(str(x) + \"-\" + str(y) + \":\" + str(G[x][y]))\n",
        "    selected[y] = True\n",
        "    no_edge += 1"
      ],
      "execution_count": null,
      "outputs": [
        {
          "output_type": "stream",
          "text": [
            "Edge : Weight\n",
            "\n",
            "0-1:9\n",
            "1-3:19\n",
            "3-4:31\n",
            "3-2:51\n"
          ],
          "name": "stdout"
        }
      ]
    },
    {
      "cell_type": "markdown",
      "metadata": {
        "id": "8bn-R0ITr2xG"
      },
      "source": [
        " Depth First Search"
      ]
    },
    {
      "cell_type": "code",
      "metadata": {
        "id": "C0XVug8wr78R",
        "colab": {
          "base_uri": "https://localhost:8080/"
        },
        "outputId": "ac0a9101-46b5-49a4-d32d-6bee00b5016d"
      },
      "source": [
        "# Python3 program to print DFS traversal\n",
        "# from a given given graph\n",
        "from collections import defaultdict\n",
        "class Graph:\n",
        " \n",
        "    # Constructor\n",
        "    def __init__(self):\n",
        " \n",
        "        # default dictionary to store graph\n",
        "        self.graph = defaultdict(list)\n",
        " \n",
        "    # function to add an edge to graph\n",
        "    def addEdge(self, u, v):\n",
        "        self.graph[u].append(v)\n",
        " \n",
        "    # A function used by DFS\n",
        "    def DFSUtil(self, v, visited):\n",
        " \n",
        "        # Mark the current node as visited\n",
        "        # and print it\n",
        "        visited.add(v)\n",
        "        print(v, end=' ')\n",
        " \n",
        "        # Recur for all the vertices\n",
        "        # adjacent to this vertex\n",
        "        for neighbour in self.graph[v]:\n",
        "            if neighbour not in visited:\n",
        "                self.DFSUtil(neighbour, visited)\n",
        " \n",
        "    # The function to do DFS traversal. It uses\n",
        "    # recursive DFSUtil()\n",
        "    def DFS(self, v):\n",
        " \n",
        "        # Create a set to store visited vertices\n",
        "        visited = set()\n",
        " \n",
        "        # Call the recursive helper function\n",
        "        # to print DFS traversal\n",
        "        self.DFSUtil(v, visited)\n",
        " \n",
        "# Driver code\n",
        " \n",
        " \n",
        "# Create a graph given\n",
        "# in the above diagram\n",
        "g = Graph()\n",
        "g.addEdge(0, 1)\n",
        "g.addEdge(0, 2)\n",
        "g.addEdge(1, 2)\n",
        "g.addEdge(2, 0)\n",
        "g.addEdge(2, 3)\n",
        "g.addEdge(3, 3)\n",
        " \n",
        "print(\"Following is DFS from (starting from vertex 2)\")\n",
        "g.DFS(2)"
      ],
      "execution_count": null,
      "outputs": [
        {
          "output_type": "stream",
          "text": [
            "Following is DFS from (starting from vertex 2)\n",
            "2 0 1 3 "
          ],
          "name": "stdout"
        }
      ]
    },
    {
      "cell_type": "markdown",
      "metadata": {
        "id": "AbZoUGySxE08"
      },
      "source": [
        "Breadth First Search "
      ]
    },
    {
      "cell_type": "code",
      "metadata": {
        "id": "qAfBJ-vQxF19",
        "colab": {
          "base_uri": "https://localhost:8080/"
        },
        "outputId": "4fb9002d-2d16-4a13-e3c3-ec8ba4512bbf"
      },
      "source": [
        "\n",
        "# Python3 Program to print BFS traversal\n",
        "# from a given source vertex. BFS(int s)\n",
        "# traverses vertices reachable from s.\n",
        "from collections import defaultdict\n",
        " \n",
        "\n",
        "class Graph:\n",
        " \n",
        "    # Constructor\n",
        "    def __init__(self):\n",
        " \n",
        "        # default dictionary to store graph\n",
        "        self.graph = defaultdict(list)\n",
        " \n",
        "    # function to add an edge to graph\n",
        "    def addEdge(self,u,v):\n",
        "        self.graph[u].append(v)\n",
        " \n",
        "    # Function to print a BFS of graph\n",
        "    def BFS(self, s):\n",
        " \n",
        "        # Mark all the vertices as not visited\n",
        "        visited = [False] * (max(self.graph) + 1)\n",
        " \n",
        "        # Create a queue for BFS\n",
        "        queue = []\n",
        " \n",
        "        # Mark the source node as \n",
        "        # visited and enqueue it\n",
        "        queue.append(s)\n",
        "        visited[s] = True\n",
        " \n",
        "        while queue:\n",
        " \n",
        "            # Dequeue a vertex from \n",
        "            # queue and print it\n",
        "            s = queue.pop(0)\n",
        "            print (s, end = \" \")\n",
        " \n",
        "            # Get all adjacent vertices of the\n",
        "            # dequeued vertex s. If a adjacent\n",
        "            # has not been visited, then mark it\n",
        "            # visited and enqueue it\n",
        "            for i in self.graph[s]:\n",
        "                if visited[i] == False:\n",
        "                    queue.append(i)\n",
        "                    visited[i] = True\n",
        " \n",
        "# Driver code\n",
        " \n",
        "# Create a graph given in\n",
        "# the above diagram\n",
        "g = Graph()\n",
        "g.addEdge(0, 1)\n",
        "g.addEdge(0, 2)\n",
        "g.addEdge(1, 2)\n",
        "g.addEdge(2, 0)\n",
        "g.addEdge(2, 3)\n",
        "g.addEdge(3, 3)\n",
        " \n",
        "print (\"Following is Breadth First Traversal\"\n",
        "                  \" (starting from vertex 2)\")\n",
        "g.BFS(2)"
      ],
      "execution_count": null,
      "outputs": [
        {
          "output_type": "stream",
          "text": [
            "Following is Breadth First Traversal (starting from vertex 2)\n",
            "2 0 3 1 "
          ],
          "name": "stdout"
        }
      ]
    }
  ]
}