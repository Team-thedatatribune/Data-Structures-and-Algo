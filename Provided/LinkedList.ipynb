{
 "cells": [
  {
   "cell_type": "markdown",
   "metadata": {
    "id": "OeC7oxnIn_lv"
   },
   "source": [
    "## How to Create a Linked List\n",
    "(Provided)"
   ]
  },
  {
   "cell_type": "markdown",
   "metadata": {
    "id": "dFPQdUS4oM9Z"
   },
   "source": [
    "First things first, create a class to represent your linked list:"
   ]
  },
  {
   "cell_type": "code",
   "execution_count": 45,
   "metadata": {
    "id": "e-RFhopKn-r7"
   },
   "outputs": [],
   "source": [
    "class LinkedList:\n",
    "    def __init__(self):\n",
    "        self.head = None"
   ]
  },
  {
   "cell_type": "markdown",
   "metadata": {
    "id": "pU-O2s2PoQ8U"
   },
   "source": [
    "The only information you need to store for a linked list is where the list starts (the head of the list). Next, create another class to represent each node of the linked list:"
   ]
  },
  {
   "cell_type": "code",
   "execution_count": 46,
   "metadata": {
    "id": "4CgEZFC_oU32"
   },
   "outputs": [],
   "source": [
    "class Node:\n",
    "    def __init__(self, data):\n",
    "        self.data = data\n",
    "        self.next = None"
   ]
  },
  {
   "cell_type": "markdown",
   "metadata": {
    "id": "em5VTL4-ob3O"
   },
   "source": [
    "In the above class definition, you can see the two main elements of every single node: data and next. You can also add a `__repr__` to both classes to have a more helpful representation of the objects:"
   ]
  },
  {
   "cell_type": "code",
   "execution_count": 47,
   "metadata": {
    "id": "09Rbnz-3oht9"
   },
   "outputs": [],
   "source": [
    "class Node:\n",
    "    def __init__(self, data):\n",
    "        self.data = data\n",
    "        self.next = None\n",
    "\n",
    "    def __repr__(self):\n",
    "        return self.data\n",
    "\n",
    "class LinkedList:\n",
    "    def __init__(self):\n",
    "        self.head = None\n",
    "\n",
    "    def __repr__(self):\n",
    "        node = self.head\n",
    "        nodes = []\n",
    "        while node is not None:\n",
    "            nodes.append(node.data)\n",
    "            node = node.next\n",
    "        nodes.append(\"None\")\n",
    "        return \" -> \".join(nodes)"
   ]
  },
  {
   "cell_type": "markdown",
   "metadata": {
    "id": "JYmftefRpAPV"
   },
   "source": [
    "Example: create a linked list with three nodes:"
   ]
  },
  {
   "cell_type": "code",
   "execution_count": 48,
   "metadata": {
    "colab": {
     "base_uri": "https://localhost:8080/",
     "height": 34
    },
    "id": "4yaBU61tpCA5",
    "outputId": "2678cb27-bf9a-45ca-95f4-18eb3aafe8f3"
   },
   "outputs": [
    {
     "data": {
      "text/plain": [
       "None"
      ]
     },
     "execution_count": 48,
     "metadata": {
      "tags": []
     },
     "output_type": "execute_result"
    }
   ],
   "source": [
    "llist = LinkedList()\n",
    "llist"
   ]
  },
  {
   "cell_type": "code",
   "execution_count": 49,
   "metadata": {
    "colab": {
     "base_uri": "https://localhost:8080/",
     "height": 34
    },
    "id": "pAHNvPjOpLDM",
    "outputId": "72dd099f-d48b-40aa-819a-0d68d35b06be"
   },
   "outputs": [
    {
     "data": {
      "text/plain": [
       "a1 -> None"
      ]
     },
     "execution_count": 49,
     "metadata": {
      "tags": []
     },
     "output_type": "execute_result"
    }
   ],
   "source": [
    "first_node = Node(\"a1\")\n",
    "llist.head = first_node\n",
    "llist"
   ]
  },
  {
   "cell_type": "code",
   "execution_count": 50,
   "metadata": {
    "colab": {
     "base_uri": "https://localhost:8080/",
     "height": 34
    },
    "id": "VpiSmsQIpVu6",
    "outputId": "b2066899-82de-4599-9f9c-64ab672298f1"
   },
   "outputs": [
    {
     "data": {
      "text/plain": [
       "a1 -> b1 -> c1 -> None"
      ]
     },
     "execution_count": 50,
     "metadata": {
      "tags": []
     },
     "output_type": "execute_result"
    }
   ],
   "source": [
    "second_node = Node(\"b1\")\n",
    "third_node = Node(\"c1\")\n",
    "first_node.next = second_node\n",
    "second_node.next = third_node\n",
    "llist"
   ]
  },
  {
   "cell_type": "markdown",
   "metadata": {
    "id": "PzzvU-74pF_E"
   },
   "source": [
    "Now we can initialise linked list’s `__init__()` to create linked lists with some data:"
   ]
  },
  {
   "cell_type": "code",
   "execution_count": 51,
   "metadata": {
    "id": "nYfE52vRp20R"
   },
   "outputs": [],
   "source": [
    "class LinkedList:\n",
    "  \n",
    "  def __init__(self, nodes=None):\n",
    "    self.head = None\n",
    "    if nodes is not None:\n",
    "        node = Node(data=nodes.pop(0))\n",
    "        self.head = node\n",
    "        for elem in nodes:\n",
    "            node.next = Node(data=elem)\n",
    "            node = node.next\n",
    "  \n",
    "  def __repr__(self):\n",
    "        node = self.head\n",
    "        nodes = []\n",
    "        while node is not None:\n",
    "            nodes.append(node.data)\n",
    "            node = node.next\n",
    "        nodes.append(\"None\")\n",
    "        return \" -> \".join(nodes)"
   ]
  },
  {
   "cell_type": "markdown",
   "metadata": {
    "id": "h6w98y_eqE2e"
   },
   "source": [
    "**How to Traverse or navigate through a Linked List**"
   ]
  },
  {
   "cell_type": "markdown",
   "metadata": {
    "id": "mQROF9jbqVsx"
   },
   "source": [
    "Create an `__iter__` to add the same behavior to linked lists that you would expect from a normal list:"
   ]
  },
  {
   "cell_type": "code",
   "execution_count": 52,
   "metadata": {
    "id": "BUdk4YEbqJnG"
   },
   "outputs": [],
   "source": [
    "class LinkedList:\n",
    "  \n",
    "  def __init__(self, nodes=None):\n",
    "    self.head = None\n",
    "    if nodes is not None:\n",
    "        node = Node(data=nodes.pop(0))\n",
    "        self.head = node\n",
    "        for elem in nodes:\n",
    "            node.next = Node(data=elem)\n",
    "            node = node.next\n",
    "  \n",
    "  def __repr__(self):\n",
    "        node = self.head\n",
    "        nodes = []\n",
    "        while node is not None:\n",
    "            nodes.append(node.data)\n",
    "            node = node.next\n",
    "        nodes.append(\"None\")\n",
    "        return \" -> \".join(nodes)\n",
    "  \n",
    "  def __iter__(self):\n",
    "    node = self.head\n",
    "    while node is not None:\n",
    "        yield node\n",
    "        node = node.next"
   ]
  },
  {
   "cell_type": "markdown",
   "metadata": {
    "id": "GbufOm0UqaZm"
   },
   "source": [
    "After yielding the current node, you want to move to the next node on the list. That’s why you add node = node.next. Here’s an example of traversing a random list and printing each node:"
   ]
  },
  {
   "cell_type": "code",
   "execution_count": 53,
   "metadata": {
    "colab": {
     "base_uri": "https://localhost:8080/",
     "height": 34
    },
    "id": "aaedmvBkqpw2",
    "outputId": "5bbfd5bd-bf5f-44ed-f46d-9cc7e55772f9"
   },
   "outputs": [
    {
     "data": {
      "text/plain": [
       "a -> b -> None"
      ]
     },
     "execution_count": 53,
     "metadata": {
      "tags": []
     },
     "output_type": "execute_result"
    }
   ],
   "source": [
    "llist = LinkedList(['a','b'])\n",
    "llist"
   ]
  },
  {
   "cell_type": "markdown",
   "metadata": {
    "id": "mMP4DzWis0TL"
   },
   "source": [
    "**How to Insert a New Node**\n",
    "\n",
    "---\n",
    "Inserting at the Beginning\n",
    "\n",
    "\n",
    "---\n",
    "\n"
   ]
  },
  {
   "cell_type": "markdown",
   "metadata": {
    "id": "lqTd996duX2B"
   },
   "source": [
    "Setting self.head as the next reference of the new node so that the new node points to the old self.head. After that, you need to state that the new head of the list is the inserted node."
   ]
  },
  {
   "cell_type": "code",
   "execution_count": 6,
   "metadata": {
    "id": "86OpZDVatfG6"
   },
   "outputs": [],
   "source": [
    "class Node:\n",
    "    def __init__(self, data):\n",
    "        self.data = data\n",
    "        self.next = None\n",
    "\n",
    "    def __repr__(self):\n",
    "        return self.data\n",
    "        \n",
    "class LinkedList:\n",
    "    def __init__(self, nodes=None):\n",
    "        self.head = None\n",
    "        if nodes is not None:\n",
    "            node = Node(data=nodes.pop(0))\n",
    "            self.head = node\n",
    "            for elem in nodes:\n",
    "                node.next = Node(data=elem)\n",
    "                node = node.next\n",
    "    def __repr__(self):\n",
    "        node = self.head\n",
    "        nodes = []\n",
    "        while node is not None:\n",
    "            nodes.append(node.data)\n",
    "            node = node.next\n",
    "        nodes.append(\"None\")\n",
    "        return \" -> \".join(nodes)\n",
    "    def __iter__(self):\n",
    "        node = self.head\n",
    "        while node is not None:\n",
    "            yield node\n",
    "            node = node.next\n",
    "    def addfirst1(self, node):\n",
    "        node.next = self.head\n",
    "        self.head = node"
   ]
  },
  {
   "cell_type": "code",
   "execution_count": 3,
   "metadata": {
    "colab": {
     "base_uri": "https://localhost:8080/",
     "height": 34
    },
    "id": "wJyEXD0yud-P",
    "outputId": "3a37c8f6-0766-4160-9587-ae3d0c14dc9f"
   },
   "outputs": [
    {
     "data": {
      "text/plain": [
       "None"
      ]
     },
     "execution_count": 3,
     "metadata": {
      "tags": []
     },
     "output_type": "execute_result"
    }
   ],
   "source": [
    "llist = LinkedList()\n",
    "llist"
   ]
  },
  {
   "cell_type": "code",
   "execution_count": 8,
   "metadata": {
    "colab": {
     "base_uri": "https://localhost:8080/",
     "height": 34
    },
    "id": "zdlnhTsHufOX",
    "outputId": "cd451a53-eb78-4cb5-ff9b-42036cfa66db"
   },
   "outputs": [
    {
     "data": {
      "text/plain": [
       "b -> None"
      ]
     },
     "execution_count": 8,
     "metadata": {
      "tags": []
     },
     "output_type": "execute_result"
    }
   ],
   "source": [
    "llist.addfirst1(Node(\"b\"))\n",
    "llist"
   ]
  },
  {
   "cell_type": "code",
   "execution_count": 10,
   "metadata": {
    "colab": {
     "base_uri": "https://localhost:8080/",
     "height": 34
    },
    "id": "r9rgsEsB3tgo",
    "outputId": "9b742310-0971-46cc-ddf0-8122ba04d54c"
   },
   "outputs": [
    {
     "data": {
      "text/plain": [
       "ab -> ab -> b -> None"
      ]
     },
     "execution_count": 10,
     "metadata": {
      "tags": []
     },
     "output_type": "execute_result"
    }
   ],
   "source": [
    "llist.addfirst1(Node(\"ab\"))\n",
    "llist"
   ]
  },
  {
   "cell_type": "markdown",
   "metadata": {
    "id": "0vN2wEBw36KW"
   },
   "source": [
    "Inserting at the End\n",
    "\n",
    "---\n",
    "\n"
   ]
  },
  {
   "cell_type": "markdown",
   "metadata": {
    "id": "FIWN_Kri4N5W"
   },
   "source": [
    "Inserting a new node at the end of the list forces you to traverse the whole linked list first and to add the new node when you reach the end. \n",
    "\n",
    "\n",
    "```\n",
    "  def addend(self, node):\n",
    "    if not self.head:\n",
    "        self.head = node\n",
    "        return\n",
    "    for current_node in self:\n",
    "        pass\n",
    "    current_node.next = node\n",
    "```\n",
    "\n"
   ]
  },
  {
   "cell_type": "code",
   "execution_count": 17,
   "metadata": {
    "id": "g-JNf9CE37PW"
   },
   "outputs": [],
   "source": [
    "class Node:\n",
    "    def __init__(self, data):\n",
    "        self.data = data\n",
    "        self.next = None\n",
    "\n",
    "    def __repr__(self):\n",
    "        return self.data\n",
    "        \n",
    "class LinkedList:\n",
    "  \n",
    "  def __init__(self, nodes=None):\n",
    "    self.head = None\n",
    "    if nodes is not None:\n",
    "        node = Node(data=nodes.pop(0))\n",
    "        self.head = node\n",
    "        for elem in nodes:\n",
    "            node.next = Node(data=elem)\n",
    "            node = node.next\n",
    "\n",
    "  def __repr__(self):\n",
    "        node = self.head\n",
    "        nodes = []\n",
    "        while node is not None:\n",
    "            nodes.append(node.data)\n",
    "            node = node.next\n",
    "        nodes.append(\"None\")\n",
    "        return \" -> \".join(nodes)    \n",
    "\n",
    "  def __iter__(self):\n",
    "    node = self.head\n",
    "    while node is not None:\n",
    "        yield node\n",
    "        node = node.next\n",
    "\n",
    "  def addfirst1(self, node):\n",
    "    node.next = self.head\n",
    "    self.head = node\n",
    "\n",
    "  def addend(self, node):\n",
    "    if not self.head:\n",
    "        self.head = node\n",
    "        return\n",
    "    for current_node in self:\n",
    "        pass\n",
    "    current_node.next = node"
   ]
  },
  {
   "cell_type": "code",
   "execution_count": 15,
   "metadata": {
    "colab": {
     "base_uri": "https://localhost:8080/",
     "height": 34
    },
    "id": "ZpqIa2hB4aOf",
    "outputId": "0f50cc17-5048-4eee-bae2-6ec3210eb920"
   },
   "outputs": [
    {
     "data": {
      "text/plain": [
       "a -> b -> c -> d -> None"
      ]
     },
     "execution_count": 15,
     "metadata": {
      "tags": []
     },
     "output_type": "execute_result"
    }
   ],
   "source": [
    "llist = LinkedList([\"a\", \"b\", \"c\", \"d\"])\n",
    "llist"
   ]
  },
  {
   "cell_type": "code",
   "execution_count": 16,
   "metadata": {
    "colab": {
     "base_uri": "https://localhost:8080/",
     "height": 34
    },
    "id": "3Vgbyg-B4eMl",
    "outputId": "1fa8429e-30bd-425a-aa4c-3f893eedaa00"
   },
   "outputs": [
    {
     "data": {
      "text/plain": [
       "a -> b -> c -> d -> e -> None"
      ]
     },
     "execution_count": 16,
     "metadata": {
      "tags": []
     },
     "output_type": "execute_result"
    }
   ],
   "source": [
    "llist.addend(Node(\"e\"))\n",
    "llist"
   ]
  },
  {
   "cell_type": "markdown",
   "metadata": {
    "id": "TZXU6OIE4XNd"
   },
   "source": [
    "Inserting Between Two Nodes\n",
    "\n",
    "---\n",
    "\n"
   ]
  },
  {
   "cell_type": "markdown",
   "metadata": {
    "id": "AkH6dtrF5Ltr"
   },
   "source": [
    "1. Inserting after an existing node\n",
    "\n",
    "\n",
    "\n",
    "```\n",
    "def addafter(self, target_node_data, new_node):\n",
    "    if not self.head:\n",
    "        raise Exception(\"List is empty\")\n",
    "\n",
    "    for node in self:\n",
    "        if node.data == target_node_data:\n",
    "            new_node.next = node.next\n",
    "            node.next = new_node\n",
    "            return\n",
    "\n",
    "    raise Exception(\"Node with data '%s' not found\" % target_node_data)\n",
    "```\n",
    "\n"
   ]
  },
  {
   "cell_type": "code",
   "execution_count": 1,
   "metadata": {
    "id": "CsucAvA65Gzn"
   },
   "outputs": [],
   "source": [
    "class Node:\n",
    "    def __init__(self, data):\n",
    "        self.data = data\n",
    "        self.next = None\n",
    "\n",
    "    def __repr__(self):\n",
    "        return self.data\n",
    "        \n",
    "class LinkedList:\n",
    "  \n",
    "  def __init__(self, nodes=None):\n",
    "    self.head = None\n",
    "    if nodes is not None:\n",
    "        node = Node(data=nodes.pop(0))\n",
    "        self.head = node\n",
    "        for elem in nodes:\n",
    "            node.next = Node(data=elem)\n",
    "            node = node.next\n",
    "\n",
    "  def __repr__(self):\n",
    "        node = self.head\n",
    "        nodes = []\n",
    "        while node is not None:\n",
    "            nodes.append(node.data)\n",
    "            node = node.next\n",
    "        nodes.append(\"None\")\n",
    "        return \" -> \".join(nodes)    \n",
    "\n",
    "  def __iter__(self):\n",
    "    node = self.head\n",
    "    while node is not None:\n",
    "        yield node\n",
    "        node = node.next\n",
    "\n",
    "  def addfirst1(self, node):\n",
    "    node.next = self.head\n",
    "    self.head = node\n",
    "\n",
    "  def addend(self, node):\n",
    "    if not self.head:\n",
    "        self.head = node\n",
    "        return\n",
    "    for current_node in self:\n",
    "        pass\n",
    "    current_node.next = node\n",
    "  \n",
    "  def addafter(self, target_node_data, new_node):\n",
    "    if not self.head:\n",
    "        raise Exception(\"List is empty\")\n",
    "    for node in self:\n",
    "        if node.data == target_node_data:\n",
    "            new_node.next = node.next\n",
    "            node.next = new_node\n",
    "        return\n",
    "        raise Exception(\"Node with data '%s' not found\" % target_node_data)"
   ]
  },
  {
   "cell_type": "code",
   "execution_count": 2,
   "metadata": {
    "colab": {
     "base_uri": "https://localhost:8080/",
     "height": 300
    },
    "id": "1wi8csRV6BiI",
    "outputId": "151df54c-466d-4f66-8d4d-9a3782c25c2a"
   },
   "outputs": [
    {
     "ename": "Exception",
     "evalue": "ignored",
     "output_type": "error",
     "traceback": [
      "\u001b[0;31m---------------------------------------------------------------------------\u001b[0m",
      "\u001b[0;31mException\u001b[0m                                 Traceback (most recent call last)",
      "\u001b[0;32m<ipython-input-2-3c80828c5a9f>\u001b[0m in \u001b[0;36m<module>\u001b[0;34m()\u001b[0m\n\u001b[1;32m      1\u001b[0m \u001b[0mllist\u001b[0m \u001b[0;34m=\u001b[0m \u001b[0mLinkedList\u001b[0m\u001b[0;34m(\u001b[0m\u001b[0;34m)\u001b[0m\u001b[0;34m\u001b[0m\u001b[0;34m\u001b[0m\u001b[0m\n\u001b[0;32m----> 2\u001b[0;31m \u001b[0mllist\u001b[0m\u001b[0;34m.\u001b[0m\u001b[0maddafter\u001b[0m\u001b[0;34m(\u001b[0m\u001b[0;34m\"a\"\u001b[0m\u001b[0;34m,\u001b[0m \u001b[0mNode\u001b[0m\u001b[0;34m(\u001b[0m\u001b[0;34m\"b\"\u001b[0m\u001b[0;34m)\u001b[0m\u001b[0;34m)\u001b[0m\u001b[0;34m\u001b[0m\u001b[0;34m\u001b[0m\u001b[0m\n\u001b[0m",
      "\u001b[0;32m<ipython-input-1-2e32934a09c2>\u001b[0m in \u001b[0;36maddafter\u001b[0;34m(self, target_node_data, new_node)\u001b[0m\n\u001b[1;32m     47\u001b[0m   \u001b[0;32mdef\u001b[0m \u001b[0maddafter\u001b[0m\u001b[0;34m(\u001b[0m\u001b[0mself\u001b[0m\u001b[0;34m,\u001b[0m \u001b[0mtarget_node_data\u001b[0m\u001b[0;34m,\u001b[0m \u001b[0mnew_node\u001b[0m\u001b[0;34m)\u001b[0m\u001b[0;34m:\u001b[0m\u001b[0;34m\u001b[0m\u001b[0;34m\u001b[0m\u001b[0m\n\u001b[1;32m     48\u001b[0m     \u001b[0;32mif\u001b[0m \u001b[0;32mnot\u001b[0m \u001b[0mself\u001b[0m\u001b[0;34m.\u001b[0m\u001b[0mhead\u001b[0m\u001b[0;34m:\u001b[0m\u001b[0;34m\u001b[0m\u001b[0;34m\u001b[0m\u001b[0m\n\u001b[0;32m---> 49\u001b[0;31m         \u001b[0;32mraise\u001b[0m \u001b[0mException\u001b[0m\u001b[0;34m(\u001b[0m\u001b[0;34m\"List is empty\"\u001b[0m\u001b[0;34m)\u001b[0m\u001b[0;34m\u001b[0m\u001b[0;34m\u001b[0m\u001b[0m\n\u001b[0m\u001b[1;32m     50\u001b[0m     \u001b[0;32mfor\u001b[0m \u001b[0mnode\u001b[0m \u001b[0;32min\u001b[0m \u001b[0mself\u001b[0m\u001b[0;34m:\u001b[0m\u001b[0;34m\u001b[0m\u001b[0;34m\u001b[0m\u001b[0m\n\u001b[1;32m     51\u001b[0m         \u001b[0;32mif\u001b[0m \u001b[0mnode\u001b[0m\u001b[0;34m.\u001b[0m\u001b[0mdata\u001b[0m \u001b[0;34m==\u001b[0m \u001b[0mtarget_node_data\u001b[0m\u001b[0;34m:\u001b[0m\u001b[0;34m\u001b[0m\u001b[0;34m\u001b[0m\u001b[0m\n",
      "\u001b[0;31mException\u001b[0m: List is empty"
     ]
    }
   ],
   "source": [
    "llist = LinkedList()\n",
    "llist.addafter(\"a\", Node(\"b\"))"
   ]
  },
  {
   "cell_type": "code",
   "execution_count": 3,
   "metadata": {
    "colab": {
     "base_uri": "https://localhost:8080/",
     "height": 34
    },
    "id": "HzgZ7lSh6HgY",
    "outputId": "db66d008-f9f6-4a2f-a2e0-ce9e2f3d5a05"
   },
   "outputs": [
    {
     "data": {
      "text/plain": [
       "a -> b -> c -> d -> None"
      ]
     },
     "execution_count": 3,
     "metadata": {
      "tags": []
     },
     "output_type": "execute_result"
    }
   ],
   "source": [
    "llist = LinkedList([\"a\", \"b\", \"c\", \"d\"])\n",
    "llist"
   ]
  },
  {
   "cell_type": "code",
   "execution_count": 5,
   "metadata": {
    "colab": {
     "base_uri": "https://localhost:8080/",
     "height": 34
    },
    "id": "CCXNhoz86L5h",
    "outputId": "71370ee5-2b79-4e3a-a950-fbbc7f8e9c28"
   },
   "outputs": [
    {
     "data": {
      "text/plain": [
       "a -> b -> c -> d -> None"
      ]
     },
     "execution_count": 5,
     "metadata": {
      "tags": []
     },
     "output_type": "execute_result"
    }
   ],
   "source": [
    "llist.addafter(\"c\", Node(\"cc\"))\n",
    "llist"
   ]
  },
  {
   "cell_type": "code",
   "execution_count": 7,
   "metadata": {
    "id": "HTRbqGIr6TSv"
   },
   "outputs": [],
   "source": [
    "llist.addafter(\"f\", Node(\"g\"))"
   ]
  },
  {
   "cell_type": "markdown",
   "metadata": {
    "id": "MtsUSaGR5P96"
   },
   "source": [
    "2. Inserting before an existing node\n",
    "\n",
    "\n",
    "```\n",
    "def add_before(self, target_node_data, new_node):\n",
    "      if not self.head:\n",
    "          raise Exception(\"List is empty\")\n",
    "  \n",
    "      if self.head.data == target_node_data:\n",
    "          return self.add_first(new_node)\n",
    "  \n",
    "      prev_node = self.head\n",
    "      for node in self:\n",
    "         if node.data == target_node_data:\n",
    "             prev_node.next = new_node\n",
    "             new_node.next = node\n",
    "             return\n",
    "         prev_node = node\n",
    " \n",
    "     raise Exception(\"Node with data '%s' not found\" % target_node_data)\n",
    "```\n",
    "\n"
   ]
  },
  {
   "cell_type": "code",
   "execution_count": 1,
   "metadata": {
    "id": "jdAqRDsa5TMF"
   },
   "outputs": [],
   "source": [
    "class Node:\n",
    "    def __init__(self, data):\n",
    "        self.data = data\n",
    "        self.next = None\n",
    "\n",
    "    def __repr__(self):\n",
    "        return self.data\n",
    "        \n",
    "class LinkedList:\n",
    "  \n",
    "  def __init__(self, nodes=None):\n",
    "    self.head = None\n",
    "    if nodes is not None:\n",
    "        node = Node(data=nodes.pop(0))\n",
    "        self.head = node\n",
    "        for elem in nodes:\n",
    "            node.next = Node(data=elem)\n",
    "            node = node.next\n",
    "\n",
    "  def __repr__(self):\n",
    "        node = self.head\n",
    "        nodes = []\n",
    "        while node is not None:\n",
    "            nodes.append(node.data)\n",
    "            node = node.next\n",
    "        nodes.append(\"None\")\n",
    "        return \" -> \".join(nodes)    \n",
    "\n",
    "  def __iter__(self):\n",
    "    node = self.head\n",
    "    while node is not None:\n",
    "        yield node\n",
    "        node = node.next\n",
    "\n",
    "  def addfirst1(self, node):\n",
    "    node.next = self.head\n",
    "    self.head = node\n",
    "\n",
    "  def addend(self, node):\n",
    "    if not self.head:\n",
    "        self.head = node\n",
    "        return\n",
    "    for current_node in self:\n",
    "        pass\n",
    "    current_node.next = node\n",
    "  \n",
    "  def addafter(self, target_node_data, new_node):\n",
    "    if not self.head:\n",
    "        raise Exception(\"List is empty\")\n",
    "\n",
    "    for node in self:\n",
    "        if node.data == target_node_data:\n",
    "            new_node.next = node.next\n",
    "            node.next = new_node\n",
    "            return\n",
    "    raise Exception(\"Node with data '%s' not found\" % target_node_data)\n",
    "\n",
    "  def addbefore(self, target_node_data, new_node):\n",
    "      if not self.head:\n",
    "          raise Exception(\"List is empty\")\n",
    "      if self.head.data == target_node_data:\n",
    "          return self.addfirst1(new_node)\n",
    "      prev_node = self.head\n",
    "      for node in self:\n",
    "         if node.data == target_node_data:\n",
    "             prev_node.next = new_node\n",
    "             new_node.next = node\n",
    "             return\n",
    "         prev_node = node\n",
    "      raise Exception(\"Node with data '%s' not found\" % target_node_data)"
   ]
  },
  {
   "cell_type": "code",
   "execution_count": 2,
   "metadata": {
    "colab": {
     "base_uri": "https://localhost:8080/",
     "height": 300
    },
    "id": "fiqH1eOl6W_Z",
    "outputId": "587838fd-e0ca-4d91-def3-1ea4ae53ea90"
   },
   "outputs": [
    {
     "ename": "Exception",
     "evalue": "ignored",
     "output_type": "error",
     "traceback": [
      "\u001b[0;31m---------------------------------------------------------------------------\u001b[0m",
      "\u001b[0;31mException\u001b[0m                                 Traceback (most recent call last)",
      "\u001b[0;32m<ipython-input-2-d2fb099e79e9>\u001b[0m in \u001b[0;36m<module>\u001b[0;34m()\u001b[0m\n\u001b[1;32m      1\u001b[0m \u001b[0mllist\u001b[0m \u001b[0;34m=\u001b[0m \u001b[0mLinkedList\u001b[0m\u001b[0;34m(\u001b[0m\u001b[0;34m)\u001b[0m\u001b[0;34m\u001b[0m\u001b[0;34m\u001b[0m\u001b[0m\n\u001b[0;32m----> 2\u001b[0;31m \u001b[0mllist\u001b[0m\u001b[0;34m.\u001b[0m\u001b[0maddbefore\u001b[0m\u001b[0;34m(\u001b[0m\u001b[0;34m\"a\"\u001b[0m\u001b[0;34m,\u001b[0m \u001b[0mNode\u001b[0m\u001b[0;34m(\u001b[0m\u001b[0;34m\"a\"\u001b[0m\u001b[0;34m)\u001b[0m\u001b[0;34m)\u001b[0m\u001b[0;34m\u001b[0m\u001b[0;34m\u001b[0m\u001b[0m\n\u001b[0m",
      "\u001b[0;32m<ipython-input-1-c29b3e0f2ef4>\u001b[0m in \u001b[0;36maddbefore\u001b[0;34m(self, target_node_data, new_node)\u001b[0m\n\u001b[1;32m     58\u001b[0m   \u001b[0;32mdef\u001b[0m \u001b[0maddbefore\u001b[0m\u001b[0;34m(\u001b[0m\u001b[0mself\u001b[0m\u001b[0;34m,\u001b[0m \u001b[0mtarget_node_data\u001b[0m\u001b[0;34m,\u001b[0m \u001b[0mnew_node\u001b[0m\u001b[0;34m)\u001b[0m\u001b[0;34m:\u001b[0m\u001b[0;34m\u001b[0m\u001b[0;34m\u001b[0m\u001b[0m\n\u001b[1;32m     59\u001b[0m       \u001b[0;32mif\u001b[0m \u001b[0;32mnot\u001b[0m \u001b[0mself\u001b[0m\u001b[0;34m.\u001b[0m\u001b[0mhead\u001b[0m\u001b[0;34m:\u001b[0m\u001b[0;34m\u001b[0m\u001b[0;34m\u001b[0m\u001b[0m\n\u001b[0;32m---> 60\u001b[0;31m           \u001b[0;32mraise\u001b[0m \u001b[0mException\u001b[0m\u001b[0;34m(\u001b[0m\u001b[0;34m\"List is empty\"\u001b[0m\u001b[0;34m)\u001b[0m\u001b[0;34m\u001b[0m\u001b[0;34m\u001b[0m\u001b[0m\n\u001b[0m\u001b[1;32m     61\u001b[0m       \u001b[0;32mif\u001b[0m \u001b[0mself\u001b[0m\u001b[0;34m.\u001b[0m\u001b[0mhead\u001b[0m\u001b[0;34m.\u001b[0m\u001b[0mdata\u001b[0m \u001b[0;34m==\u001b[0m \u001b[0mtarget_node_data\u001b[0m\u001b[0;34m:\u001b[0m\u001b[0;34m\u001b[0m\u001b[0;34m\u001b[0m\u001b[0m\n\u001b[1;32m     62\u001b[0m           \u001b[0;32mreturn\u001b[0m \u001b[0mself\u001b[0m\u001b[0;34m.\u001b[0m\u001b[0maddfirst1\u001b[0m\u001b[0;34m(\u001b[0m\u001b[0mnew_node\u001b[0m\u001b[0;34m)\u001b[0m\u001b[0;34m\u001b[0m\u001b[0;34m\u001b[0m\u001b[0m\n",
      "\u001b[0;31mException\u001b[0m: List is empty"
     ]
    }
   ],
   "source": [
    "llist = LinkedList()\n",
    "llist.addbefore(\"a\", Node(\"a\"))"
   ]
  },
  {
   "cell_type": "code",
   "execution_count": 3,
   "metadata": {
    "colab": {
     "base_uri": "https://localhost:8080/",
     "height": 34
    },
    "id": "OjGk-jx86fR_",
    "outputId": "251f7411-1101-4f63-8557-be3eeeaf2894"
   },
   "outputs": [
    {
     "data": {
      "text/plain": [
       "b -> c -> None"
      ]
     },
     "execution_count": 3,
     "metadata": {
      "tags": []
     },
     "output_type": "execute_result"
    }
   ],
   "source": [
    "llist = LinkedList([\"b\", \"c\"])\n",
    "llist"
   ]
  },
  {
   "cell_type": "code",
   "execution_count": 4,
   "metadata": {
    "colab": {
     "base_uri": "https://localhost:8080/",
     "height": 34
    },
    "id": "LtEusfSd6j2s",
    "outputId": "567d8e81-f7f4-40a9-f1c2-dcc8d9ff7140"
   },
   "outputs": [
    {
     "data": {
      "text/plain": [
       "a -> b -> c -> None"
      ]
     },
     "execution_count": 4,
     "metadata": {
      "tags": []
     },
     "output_type": "execute_result"
    }
   ],
   "source": [
    "llist.addbefore(\"b\", Node(\"a\"))\n",
    "llist"
   ]
  },
  {
   "cell_type": "code",
   "execution_count": 5,
   "metadata": {
    "colab": {
     "base_uri": "https://localhost:8080/"
    },
    "id": "vOZDqFI66nWY",
    "outputId": "00d88b50-a9ac-4200-a684-8c8907600ed5"
   },
   "outputs": [
    {
     "data": {
      "text/plain": [
       "a -> aa -> b -> bb -> c -> None"
      ]
     },
     "execution_count": 5,
     "metadata": {
      "tags": []
     },
     "output_type": "execute_result"
    }
   ],
   "source": [
    "llist.addbefore(\"b\", Node(\"aa\"))\n",
    "llist.addbefore(\"c\", Node(\"bb\"))\n",
    "llist"
   ]
  },
  {
   "cell_type": "code",
   "execution_count": 6,
   "metadata": {
    "colab": {
     "base_uri": "https://localhost:8080/",
     "height": 249
    },
    "id": "tt2Vm7ew6sWw",
    "outputId": "128310e9-f6cd-4e49-8e97-0f9139df4103"
   },
   "outputs": [
    {
     "ename": "Exception",
     "evalue": "ignored",
     "output_type": "error",
     "traceback": [
      "\u001b[0;31m---------------------------------------------------------------------------\u001b[0m",
      "\u001b[0;31mException\u001b[0m                                 Traceback (most recent call last)",
      "\u001b[0;32m<ipython-input-6-3d681ab237c9>\u001b[0m in \u001b[0;36m<module>\u001b[0;34m()\u001b[0m\n\u001b[0;32m----> 1\u001b[0;31m \u001b[0mllist\u001b[0m\u001b[0;34m.\u001b[0m\u001b[0maddbefore\u001b[0m\u001b[0;34m(\u001b[0m\u001b[0;34m\"n\"\u001b[0m\u001b[0;34m,\u001b[0m \u001b[0mNode\u001b[0m\u001b[0;34m(\u001b[0m\u001b[0;34m\"m\"\u001b[0m\u001b[0;34m)\u001b[0m\u001b[0;34m)\u001b[0m\u001b[0;34m\u001b[0m\u001b[0;34m\u001b[0m\u001b[0m\n\u001b[0m",
      "\u001b[0;32m<ipython-input-1-c29b3e0f2ef4>\u001b[0m in \u001b[0;36maddbefore\u001b[0;34m(self, target_node_data, new_node)\u001b[0m\n\u001b[1;32m     68\u001b[0m              \u001b[0;32mreturn\u001b[0m\u001b[0;34m\u001b[0m\u001b[0;34m\u001b[0m\u001b[0m\n\u001b[1;32m     69\u001b[0m          \u001b[0mprev_node\u001b[0m \u001b[0;34m=\u001b[0m \u001b[0mnode\u001b[0m\u001b[0;34m\u001b[0m\u001b[0;34m\u001b[0m\u001b[0m\n\u001b[0;32m---> 70\u001b[0;31m       \u001b[0;32mraise\u001b[0m \u001b[0mException\u001b[0m\u001b[0;34m(\u001b[0m\u001b[0;34m\"Node with data '%s' not found\"\u001b[0m \u001b[0;34m%\u001b[0m \u001b[0mtarget_node_data\u001b[0m\u001b[0;34m)\u001b[0m\u001b[0;34m\u001b[0m\u001b[0;34m\u001b[0m\u001b[0m\n\u001b[0m",
      "\u001b[0;31mException\u001b[0m: Node with data 'n' not found"
     ]
    }
   ],
   "source": [
    "llist.addbefore(\"n\", Node(\"m\"))"
   ]
  },
  {
   "cell_type": "markdown",
   "metadata": {
    "id": "qH_UZS4w9QGd"
   },
   "source": [
    "**Remove a Node**\n",
    "\n",
    "---\n",
    "\n"
   ]
  },
  {
   "cell_type": "markdown",
   "metadata": {
    "id": "WCrkkrvq-iQ1"
   },
   "source": [
    "To remove a node from a linked list, you first need to traverse the list until you find the node you want to remove. Once you find the target, you want to link its previous and next nodes. This re-linking is what removes the target node from the list."
   ]
  },
  {
   "cell_type": "markdown",
   "metadata": {
    "id": "5yjVTkKG-zxF"
   },
   "source": [
    "\n",
    "```\n",
    "def remove_node(self, target_node_data):\n",
    "  if not self.head:\n",
    "         raise Exception(\"List is empty\") \n",
    "     **  Here first check that your list is not empty **\n",
    "     **  If it is, then you raise an exception. After that, you check if the node to be removed is the current head of the list. If it is, then you want the next node in the list to become the new head. **\n",
    "\n",
    "     if self.head.data == target_node_data:\n",
    "        self.head = self.head.next\n",
    "         return\n",
    "      previous_node = self.head\n",
    "\n",
    "**If none of the above happens, then you start traversing the list looking for the node to be removed. If you find it, then you need to update its previous node to point to its next node, automatically removing the found node from the list. Finally, if you traverse the whole list without finding the node to be removed, then you raise an exception.**\n",
    "\n",
    "     for node in self:\n",
    "         if node.data == target_node_data:\n",
    "             previous_node.next = node.next\n",
    "             return\n",
    "         previous_node = node \n",
    "    raise Exception(\"Node with data '%s' not found\" % target_node_data)\n",
    "```\n",
    "\n"
   ]
  },
  {
   "cell_type": "code",
   "execution_count": 10,
   "metadata": {
    "id": "Mampb0cPBiIa"
   },
   "outputs": [],
   "source": [
    "class Node:\n",
    "    def __init__(self, data):\n",
    "        self.data = data\n",
    "        self.next = None\n",
    "    def __repr__(self):\n",
    "        return self.data\n",
    "        \n",
    "class LinkedList:\n",
    "    def __init__(self, nodes=None):\n",
    "        self.head = None\n",
    "        if nodes is not None:\n",
    "          node = Node(data=nodes.pop(0))\n",
    "          self.head = node\n",
    "        for elem in nodes:\n",
    "            node.next = Node(data=elem)\n",
    "            node = node.next\n",
    "    def __repr__(self):\n",
    "        node = self.head\n",
    "        nodes = []\n",
    "        while node is not None:\n",
    "            nodes.append(node.data)\n",
    "            node = node.next\n",
    "        nodes.append(\"None\")\n",
    "        return \" -> \".join(nodes)    \n",
    "    def __iter__(self):\n",
    "        node = self.head\n",
    "        while node is not None:\n",
    "            yield node\n",
    "            node = node.next\n",
    "    def addfirst1(self, node):\n",
    "        node.next = self.head\n",
    "        self.head = node\n",
    "    def addend(self, node):\n",
    "        if not self.head:\n",
    "          self.head = node\n",
    "          return\n",
    "        for current_node in self:\n",
    "            pass\n",
    "        current_node.next = node\n",
    "    def addafter(self, target_node_data, new_node):\n",
    "        if not self.head:\n",
    "           raise Exception(\"List is empty\")\n",
    "        for node in self:\n",
    "          if node.data == target_node_data:\n",
    "            new_node.next = node.next\n",
    "            node.next = new_node\n",
    "            return\n",
    "        raise Exception(\"Node with data '%s' not found\" % target_node_data)\n",
    "\n",
    "    def addbefore(self, target_node_data, new_node):\n",
    "      if not self.head:\n",
    "          raise Exception(\"List is empty\")\n",
    "      if self.head.data == target_node_data:\n",
    "          return self.addfirst1(new_node)\n",
    "          prev_node = self.head\n",
    "      for node in self:\n",
    "         if node.data == target_node_data:\n",
    "             prev_node.next = new_node\n",
    "             new_node.next = node\n",
    "         return\n",
    "         prev_node = node\n",
    "      raise Exception(\"Node with data '%s' not found\" % target_node_data)\n",
    "  \n",
    "    def remove_node(self, target_node_data):\n",
    "       if not self.head:\n",
    "          raise Exception(\"List is empty\")\n",
    "       if self.head.data == target_node_data:\n",
    "          self.head = self.head.next\n",
    "          return\n",
    "          previous_node = self.head\n",
    "       for node in self:\n",
    "           if node.data == target_node_data:\n",
    "               previous_node.next = node.next\n",
    "               return\n",
    "           previous_node = node \n",
    "           raise Exception(\"Node with data '%s' not found\" % target_node_data)"
   ]
  },
  {
   "cell_type": "code",
   "execution_count": 11,
   "metadata": {
    "colab": {
     "base_uri": "https://localhost:8080/",
     "height": 300
    },
    "id": "i2OzgUxXoTE1",
    "outputId": "770a7570-ca29-4215-ccb2-0a80a9f2531e"
   },
   "outputs": [
    {
     "ename": "TypeError",
     "evalue": "ignored",
     "output_type": "error",
     "traceback": [
      "\u001b[0;31m---------------------------------------------------------------------------\u001b[0m",
      "\u001b[0;31mTypeError\u001b[0m                                 Traceback (most recent call last)",
      "\u001b[0;32m<ipython-input-11-3559a89b9386>\u001b[0m in \u001b[0;36m<module>\u001b[0;34m()\u001b[0m\n\u001b[0;32m----> 1\u001b[0;31m \u001b[0mllist\u001b[0m \u001b[0;34m=\u001b[0m \u001b[0mLinkedList\u001b[0m\u001b[0;34m(\u001b[0m\u001b[0;34m)\u001b[0m\u001b[0;34m\u001b[0m\u001b[0;34m\u001b[0m\u001b[0m\n\u001b[0m\u001b[1;32m      2\u001b[0m \u001b[0mllist\u001b[0m\u001b[0;34m.\u001b[0m\u001b[0mremove_node\u001b[0m\u001b[0;34m(\u001b[0m\u001b[0;34m\"a\"\u001b[0m\u001b[0;34m)\u001b[0m\u001b[0;34m\u001b[0m\u001b[0;34m\u001b[0m\u001b[0m\n",
      "\u001b[0;32m<ipython-input-10-305e7f4615fe>\u001b[0m in \u001b[0;36m__init__\u001b[0;34m(self, nodes)\u001b[0m\n\u001b[1;32m     12\u001b[0m           \u001b[0mnode\u001b[0m \u001b[0;34m=\u001b[0m \u001b[0mNode\u001b[0m\u001b[0;34m(\u001b[0m\u001b[0mdata\u001b[0m\u001b[0;34m=\u001b[0m\u001b[0mnodes\u001b[0m\u001b[0;34m.\u001b[0m\u001b[0mpop\u001b[0m\u001b[0;34m(\u001b[0m\u001b[0;36m0\u001b[0m\u001b[0;34m)\u001b[0m\u001b[0;34m)\u001b[0m\u001b[0;34m\u001b[0m\u001b[0;34m\u001b[0m\u001b[0m\n\u001b[1;32m     13\u001b[0m           \u001b[0mself\u001b[0m\u001b[0;34m.\u001b[0m\u001b[0mhead\u001b[0m \u001b[0;34m=\u001b[0m \u001b[0mnode\u001b[0m\u001b[0;34m\u001b[0m\u001b[0;34m\u001b[0m\u001b[0m\n\u001b[0;32m---> 14\u001b[0;31m         \u001b[0;32mfor\u001b[0m \u001b[0melem\u001b[0m \u001b[0;32min\u001b[0m \u001b[0mnodes\u001b[0m\u001b[0;34m:\u001b[0m\u001b[0;34m\u001b[0m\u001b[0;34m\u001b[0m\u001b[0m\n\u001b[0m\u001b[1;32m     15\u001b[0m             \u001b[0mnode\u001b[0m\u001b[0;34m.\u001b[0m\u001b[0mnext\u001b[0m \u001b[0;34m=\u001b[0m \u001b[0mNode\u001b[0m\u001b[0;34m(\u001b[0m\u001b[0mdata\u001b[0m\u001b[0;34m=\u001b[0m\u001b[0melem\u001b[0m\u001b[0;34m)\u001b[0m\u001b[0;34m\u001b[0m\u001b[0;34m\u001b[0m\u001b[0m\n\u001b[1;32m     16\u001b[0m             \u001b[0mnode\u001b[0m \u001b[0;34m=\u001b[0m \u001b[0mnode\u001b[0m\u001b[0;34m.\u001b[0m\u001b[0mnext\u001b[0m\u001b[0;34m\u001b[0m\u001b[0;34m\u001b[0m\u001b[0m\n",
      "\u001b[0;31mTypeError\u001b[0m: 'NoneType' object is not iterable"
     ]
    }
   ],
   "source": [
    "llist = LinkedList()\n",
    "llist.remove_node(\"a\")"
   ]
  },
  {
   "cell_type": "code",
   "execution_count": 12,
   "metadata": {
    "colab": {
     "base_uri": "https://localhost:8080/",
     "height": 34
    },
    "id": "19FwuQqKoWy_",
    "outputId": "220aad94-0585-40cc-c40a-f7a7a7c13422"
   },
   "outputs": [
    {
     "data": {
      "text/plain": [
       "a -> b -> c -> d -> e -> None"
      ]
     },
     "execution_count": 12,
     "metadata": {
      "tags": []
     },
     "output_type": "execute_result"
    }
   ],
   "source": [
    "llist = LinkedList([\"a\", \"b\", \"c\", \"d\", \"e\"])\n",
    "llist"
   ]
  },
  {
   "cell_type": "code",
   "execution_count": 13,
   "metadata": {
    "colab": {
     "base_uri": "https://localhost:8080/",
     "height": 34
    },
    "id": "-kBNCfd0ogCD",
    "outputId": "f2150dbf-cab1-44a1-8357-50b9f41024cd"
   },
   "outputs": [
    {
     "data": {
      "text/plain": [
       "b -> c -> d -> e -> None"
      ]
     },
     "execution_count": 13,
     "metadata": {
      "tags": []
     },
     "output_type": "execute_result"
    }
   ],
   "source": [
    "llist.remove_node(\"a\")\n",
    "llist"
   ]
  }
 ],
 "metadata": {
  "colab": {
   "name": "LinkedList.ipynb",
   "provenance": []
  },
  "kernelspec": {
   "display_name": "Python 3",
   "language": "python",
   "name": "python3"
  },
  "language_info": {
   "codemirror_mode": {
    "name": "ipython",
    "version": 3
   },
   "file_extension": ".py",
   "mimetype": "text/x-python",
   "name": "python",
   "nbconvert_exporter": "python",
   "pygments_lexer": "ipython3",
   "version": "3.8.3"
  }
 },
 "nbformat": 4,
 "nbformat_minor": 4
}
