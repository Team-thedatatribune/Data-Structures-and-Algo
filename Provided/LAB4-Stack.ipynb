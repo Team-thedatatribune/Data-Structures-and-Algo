{
  "nbformat": 4,
  "nbformat_minor": 0,
  "metadata": {
    "colab": {
      "name": "LAB4.ipynb",
      "provenance": [],
      "collapsed_sections": [],
      "include_colab_link": true
    },
    "kernelspec": {
      "name": "python3",
      "display_name": "Python 3"
    }
  },
  "cells": [
    {
      "cell_type": "markdown",
      "metadata": {
        "id": "view-in-github",
        "colab_type": "text"
      },
      "source": [
        "<a href=\"https://colab.research.google.com/github/ravi-prakash1907/Data-Structures-and-Algo/blob/main/Provided/LAB4-Stack.ipynb\" target=\"_parent\"><img src=\"https://colab.research.google.com/assets/colab-badge.svg\" alt=\"Open In Colab\"/></a>"
      ]
    },
    {
      "cell_type": "markdown",
      "metadata": {
        "id": "MY0MerDSNSb5"
      },
      "source": [
        "##Stack\n"
      ]
    },
    {
      "cell_type": "markdown",
      "metadata": {
        "id": "mxGrCm13NZGl"
      },
      "source": [
        "**1)Using list**"
      ]
    },
    {
      "cell_type": "code",
      "metadata": {
        "id": "RZpOGWRdMinH"
      },
      "source": [
        "# Python program to \n",
        "# demonstrate stack implementation\n",
        "# using list\n",
        "\n",
        "\n",
        "stack = []\n",
        "\n",
        "# append() function to push\n",
        "# element in the stack\n",
        "stack.append('a')\n",
        "stack.append('b')\n",
        "stack.append('c')\n",
        "\n",
        "print('Initial stack')\n",
        "print(stack)\n",
        "\n",
        "# pop() fucntion to pop\n",
        "# element from stack in \n",
        "# LIFO order\n",
        "print('\\nElements poped from stack:')\n",
        "print(stack.pop())\n",
        "print(stack.pop())\n",
        "print(stack.pop())\n",
        "\n",
        "print('\\nStack after elements are poped:')\n",
        "print(stack)\n",
        "\n",
        "# uncommenting print(stack.pop()) \n",
        "# will cause an IndexError \n",
        "# as the stack is now empty\n"
      ],
      "execution_count": null,
      "outputs": []
    },
    {
      "cell_type": "markdown",
      "metadata": {
        "id": "UQ3j_oTvNn5R"
      },
      "source": [
        "**2)using Linked list**"
      ]
    },
    {
      "cell_type": "code",
      "metadata": {
        "id": "d3YWf6krM_nF"
      },
      "source": [
        "class Node: \n",
        "\t\n",
        "\t# Class to create nodes of linked list \n",
        "\t# constructor initializes node automatically \n",
        "\tdef __init__(self,data): \n",
        "\t\tself.data = data \n",
        "\t\tself.next = None\n",
        "\t\n",
        "class Stack: \n",
        "\t\n",
        "\t# head is default NULL \n",
        "\tdef __init__(self): \n",
        "\t\tself.head = None\n",
        "\t\n",
        "\t# Checks if stack is empty \n",
        "\tdef isempty(self): \n",
        "\t\tif self.head == None: \n",
        "\t\t\treturn True\n",
        "\t\telse: \n",
        "\t\t\treturn False\n",
        "\t\n",
        "\t# Method to add data to the stack \n",
        "\t# adds to the start of the stack \n",
        "\tdef push(self,data): \n",
        "\t\t\n",
        "\t\tif self.head == None: \n",
        "\t\t\tself.head=Node(data) \n",
        "\t\t\t\n",
        "\t\telse: \n",
        "\t\t\tnewnode = Node(data) \n",
        "\t\t\tnewnode.next = self.head \n",
        "\t\t\tself.head = newnode \n",
        "\t\n",
        "\t# Remove element that is the current head (start of the stack) \n",
        "\tdef pop(self): \n",
        "\t\t\n",
        "\t\tif self.isempty(): \n",
        "\t\t\treturn None\n",
        "\t\t\t\n",
        "\t\telse: \n",
        "\t\t\t# Removes the head node and makes \n",
        "\t\t\t#the preceeding one the new head \n",
        "\t\t\tpoppednode = self.head \n",
        "\t\t\tself.head = self.head.next\n",
        "\t\t\tpoppednode.next = None\n",
        "\t\t\treturn poppednode.data \n",
        "\t\n",
        "\t# Returns the head node data \n",
        "\tdef peek(self): \n",
        "\t\t\n",
        "\t\tif self.isempty(): \n",
        "\t\t\treturn None\n",
        "\t\t\t\n",
        "\t\telse: \n",
        "\t\t\treturn self.head.data \n",
        "\t\n",
        "\t# Prints out the stack\t \n",
        "\tdef display(self): \n",
        "\t\t\n",
        "\t\titernode = self.head \n",
        "\t\tif self.isempty(): \n",
        "\t\t\tprint(\"Stack Underflow\") \n",
        "\t\t\n",
        "\t\telse: \n",
        "\t\t\t\n",
        "\t\t\twhile(iternode != None): \n",
        "\t\t\t\t\n",
        "\t\t\t\tprint(iternode.data,\"->\",end = \" \") \n",
        "\t\t\t\titernode = iternode.next\n",
        "\t\t\treturn\n",
        "\t\t\n",
        "# Driver code \n",
        "MyStack = Stack() \n",
        "\n",
        "MyStack.push(11) \n",
        "MyStack.push(22) \n",
        "MyStack.push(33) \n",
        "MyStack.push(44) \n",
        "\n",
        "# Display stack elements \n",
        "MyStack.display() \n",
        "\n",
        "# Print top element of stack \n",
        "print(\"\\nTop element is \",MyStack.peek()) \n",
        "\n",
        "# Delete top elements of stack \n",
        "MyStack.pop() \n",
        "MyStack.pop() \n",
        "\n",
        "# Display stack elements \n",
        "MyStack.display() \n",
        "\n",
        "# Print top element of stack \n",
        "print(\"\\nTop element is \", MyStack.peek()) \n",
        "\n",
        "\n"
      ],
      "execution_count": null,
      "outputs": []
    },
    {
      "cell_type": "markdown",
      "metadata": {
        "id": "PtAPJsnENyNS"
      },
      "source": [
        "##Queue"
      ]
    },
    {
      "cell_type": "markdown",
      "metadata": {
        "id": "hUvS4HW7OChL"
      },
      "source": [
        "**1)With list**"
      ]
    },
    {
      "cell_type": "code",
      "metadata": {
        "id": "5WdfshrapAJf"
      },
      "source": [
        "fruits = []\n",
        "\n",
        "# Let's enqueue some fruits into our list\n",
        "fruits.append('banana')\n",
        "fruits.append('grapes')\n",
        "fruits.append('mango')\n",
        "fruits.append('orange')\n",
        "\n",
        "# Now let's dequeue our fruits, we should get 'banana'\n",
        "first_item = fruits.pop(0)\n",
        "print(first_item)\n",
        "\n",
        "# If we dequeue again we'll get 'grapes'\n",
        "first_item = fruits.pop(0)\n",
        "print(first_item)\n",
        "\n",
        "# 'mango' and 'orange' remain\n",
        "print(fruits) # ['c', 'a']"
      ],
      "execution_count": null,
      "outputs": []
    },
    {
      "cell_type": "markdown",
      "metadata": {
        "id": "gTpXYLrpOO_x"
      },
      "source": [
        "**2)With the Deque Library**"
      ]
    },
    {
      "cell_type": "code",
      "metadata": {
        "id": "MIE7U395qLsK"
      },
      "source": [
        "# Python program to \n",
        "# demonstrate queue implementation \n",
        "# using collections.dequeue \n",
        "  \n",
        "  \n",
        "from collections import deque \n",
        "  \n",
        "# Initializing a queue \n",
        "q = deque() \n",
        "  \n",
        "# Adding elements to a queue \n",
        "q.append('a') \n",
        "q.append('b') \n",
        "q.append('c') \n",
        "  \n",
        "print(\"Initial queue\") \n",
        "print(q) \n",
        "  \n",
        "# Removing elements from a queue \n",
        "print(\"\\nElements dequeued from the queue\") \n",
        "print(q.popleft()) \n",
        "print(q.popleft()) \n",
        "print(q.popleft()) \n",
        "  \n",
        "print(\"\\nQueue after removing elements\") \n",
        "print(q) \n",
        "  \n",
        "# Uncommenting q.popleft() \n",
        "# will raise an IndexError \n",
        "# as queue is now empty "
      ],
      "execution_count": null,
      "outputs": []
    },
    {
      "cell_type": "markdown",
      "metadata": {
        "id": "0CcxE3xxOYGU"
      },
      "source": [
        "**3)Using queue**"
      ]
    },
    {
      "cell_type": "code",
      "metadata": {
        "id": "tEahmDU_yqv9"
      },
      "source": [
        "# Python program to \n",
        "# demonstrate implementation of \n",
        "# queue using queue module \n",
        "  \n",
        "  \n",
        "from queue import Queue \n",
        "  \n",
        "# Initializing a queue \n",
        "q = Queue(maxsize = 3) \n",
        "  \n",
        "# qsize() give the maxsize  \n",
        "# of the Queue  \n",
        "print(q.qsize())  \n",
        "  \n",
        "# Adding of element to queue \n",
        "q.put('a') \n",
        "q.put('b') \n",
        "q.put('c') \n",
        "print(q.qsize())   \n",
        "# Return Boolean for Full  \n",
        "# Queue  \n",
        "print(\"\\nFull: \", q.full())  \n",
        "  \n",
        "# Removing element from queue \n",
        "print(\"\\nElements dequeued from the queue\") \n",
        "print(q.get()) \n",
        "print(q.get()) \n",
        "print(q.get()) \n",
        "  \n",
        "# Return Boolean for Empty  \n",
        "# Queue  \n",
        "print(\"\\nEmpty: \", q.empty()) \n",
        "  \n",
        "q.put(1) \n",
        "print(\"\\nEmpty: \", q.empty())  \n",
        "print(\"Full: \", q.full()) \n",
        "  \n",
        "# This would result into Infinite  \n",
        "# Loop as the Queue is empty.  \n",
        "# print(q.get()) "
      ],
      "execution_count": null,
      "outputs": []
    },
    {
      "cell_type": "code",
      "metadata": {
        "id": "YKoVBp4iTQra"
      },
      "source": [
        ""
      ],
      "execution_count": null,
      "outputs": []
    }
  ]
}