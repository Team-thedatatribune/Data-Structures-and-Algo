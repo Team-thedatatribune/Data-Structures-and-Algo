{
  "nbformat": 4,
  "nbformat_minor": 0,
  "metadata": {
    "colab": {
      "name": "Lab 12.ipynb",
      "provenance": [],
      "authorship_tag": "ABX9TyPjkZdrhTLyVI3AbrG7pPyN",
      "include_colab_link": true
    },
    "kernelspec": {
      "name": "python3",
      "display_name": "Python 3"
    }
  },
  "cells": [
    {
      "cell_type": "markdown",
      "metadata": {
        "id": "view-in-github",
        "colab_type": "text"
      },
      "source": [
        "<a href=\"https://colab.research.google.com/github/ravi-prakash1907/Data-Structures-and-Algo/blob/main/Class%20Notebooks/Lab%2012.ipynb\" target=\"_parent\"><img src=\"https://colab.research.google.com/assets/colab-badge.svg\" alt=\"Open In Colab\"/></a>"
      ]
    },
    {
      "cell_type": "markdown",
      "metadata": {
        "id": "_623QeFqQ_B5"
      },
      "source": [
        "# Lec 12"
      ]
    },
    {
      "cell_type": "markdown",
      "metadata": {
        "id": "mXiQYC2fRCR1"
      },
      "source": [
        "## Polymorphism  \n",
        "\n",
        "Python does not support:  \n",
        "1. Method Overloading based on _arguments_ and _number of args._"
      ]
    },
    {
      "cell_type": "code",
      "metadata": {
        "colab": {
          "base_uri": "https://localhost:8080/"
        },
        "id": "FoDoh9PvQwlH",
        "outputId": "01492412-439c-4930-8b67-f2bf04779469"
      },
      "source": [
        "class cls:\n",
        "  # error\n",
        "  def greet(self):\n",
        "    print(\"Welcome!\")\n",
        "  \n",
        "  # error\n",
        "  def greet(self, name):\n",
        "    print(\"Welcome\",name+\"!\")\n",
        "  \n",
        "  def greet(self, name = \"\"):\n",
        "    print(\"Welcome\",name+\"!\")\n",
        "\n",
        "\n",
        "c = cls()\n",
        "c.greet() \n",
        "c.greet(\"Ravi\")"
      ],
      "execution_count": null,
      "outputs": [
        {
          "output_type": "stream",
          "text": [
            "Welcome !\n",
            "Welcome Ravi!\n"
          ],
          "name": "stdout"
        }
      ]
    },
    {
      "cell_type": "markdown",
      "metadata": {
        "id": "6p8FUrSNToww"
      },
      "source": [
        "## Operater Overloading\n",
        "\n",
        "In actual:  \n",
        "1. == -> __eq__() \n",
        "2. () -> __init__()"
      ]
    },
    {
      "cell_type": "code",
      "metadata": {
        "colab": {
          "base_uri": "https://localhost:8080/"
        },
        "id": "oNFW_hW_SFxq",
        "outputId": "19a99d62-d31b-4f4c-e110-291ed1bf995a"
      },
      "source": [
        "class point:\n",
        "  def __init__(self, y = None):\n",
        "    self.x = 3\n",
        "    self.y = y\n",
        "  \n",
        "  def __eq__(self, obj):\n",
        "    if(obj.x == self.x) and (obj.y == self.y):\n",
        "      return True\n",
        "    return False\n",
        "\n",
        "p1 = point(9)\n",
        "p2 = point()\n",
        "\n",
        "print(p1==p2)\n",
        "\n",
        "p2.y = 9\n",
        "print(p1 == p2)"
      ],
      "execution_count": null,
      "outputs": [
        {
          "output_type": "stream",
          "text": [
            "False\n",
            "True\n"
          ],
          "name": "stdout"
        }
      ]
    },
    {
      "cell_type": "code",
      "metadata": {
        "id": "pt8ZTBnBVfGB"
      },
      "source": [
        ""
      ],
      "execution_count": null,
      "outputs": []
    },
    {
      "cell_type": "markdown",
      "metadata": {
        "id": "tGV0X6tWZYsO"
      },
      "source": [
        "## Inheritance  \n",
        "1. Single  \n",
        "2. Multiple \n",
        "3. Multi Level"
      ]
    },
    {
      "cell_type": "code",
      "metadata": {
        "id": "Hiz5JihkZi-Z"
      },
      "source": [
        "class point:\n",
        "  def __init__(self, x = None, y = None):\n",
        "    self.x = x\n",
        "    self.y = y\n",
        "  \n",
        "  def sum(self):\n",
        "    print(\"Sum is {}\".format(self.x + self.y))\n",
        "\n",
        "\n",
        "\n",
        "class newPoint(point):\n",
        "  def setPoint(self, x, y):\n",
        "    self.x = x\n",
        "    self.y = y\n"
      ],
      "execution_count": null,
      "outputs": []
    },
    {
      "cell_type": "code",
      "metadata": {
        "colab": {
          "base_uri": "https://localhost:8080/"
        },
        "id": "phgzmE8bacpk",
        "outputId": "c0e76896-0e35-4d87-c376-a89fd2dca37f"
      },
      "source": [
        "p1 = point(2,3)\n",
        "p1.sum()\n",
        "\n",
        "#p1.setPoint(2,22)\n",
        "\n",
        "###\n",
        "p2 = newPoint(2,3)\n",
        "\n",
        "p2.setPoint(2,22)\n",
        "p2.sum()\n"
      ],
      "execution_count": null,
      "outputs": [
        {
          "output_type": "stream",
          "text": [
            "Sum is 5\n",
            "Sum is 24\n"
          ],
          "name": "stdout"
        }
      ]
    },
    {
      "cell_type": "markdown",
      "metadata": {
        "id": "f_3vxD8_el6w"
      },
      "source": [
        "### Multilevel Inh"
      ]
    },
    {
      "cell_type": "code",
      "metadata": {
        "id": "HvPi3xY-fQq6"
      },
      "source": [
        ""
      ],
      "execution_count": null,
      "outputs": []
    },
    {
      "cell_type": "markdown",
      "metadata": {
        "id": "vbeqWaO5hc-9"
      },
      "source": [
        "### Method Overriding\n",
        "\n",
        "In multiple inheritance, if multiple parent   \n",
        "class contain the same method/propery, what  \n",
        "happens in that situation"
      ]
    },
    {
      "cell_type": "code",
      "metadata": {
        "id": "OijVe9echfZ0"
      },
      "source": [
        "class A:\n",
        "  def display(self):\n",
        "    print(\"Super\")"
      ],
      "execution_count": null,
      "outputs": []
    },
    {
      "cell_type": "markdown",
      "metadata": {
        "id": "uenpdkdikpvs"
      },
      "source": [
        "## **Graphics**\n",
        "\n",
        "1. ```tkinter```   \n",
        "  * for creating GUI  \n",
        "  * IDEA built using tkinter  \n",
        "\n",
        "2. ```turtle```  \n",
        "  * "
      ]
    },
    {
      "cell_type": "markdown",
      "metadata": {
        "id": "sOuu10AlnD14"
      },
      "source": [
        "**other methods**  \n",
        "1. left()  \n",
        "2. right()  \n",
        "3. setheading()"
      ]
    },
    {
      "cell_type": "code",
      "metadata": {
        "id": "oi2EYBX2nyHt"
      },
      "source": [
        "import turtle"
      ],
      "execution_count": null,
      "outputs": []
    },
    {
      "cell_type": "code",
      "metadata": {
        "id": "qfasxgGwoHYn"
      },
      "source": [
        "## works in IDLE\n",
        "\n",
        "turtle.forward(100)\n",
        "turtle.left(90)\n",
        "turtle.forward(100)\n",
        "turtle.left(90)\n",
        "turtle.forward(100)\n",
        "turtle.left(90)\n",
        "turtle.forward(100)"
      ],
      "execution_count": null,
      "outputs": []
    },
    {
      "cell_type": "code",
      "metadata": {
        "id": "gW-_Pp19oR13"
      },
      "source": [
        "# penup()   lift pen\n",
        "# pen down() # able to draw\n",
        "\n",
        "import turtle\n",
        "\n",
        "def drawDash(n):\n",
        "  for i in range(10):\n",
        "    turtle.forward(20)\n",
        "    turtle.penup()\n",
        "    turtle.forward(10)\n",
        "    turtle.pendown()\n",
        "\n",
        "drawDash(10)"
      ],
      "execution_count": null,
      "outputs": []
    },
    {
      "cell_type": "code",
      "metadata": {
        "id": "k6SWaYGp6J6r"
      },
      "source": [
        "import turtle\n",
        "import random\n",
        "\n",
        "def squareDraw(n):\n",
        "  for i in range(n):\n",
        "    side = random.randint(20)\n",
        "    turtle.pendown()\n",
        "    for i in range(4):\n",
        "      turtle.forward(side)\n",
        "      turtle.left(90)\n",
        "    turtle.penup()\n",
        "    turtle.forward(side)\n",
        "      \n",
        "squareDraw(n = 3)"
      ],
      "execution_count": null,
      "outputs": []
    }
  ]
}