{
  "nbformat": 4,
  "nbformat_minor": 0,
  "metadata": {
    "colab": {
      "name": "Mid-Term2 by Ravi.ipynb",
      "provenance": [],
      "collapsed_sections": [
        "V3-6QtQXvYw2",
        "rJRm2V8TPhc8",
        "T9mhe9dxfG9k",
        "QLjNDiEGfN6-",
        "7E8A1MELPZAY",
        "Fne369EKj_ea"
      ],
      "include_colab_link": true
    },
    "kernelspec": {
      "name": "python3",
      "display_name": "Python 3"
    }
  },
  "cells": [
    {
      "cell_type": "markdown",
      "metadata": {
        "id": "view-in-github",
        "colab_type": "text"
      },
      "source": [
        "<a href=\"https://colab.research.google.com/github/ravi-prakash1907/Data-Structures-and-Algo/blob/main/Submissions/Term%20Exams/Mid_Term2.ipynb\" target=\"_parent\"><img src=\"https://colab.research.google.com/assets/colab-badge.svg\" alt=\"Open In Colab\"/></a>"
      ]
    },
    {
      "cell_type": "markdown",
      "metadata": {
        "id": "veO8ydAipmmD"
      },
      "source": [
        "# **Mid-Term 2** (DSA)"
      ]
    },
    {
      "cell_type": "markdown",
      "metadata": {
        "id": "awnk8HIup12u"
      },
      "source": [
        "## **Question A**\n",
        "\n",
        "_\"There are 1000 students attempting x questions in a competitive examination, where x is your birthdate coded as ddmmyyyy format. For example if your birthday was on 11-12-2000, then x=11122000. Each student can score one mark per right answer, and a penalty of-0.5 marks per wrong answer. The negative marks increases per wrong answer as a penalty p=0.5*n, where n represents the n'th wrong answer. The questions are categorised into 5 topics, with number of questions in the categories in the ratio 10:4:3:2:1. All the questions are multiple choice questions (MCQ) type, with possibly more than one correct answer.\"_  \n",
        "\n",
        "Write a program to automatically read the answers, assign marks, and rank the students based on their performance in each of the five topic categories. Your aim should be to reduce time and space complexity, at the same time ensure accurate results.  \n",
        "**(100 points)**  \n",
        "\n",
        "### **Solution:**"
      ]
    },
    {
      "cell_type": "markdown",
      "metadata": {
        "id": "V3-6QtQXvYw2"
      },
      "source": [
        "### Libraries"
      ]
    },
    {
      "cell_type": "code",
      "metadata": {
        "id": "LXrhnPjWnvUU"
      },
      "source": [
        "import matplotlib.pyplot as plt\n",
        "from random import randint\n",
        "import numpy as np\n",
        "%precision 2\n",
        "\n",
        "## for formatted output in python-notebook\n",
        "from IPython.display import clear_output"
      ],
      "execution_count": 26,
      "outputs": []
    },
    {
      "cell_type": "markdown",
      "metadata": {
        "id": "rJRm2V8TPhc8"
      },
      "source": [
        "### Competition Data Tree"
      ]
    },
    {
      "cell_type": "markdown",
      "metadata": {
        "id": "T9mhe9dxfG9k"
      },
      "source": [
        "#### Data of One Topic "
      ]
    },
    {
      "cell_type": "code",
      "metadata": {
        "id": "VTzY_mxhXoyK"
      },
      "source": [
        "############\n",
        "class answerCount:\n",
        "  def __init__(self):\n",
        "    self.__marksCount = None\n",
        "    self.__marks = None\n",
        "  \n",
        "  def setMarks(self, gotList):\n",
        "    self.__marksCount = len(gotList)\n",
        "    self.__marks = sum(gotList)\n",
        "      \n",
        "  def getCount(self):\n",
        "    return self.__marksCount\n",
        "  def getMarks(self):\n",
        "    return self.__marks\n",
        "\n",
        "\n",
        "\n",
        "############\n",
        "class topic:\n",
        "  def __init__(self):\n",
        "    self.topicMarks = None\n",
        "    self.correctAns = answerCount()\n",
        "    self.incorrectAns = answerCount()\n",
        "    self.NA = answerCount()\n",
        "    "
      ],
      "execution_count": 27,
      "outputs": []
    },
    {
      "cell_type": "markdown",
      "metadata": {
        "id": "QLjNDiEGfN6-"
      },
      "source": [
        "#### Result of One Competitor "
      ]
    },
    {
      "cell_type": "code",
      "metadata": {
        "id": "4mNvnVuacH0B"
      },
      "source": [
        "class competitor:\n",
        "  def __init__(self):\n",
        "    self.grade = ''\n",
        "    self.bonus = 0\n",
        "\n",
        "    ## actual marks + pointes based on\n",
        "    ## right/wrong/not-attempted que.\n",
        "    self.bonus = 0\n",
        "    self.marksByTopic = []\n",
        "    self.topics = []\n",
        "  \n",
        "  def addTopic(self,topicMarkList):\n",
        "    newTopic = topic()\n",
        "\n",
        "    newTopic.topicMarks = sum(topicMarkList)\n",
        "    newTopic.correctAns.setMarks(list(filter(lambda x: (x>0), topicMarkList)))\n",
        "    newTopic.incorrectAns.setMarks(list(filter(lambda x: (x<0), topicMarkList)))\n",
        "    newTopic.NA.setMarks(list(filter(lambda x: (x==0), topicMarkList)))\n",
        "\n",
        "    self.topics.append(newTopic)\n",
        "    return newTopic.topicMarks\n",
        "  \n",
        "  def setBonus(self):\n",
        "    bonus = 0\n",
        "    for index in range(len(self.topics)):\n",
        "      topic = self.topics[index]\n",
        "      rights = topic.correctAns.getMarks()\n",
        "      wrongs = topic.incorrectAns.getMarks()\n",
        "      left = topic.NA.getMarks()\n",
        "      \n",
        "      bonus += (index+1)*(rights-wrongs)      \n",
        "      if left != 0 and wrongs < left+right:\n",
        "        bonus += left\n",
        "    \n",
        "    return bonus\n",
        "\n",
        "  \n",
        "  def getTopic(self,topicNum):\n",
        "    if topicNum in list(range(1,6)):\n",
        "      return self.topics[topicNum-1]\n",
        "    return False\n",
        "  \n",
        "  def addResult(self,result):\n",
        "    for topicMarks in result:\n",
        "      self.marksByTopic.append(self.addTopic(topicMarks))\n",
        "    self.bonus = self.setBonus()\n",
        "    return sum(self.marksByTopic)\n",
        "  \n",
        "  def setGrade(self, g):\n",
        "    self.grade = g\n",
        "  \n",
        "  "
      ],
      "execution_count": 28,
      "outputs": []
    },
    {
      "cell_type": "markdown",
      "metadata": {
        "id": "7E8A1MELPZAY"
      },
      "source": [
        "#### Complete Exam Data"
      ]
    },
    {
      "cell_type": "code",
      "metadata": {
        "id": "i1WDe6XD1erq"
      },
      "source": [
        "## creates a list of marks awarded for every question grouped by the 5 topics \n",
        "class competitiveExam:\n",
        "  def __init__(self, answerKey = None):\n",
        "    self.__answerKey = self.__putSolutions(answerKey)\n",
        "    self.scores = None\n",
        "    self.competitors = []\n",
        "  \n",
        "  ###################################################################\n",
        "  ##################      PRIVATE FUNCTIONS      ####################\n",
        "  ###################################################################\n",
        " \n",
        "  ## stores actual solution\n",
        "  def __putSolutions(self,ansKey):\n",
        "    while not ansKey:\n",
        "      try:\n",
        "        ansKey = eval(input(\"Enter the correct solutions as a list: \"))\n",
        "      except:\n",
        "        continue\n",
        "    return ansKey\n",
        "      \n",
        " \n",
        "  ## marks for every question of curent section\n",
        "  def __marksInTopicRcrcv(self, answerSheet, init = 0, stop = None):\n",
        "    unitTopicQ = len(self.__answerKey)//20\n",
        "    init *= unitTopicQ\n",
        "    if stop is None:\n",
        "      stop = len(answerSheet) - unitTopicQ*19\n",
        "    else:\n",
        "      stop *= unitTopicQ\n",
        " \n",
        "    markList = []\n",
        "    incorrectAns = 0\n",
        " \n",
        "    for index in range(init, stop,1):\n",
        "      if answerSheet[index] == self.__answerKey[index]:\n",
        "        markList.append(float(1))\n",
        "      elif answerSheet[index] == None:\n",
        "        markList.append(float(0))\n",
        "      else:\n",
        "        incorrectAns += 1\n",
        "        markList.append(-incorrectAns/2)\n",
        "      \n",
        "    return markList\n",
        " \n",
        " \n",
        "  def __topicMarks(self, answerSheet, init, topic):\n",
        "    topicRes = []\n",
        "    indxList = [10,14,17,19]\n",
        " \n",
        "    if topic == 5:\n",
        "      topicRes.append(self.__marksInTopicRcrcv(answerSheet, init))\n",
        "    else:\n",
        "      stop = indxList[topic-1]\n",
        "      topicRes.append(self.__marksInTopicRcrcv(answerSheet, init, stop))\n",
        "      topicRes += self.__topicMarks(answerSheet, stop, topic+1)\n",
        "        \n",
        "    return topicRes\n",
        " \n",
        " \n",
        "  ####    EXAM STATS    ####\n",
        "  def __getGrade(self, pCent):\n",
        "    if pCent > 95:\n",
        "      return 'O'\n",
        "    elif pCent > 90:\n",
        "      return 'A+'\n",
        "    elif pCent > 85:\n",
        "      return 'A'\n",
        "    elif pCent > 75:\n",
        "      return 'B+'\n",
        "    elif pCent > 65:\n",
        "      return 'B'\n",
        "    elif pCent > 55:\n",
        "      return 'C'\n",
        "    elif pCent > 45:\n",
        "      return 'D'\n",
        "    else:\n",
        "      return 'F'\n",
        " \n",
        "  def __findGrade(self, part, total):\n",
        "    pCent = self.__getPercent(part, total)\n",
        "    return self.__getGrade(pCent)\n",
        "  \n",
        "  def __getPercent(self, part, total):\n",
        "    return part*100/total\n",
        "  \n",
        "  def __getPercentile(self, loc):\n",
        "    gotMarks = self.scores[loc]\n",
        "    studentsBehind = len(self.scores[self.scores < gotMarks])\n",
        "    \n",
        "    dupMarksLoc = list(np.where(self.scores == gotMarks)[0])\n",
        "    if len(dupMarksLoc) > 1:\n",
        "      getWithExtra = lambda x: gotMarks + self.competitors[x].bonus\n",
        "      thisWithExtra = getWithExtra(loc)\n",
        "      dupMarksLoc.remove(loc)     \n",
        "      dupComparision = np.array(list(map(getWithExtra, dupMarksLoc)))\n",
        "      studentsBehind += len(dupComparision[dupComparision < thisWithExtra])\n",
        " \n",
        "    percentile = studentsBehind*100 / len(self.scores)\n",
        "    \n",
        "    return percentile\n",
        "  \n",
        " \n",
        "  ###################################################################\n",
        "  ###################      PUBLIC FUNCTIONS      ####################\n",
        "  ###################################################################\n",
        " \n",
        " \n",
        "  # gives a list of the marks for all of the questions\n",
        "  # grouped by the topic viz.  [[T1], [T2],...., [T5]]\n",
        "  def addCompetitor(self, answerSheet):  \n",
        "    marklist = self.__topicMarks(answerSheet, 0, 1)\n",
        "    \n",
        "    newCompetitor = competitor()\n",
        "    finalMarks = newCompetitor.addResult(marklist)\n",
        "    \n",
        "    newCompetitor.setGrade(self.__findGrade(finalMarks,len(self.__answerKey)))\n",
        " \n",
        "    self.competitors.append(newCompetitor)\n",
        "    if self.scores is None:\n",
        "      self.scores = np.array([finalMarks])\n",
        "    else:\n",
        "      self.scores = np.append(self.scores, finalMarks)\n",
        "    \n",
        "    return len(self.competitors)\n",
        "  \n",
        "  def getCompetitor(self,rNo):\n",
        "    score = self.scores[rNo]\n",
        "    competitorData = self.competitors[rNo]\n",
        "    return (competitorData,score)\n",
        " \n",
        "  \n",
        "  \n",
        "  ###########################################################################\n",
        "  ###########################################################################\n",
        " \n",
        "  ###########################################################################\n",
        "  ###########################################################################\n",
        "  def gradingSys(self):\n",
        "    print(\"\\nMaximum Marks:  \",len(self.__answerKey),\"\\n\"+\"-\"*20,\"\\n\")\n",
        "    print(\"Marks (%) \\t\\t Grade Assigned\\n\",\"\\n\"+\"-\"*9,\"\\t\\t\",\"-\"*15,\"\\n\")\n",
        "    for percent in [95, 90, 85, 75, 65, 55, 45]:\n",
        "      print(\"Above {}% \\t\\t\\t{}\".format(percent, self.__findGrade(percent+1,100)))\n",
        "    print(\"Below or Equals to {}% \\t\\t{}\".format(45, self.__findGrade(45,100)))\n",
        " \n",
        "  def competitionStats(self):\n",
        "    if len(self.competitors) > 0:\n",
        "      MM = len(self.__answerKey)\n",
        "      ttlStudents = len(self.competitors)\n",
        "      omitGrade = lambda x: x.grade\n",
        "      gradelist = list(map(omitGrade, self.competitors))\n",
        " \n",
        "      gradeDict = {}\n",
        "      for grd in ['O','A+','A','B+','B','C','D','F']:\n",
        "        gradeDict[grd] = len(list(filter(lambda x: (x==grd), gradelist)))\n",
        "      \n",
        "      #############\n",
        "      print(\"\"\"\n",
        "      Maximum Marks: {}\n",
        "      Total students: {}\n",
        "      Average Marks scored by students: {}\n",
        "      Topper\\'s Marks: {} \\t(scored by {} student(s))\n",
        "      \"\"\".format(MM, ttlStudents, sum(self.scores)/ttlStudents, max(self.scores), \n",
        "                 len(list(filter(lambda x: (x==max(self.scores)), self.scores)))))\n",
        " \n",
        "      print(\"\\n\\nOverall Outcome of Competition (grade distribution among all competitors): \\n\")\n",
        "      keys, values = gradeDict.keys(), gradeDict.values()\n",
        "      plt.bar(range(len(values)), values, color='b')\n",
        "      plt.xticks(range(len(values)), keys)\n",
        "      plt.show()\n",
        "    else:\n",
        "      print(\"Results will be out soon!! Keep checking the portal!\")\n",
        " \n",
        "  def competitorStats(self):\n",
        "    if len(self.competitors) > 0:\n",
        "      MM = len(self.__answerKey)\n",
        "      unitSecMarks = MM//20\n",
        "      mmByTopic = list(unitSecMarks*i for i in [10,4,3,2,1])\n",
        " \n",
        "      index = int(input(\"Enter the Roll Number (0 to {}): \".format(len(self.competitors))))\n",
        "      \n",
        "      if index >= len(self.competitors):\n",
        "        print(\"Results will be out soon!! Keep checking the portal!\")\n",
        "        return False\n",
        "      \n",
        "      thisCompetitor,finalScore = self.getCompetitor(index)\n",
        "      grades = thisCompetitor.grade\n",
        "      marksByTopic = thisCompetitor.marksByTopic\n",
        " \n",
        "      print(\"\"\"\n",
        "      Roll No.: {}\n",
        "      Marks Scored: {}/{}  ({}%)\\n\n",
        "      Grade: {}\n",
        "      Percentile: {}\n",
        "      Maximum scored in: Topic-{}   ({} marks)\n",
        "      Minimum scored in: Topic-{}   ({} marks)\n",
        "      \"\"\".format(index, finalScore, MM, self.__getPercent(finalScore,MM), \n",
        "                 grades, self.__getPercentile(index), \n",
        "                 marksByTopic.index(max(marksByTopic))+1, max(marksByTopic), \n",
        "                 marksByTopic.index(min(marksByTopic))+1, min(marksByTopic)))\n",
        " \n",
        "      topics = ['Topic-1', 'Topic-2', 'Topic-3', 'Topic-4', 'Topic-5']\n",
        "      topicPCent = []\n",
        " \n",
        "      for i in range(len(marksByTopic)):\n",
        "        topicPCent.append(self.__getPercent(marksByTopic[i],mmByTopic[i]))\n",
        "      \n",
        "      print(\"\\n\\nMark Distribution by Topic: \\n\")\n",
        "      ## topicPCent can be kept as it is from above for loop\n",
        "      topicPCent = marksByTopic\n",
        "      plt.bar(range(len(topicPCent)), topicPCent, color='b')\n",
        "      plt.xticks(range(len(topicPCent)), topics)\n",
        "      plt.show()\n",
        "      return True\n",
        "    else:\n",
        "      print(\"Results will be out soon!! Keep checking the portal!\")\n",
        "      return False"
      ],
      "execution_count": 32,
      "outputs": []
    },
    {
      "cell_type": "markdown",
      "metadata": {
        "id": "ilzx6oBZjBwN"
      },
      "source": [
        "### Driver Code"
      ]
    },
    {
      "cell_type": "markdown",
      "metadata": {
        "id": "Fne369EKj_ea"
      },
      "source": [
        "#### Menu"
      ]
    },
    {
      "cell_type": "code",
      "metadata": {
        "id": "eHal-u7_FaZl"
      },
      "source": [
        "def menu():\n",
        "  print(\"\"\"\n",
        "         Main-Menu\n",
        "        -----------\\n\n",
        "        1) Evaluate an Answersheet\n",
        "        2) Upload & Evaluate All 1000 Answersheets (autometically)\n",
        "        3) Overall Exam Stats\n",
        "        4) Check a Result\n",
        "        5) Grading Criteria\n",
        "\n",
        "        ** Any other key to exit!\n",
        "        \"\"\")\n",
        "  return input(\"\\nEnter your choice: \")"
      ],
      "execution_count": 30,
      "outputs": []
    },
    {
      "cell_type": "markdown",
      "metadata": {
        "id": "_v2c5WWVkCjz"
      },
      "source": [
        "#### Main Function"
      ]
    },
    {
      "cell_type": "code",
      "metadata": {
        "id": "F0HEeBZvE9j6",
        "colab": {
          "base_uri": "https://localhost:8080/",
          "height": 1000
        },
        "outputId": "75b1a64f-ba75-4057-c649-078c992ae974"
      },
      "source": [
        "if __name__ == '__main__':\n",
        "  # 20 questions with all ans as 1  ---->  replace 20 by num of questions\n",
        "  thisCompetitiveExam = competitiveExam(answerKey = [1]*20)\n",
        " \n",
        "  while True:\n",
        "    clear_output()  \n",
        "    ch = menu()\n",
        "    \n",
        "    ## Decision\n",
        "    if ch == '1':\n",
        "      clear_output(wait=True)\n",
        "      ans = [1,0]*10\n",
        "      if thisCompetitiveExam.addCompetitor(ans):\n",
        "        print(\"Graded Successfully!/n\")\n",
        "      input(\"\\nPress Enter!!\") \n",
        " \n",
        "    elif ch == '2':\n",
        "      clear_output(wait=True)\n",
        "      del(thisCompetitiveExam)\n",
        "      ####\n",
        "      numOfQue = 500 #19071999\n",
        "      ansKey = [1]*numOfQue\n",
        "      thisCompetitiveExam = competitiveExam(answerKey = ansKey)\n",
        "      for rNo in range(1000):\n",
        "        answerSheet = []\n",
        "        for i in range(numOfQue):\n",
        "          num = randint(1,1000)%100\n",
        "          if num%10 == 0:\n",
        "            answerSheet.append(0)\n",
        "          else:\n",
        "            answerSheet.append(1)\n",
        "        Count = thisCompetitiveExam.addCompetitor(answerSheet)\n",
        "      ####\n",
        "      print(\"Result of {} students is ready!\\n\".format(Count))\n",
        "      thisCompetitiveExam.competitionStats()\n",
        "      input(\"\\nPress Enter!!\") \n",
        " \n",
        "    elif ch == '3':\n",
        "      clear_output(wait=True)\n",
        "      thisCompetitiveExam.competitionStats()\n",
        "      input(\"\\nPress Enter!!\") \n",
        " \n",
        "    elif ch =='4':\n",
        "      clear_output(wait=True)\n",
        "      running = 'y'\n",
        "      while running in ['Y', 'y']:\n",
        "        thisCompetitiveExam.competitorStats()\n",
        "        running = input(\"\\nCheck Another Result (Y/N):\")\n",
        " \n",
        "    elif ch =='5':\n",
        "      clear_output(wait=True)\n",
        "      thisCompetitiveExam.gradingSys()\n",
        "      input(\"\\nPress Enter!!\") \n",
        " \n",
        "    else:      \n",
        "      clear_output(wait=True)\n",
        "      del(thisCompetitiveExam)\n",
        "      print(\"Good Bye!\")\n",
        "      break"
      ],
      "execution_count": 41,
      "outputs": [
        {
          "output_type": "stream",
          "text": [
            "Good Bye!\n"
          ],
          "name": "stdout"
        }
      ]
    }
  ]
}
