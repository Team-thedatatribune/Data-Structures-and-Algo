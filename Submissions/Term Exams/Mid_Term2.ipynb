{
  "nbformat": 4,
  "nbformat_minor": 0,
  "metadata": {
    "colab": {
      "name": "Mid-Term2 by Ravi.ipynb",
      "provenance": [],
      "collapsed_sections": [
        "Fne369EKj_ea",
        "_v2c5WWVkCjz"
      ],
      "authorship_tag": "ABX9TyN5JmJELLROgDgytKjsJ66P",
      "include_colab_link": true
    },
    "kernelspec": {
      "name": "python3",
      "display_name": "Python 3"
    }
  },
  "cells": [
    {
      "cell_type": "markdown",
      "metadata": {
        "id": "view-in-github",
        "colab_type": "text"
      },
      "source": [
        "<a href=\"https://colab.research.google.com/github/ravi-prakash1907/Data-Structures-and-Algo/blob/main/Submissions/Term%20Exams/Mid_Term2.ipynb\" target=\"_parent\"><img src=\"https://colab.research.google.com/assets/colab-badge.svg\" alt=\"Open In Colab\"/></a>"
      ]
    },
    {
      "cell_type": "markdown",
      "metadata": {
        "id": "veO8ydAipmmD"
      },
      "source": [
        "# **Mid-Term 2** (DSA)\n"
      ]
    },
    {
      "cell_type": "markdown",
      "metadata": {
        "id": "awnk8HIup12u"
      },
      "source": [
        "## **Question A**\n",
        "\n",
        "_\"There are 1000 students attempting x questions in a competitive examination, where x is your birthdate coded as ddmmyyyy format. For example if your birthday was on 11-12-2000, then x=11122000. Each student can score one mark per right answer, and a penalty of-0.5 marks per wrong answer. The negative marks increases per wrong answer as a penalty p=0.5*n, where n represents the n'th wrong answer. The questions are categorised into 5 topics, with number of questions in the categories in the ratio 10:4:3:2:1. All the questions are multiple choice questions (MCQ) type, with possibly more than one correct answer.\"_  \n",
        "\n",
        "Write a program to automatically read the answers, assign marks, and rank the students based on their performance in each of the five topic categories. Your aim should be to reduce time and space complexity, at the same time ensure accurate results.  \n",
        "**(100 points)**  \n",
        "\n",
        "### **Solution:**"
      ]
    },
    {
      "cell_type": "markdown",
      "metadata": {
        "id": "V3-6QtQXvYw2"
      },
      "source": [
        "### Libraries"
      ]
    },
    {
      "cell_type": "code",
      "metadata": {
        "id": "LXrhnPjWnvUU"
      },
      "source": [
        "import numpy as np\n",
        "import matplotlib.pyplot as plt\n",
        "from random import randint\n",
        "%precision 2\n",
        "\n",
        "## for formatted output in python-notebook\n",
        "from IPython.display import clear_output"
      ],
      "execution_count": 142,
      "outputs": []
    },
    {
      "cell_type": "markdown",
      "metadata": {
        "id": "rJRm2V8TPhc8"
      },
      "source": [
        "### Competition Data Tree"
      ]
    },
    {
      "cell_type": "markdown",
      "metadata": {
        "id": "T9mhe9dxfG9k"
      },
      "source": [
        "#### Data of One Topic "
      ]
    },
    {
      "cell_type": "code",
      "metadata": {
        "id": "VTzY_mxhXoyK"
      },
      "source": [
        "############\n",
        "class answerCount:\n",
        "  def __init__(self):\n",
        "    self.__marksCount = None\n",
        "    self.__marks = None\n",
        "  \n",
        "  def setMarks(self, gotList):\n",
        "    self.__marksCount = len(gotList)\n",
        "    self.__marks = sum(gotList)\n",
        "      \n",
        "  def getCount(self):\n",
        "    return self.__marksCount\n",
        "  def getMarks(self):\n",
        "    return self.__marks\n",
        "\n",
        "\n",
        "\n",
        "############\n",
        "class topic:\n",
        "  def __init__(self):\n",
        "    self.topicMarks = None\n",
        "    self.correctAns = answerCount()\n",
        "    self.incorrectAns = answerCount()"
      ],
      "execution_count": 143,
      "outputs": []
    },
    {
      "cell_type": "markdown",
      "metadata": {
        "id": "QLjNDiEGfN6-"
      },
      "source": [
        "#### Result of One Competitor "
      ]
    },
    {
      "cell_type": "code",
      "metadata": {
        "id": "4mNvnVuacH0B"
      },
      "source": [
        "class competitor:\n",
        "  def __init__(self):\n",
        "    self.grade = ''\n",
        "    self.marksByTopic = []\n",
        "    self.topics = []\n",
        "  \n",
        "  def addTopic(self,topicMarkList):\n",
        "    newTopic = topic()\n",
        "\n",
        "    newTopic.topicMarks = sum(topicMarkList)\n",
        "    newTopic.correctAns.setMarks(list(filter(lambda x: (x>0), topicMarkList)))\n",
        "    newTopic.incorrectAns.setMarks(list(filter(lambda x: (x<0), topicMarkList)))\n",
        "\n",
        "    self.topics.append(newTopic)\n",
        "    return newTopic.topicMarks\n",
        "  \n",
        "  def getTopic(self,topicNum):\n",
        "    if topicNum in list(range(1,6)):\n",
        "      return self.topics[topicNum-1]\n",
        "    return False\n",
        "  \n",
        "  def addResult(self,result):\n",
        "    for topicMarks in result:\n",
        "      self.marksByTopic.append(self.addTopic(topicMarks))\n",
        "    return sum(self.marksByTopic)\n",
        "  \n",
        "  def setGrade(self, g):\n",
        "    self.grade = g\n",
        "  "
      ],
      "execution_count": 144,
      "outputs": []
    },
    {
      "cell_type": "markdown",
      "metadata": {
        "id": "7E8A1MELPZAY"
      },
      "source": [
        "#### Complete Exam Data"
      ]
    },
    {
      "cell_type": "code",
      "metadata": {
        "id": "i1WDe6XD1erq"
      },
      "source": [
        "## creates a list of marks awarded for every question grouped by the 5 topics \n",
        "class competitiveExam:\n",
        "  def __init__(self, answerKey = None):\n",
        "    self.__answerKey = self.__putSolutions(answerKey)\n",
        "    self.scores = []\n",
        "    self.competitors = []\n",
        "  \n",
        "  ## stores actual solution\n",
        "  def __putSolutions(self,ansKey):\n",
        "    while not ansKey:\n",
        "      try:\n",
        "        ansKey = eval(input(\"Enter the correct solutions as a list: \"))\n",
        "      except:\n",
        "        continue\n",
        "    return ansKey\n",
        "      \n",
        "  \n",
        "  ###########################################################################\n",
        "  ###########################################################################\n",
        "\n",
        "\n",
        "  ## counts total questions in current topic\n",
        "  def __queInTopic(self,topicNum):\n",
        "    unitTopicQ = len(self.__answerKey)//20\n",
        "\n",
        "    if topicNum == 1:\n",
        "      return unitTopicQ*10\n",
        "    \n",
        "    elif topicNum == 2:\n",
        "      return unitTopicQ*4\n",
        "    \n",
        "    elif topicNum == 3:\n",
        "      return unitTopicQ*3\n",
        "    \n",
        "    elif topicNum == 4:\n",
        "      return unitTopicQ*2\n",
        "    \n",
        "    ## puts all left questions in section as the year of birth may or may not be\n",
        "    ## divisible by 20 leading to impossible division of question\n",
        "    ## in ratio 10:4:3:2:1\n",
        "    elif topicNum == 5:\n",
        "      return len(self.__answerKey) - unitTopicQ*19\n",
        "    \n",
        "    else:\n",
        "      return 0\n",
        "  \n",
        "  ## returns the index of questions for current topic/section\n",
        "  def __topicSlice(self,topicNum):\n",
        "    prvTopics = lambda x: list(range(1,x))\n",
        "    tillThisTopic = lambda x: list(range(1,x+1))\n",
        "\n",
        "    # index of first question of this section\n",
        "    begIndex = sum(list(map(self.__queInTopic,prvTopics(topicNum))))\n",
        "    # index of last question of this section\n",
        "    endIndex = sum(list(map(self.__queInTopic,tillThisTopic(topicNum))))\n",
        "\n",
        "    return (begIndex, endIndex)\n",
        "  \n",
        "  \n",
        "  ###########################################################################\n",
        "  ###########################################################################\n",
        "\n",
        "\n",
        "  ## marks for every question of curent section\n",
        "  def __marksInTopic(self, answerSheet, topicNum):\n",
        "    sectionRange = self.__topicSlice(topicNum)\n",
        "    init = sectionRange[0] \n",
        "    stop = sectionRange[1]\n",
        "\n",
        "    markList = []\n",
        "    incorrectAns = 0\n",
        "\n",
        "    for index in range(init, stop,1):\n",
        "      if answerSheet[index] == self.__answerKey[index]:\n",
        "        markList.append(float(1))\n",
        "      elif answerSheet[index] == None:\n",
        "        markList.append(float(0))\n",
        "      elif answerSheet[index] != self.__answerKey[index]:\n",
        "        incorrectAns += 1\n",
        "        markList.append(float(-incorrectAns/2))\n",
        "    \n",
        "    return markList\n",
        "  \n",
        "  \n",
        "  ###########################################################################\n",
        "  ###########################################################################\n",
        "\n",
        "  \n",
        "  # gives a list of the marks for all of the questions\n",
        "  # grouped by the topic viz.  [[T1], [T2],...., [T5]]\n",
        "  def addCompetitor(self, answerSheet):\n",
        "    marklist = []\n",
        "    for topic in range(1,6):\n",
        "      marklist.append(self.__marksInTopic(answerSheet, topic))\n",
        "    \n",
        "    newCompetitor = competitor()\n",
        "    finalMarks = newCompetitor.addResult(marklist)\n",
        "    newCompetitor.setGrade(self.findGrade(finalMarks,len(self.__answerKey)))\n",
        "\n",
        "    self.competitors.append(newCompetitor)\n",
        "    self.scores.append(finalMarks)\n",
        "  \n",
        "  def getCompetitor(self,rNo):\n",
        "    score = self.scores[rNo]\n",
        "    competitorData = self.competitors[rNo]\n",
        "    return (competitorData,score)\n",
        "\n",
        "  \n",
        "  \n",
        "  ###########################################################################\n",
        "  ###########################################################################\n",
        "\n",
        "  ####    EXAM STATS    ####\n",
        "  def getGrade(self, pCent):\n",
        "    if pCent > 95:\n",
        "      return 'O'\n",
        "    elif pCent > 90:\n",
        "      return 'A+'\n",
        "    elif pCent > 85:\n",
        "      return 'A'\n",
        "    elif pCent > 75:\n",
        "      return 'B+'\n",
        "    elif pCent > 65:\n",
        "      return 'B'\n",
        "    elif pCent > 55:\n",
        "      return 'C'\n",
        "    elif pCent > 45:\n",
        "      return 'D'\n",
        "    else:\n",
        "      return 'F'\n",
        "\n",
        "  def findGrade(self, part, total):\n",
        "    pCent = self.getPercent(part, total)\n",
        "    return self.getGrade(pCent)\n",
        "  \n",
        "  def getPercent(self, part, total):\n",
        "    return part*100/total\n",
        "  \n",
        "  ###########################################################################\n",
        "  ###########################################################################\n",
        "  def gradingSys(self):\n",
        "    print(\"\\nMaximum Marks:  \",len(self.__answerKey),\"\\n\"+\"-\"*20,\"\\n\")\n",
        "    print(\"Marks (%) \\t\\t Grade Assigned\\n\",\"\\n\"+\"-\"*9,\"\\t\\t\",\"-\"*15,\"\\n\")\n",
        "    for percent in [95, 90, 85, 75, 65, 55, 45]:\n",
        "      print(\"Above {}% \\t\\t\\t{}\".format(percent, self.findGrade(percent+1,100)))\n",
        "    print(\"Below or Equals to {}% \\t\\t{}\".format(45, self.findGrade(45,100)))\n",
        "\n",
        "  def competitionStats(self):\n",
        "    if len(self.competitors) > 0:\n",
        "      MM = len(self.__answerKey)\n",
        "      omitGrade = lambda x: x.grade\n",
        "      gradelist = list(map(omitGrade, self.competitors))\n",
        "\n",
        "      gradeDict = {}\n",
        "      for grd in ['O','A+','A','B+','B','C','D','F']:\n",
        "        gradeDict[grd] = len(list(filter(lambda x: (x==grd), gradelist)))\n",
        "      \n",
        "      #############\n",
        "      print(\"\"\"\n",
        "      Maximum Marks: {}\n",
        "      Average Marks scored by students: {}\n",
        "      Toppers Marks: {} \\t(scored by {} student(s))\n",
        "      \"\"\".format(MM, sum(self.scores)/MM, max(self.scores), \n",
        "                 len(list(filter(lambda x: (x==max(self.scores)), self.scores)))))\n",
        "\n",
        "\n",
        "      print(\"\\n\\nOverall Outcome of Competition: \\n\")\n",
        "      keys, values = gradeDict.keys(), gradeDict.values()\n",
        "      plt.bar(range(len(values)), values, color='b')\n",
        "      plt.xticks(range(len(values)), keys)\n",
        "      plt.show()\n",
        "    else:\n",
        "      print(\"Results will be out soon!! Keep checking the portal!\")\n",
        "\n",
        "  def competitorStats(self):\n",
        "    if len(self.competitors) > 0:\n",
        "      MM = len(self.__answerKey)\n",
        "      mmByTopic = list(map(self.__queInTopic,list(range(1,6))))\n",
        "\n",
        "      index = int(input(\"Enter the roll number (0 to {}): \".format(len(self.competitors))))\n",
        "      if index >= len(self.competitors):\n",
        "        print(\"Results will be out soon!! Keep checking the portal!\")\n",
        "        return False\n",
        "      \n",
        "      thisCompetitor,finalScore = self.getCompetitor(index)\n",
        "      grades = thisCompetitor.grade\n",
        "      marksByTopic = thisCompetitor.marksByTopic\n",
        "\n",
        "      print(\"\"\"\n",
        "      Roll No.: {}\n",
        "      Marks Scored: {}/{}  ({}%)\\n\n",
        "      Grade: {}\n",
        "      Maximum scored in: Topic-{}   ({} marks)\n",
        "      Minimum scored in: Topic-{}   ({} marks)\n",
        "      \"\"\".format(index, finalScore, MM, float(self.getPercent(finalScore,MM)), \n",
        "                grades, marksByTopic.index(max(marksByTopic))+1, max(marksByTopic), \n",
        "                marksByTopic.index(min(marksByTopic))+1, min(marksByTopic)))\n",
        "\n",
        "      topics = ['Topic-1', 'Topic-2', 'Topic-3', 'Topic-4', 'Topic-5']\n",
        "      topicPCent = []\n",
        "\n",
        "      for i in range(len(marksByTopic)):\n",
        "        topicPCent.append(self.getPercent(marksByTopic[i],mmByTopic[i]))\n",
        "      \n",
        "      print(\"\\n\\nMark Distribution by Topic: \\n\")\n",
        "      ## topicPCent can be kept as it is from above for loop\n",
        "      topicPCent = marksByTopic\n",
        "      plt.bar(range(len(topicPCent)), topicPCent, color='b')\n",
        "      plt.xticks(range(len(topicPCent)), topics)\n",
        "      plt.show()\n",
        "      return True\n",
        "    else:\n",
        "      print(\"Results will be out soon!! Keep checking the portal!\")\n",
        "      return False\n",
        "    "
      ],
      "execution_count": 162,
      "outputs": []
    },
    {
      "cell_type": "markdown",
      "metadata": {
        "id": "ilzx6oBZjBwN"
      },
      "source": [
        "### Driver Code"
      ]
    },
    {
      "cell_type": "markdown",
      "metadata": {
        "id": "Fne369EKj_ea"
      },
      "source": [
        "#### Menu"
      ]
    },
    {
      "cell_type": "code",
      "metadata": {
        "id": "eHal-u7_FaZl"
      },
      "source": [
        "def menu():\n",
        "  print(\"\"\"\n",
        "         Main-Menu\n",
        "        -----------\\n\n",
        "        1) Evaluate an Answersheet\n",
        "        2) Upload & Evaluate All 100 Answersheets (autometically)\n",
        "        3) Overall Exam Stats\n",
        "        4) Check Your Result\n",
        "        5) Grading Criteria\n",
        "\n",
        "        ** Any other key to exit!\n",
        "        \"\"\")\n",
        "  return input(\"\\nEnter your choice: \")"
      ],
      "execution_count": 146,
      "outputs": []
    },
    {
      "cell_type": "markdown",
      "metadata": {
        "id": "_v2c5WWVkCjz"
      },
      "source": [
        "#### Main Function"
      ]
    },
    {
      "cell_type": "code",
      "metadata": {
        "id": "F0HEeBZvE9j6",
        "colab": {
          "base_uri": "https://localhost:8080/",
          "height": 520
        },
        "outputId": "4cc025cc-dda2-46e8-8ff6-39a2944d7434"
      },
      "source": [
        "if __name__ == '__main__':\n",
        "  # 20 questions with all ans as 1  ---->  replace 20 by num of questions\n",
        "  thisCompetitiveExam = competitiveExam(answerKey = [1]*20)\n",
        "\n",
        "  while True:\n",
        "    clear_output()  \n",
        "    ch = menu()\n",
        "    \n",
        "    ## Decision\n",
        "    if ch == '1':\n",
        "      clear_output(wait=True)\n",
        "      ans = [1,0]*10\n",
        "      if thisCompetitiveExam.addCompetitor(ans):\n",
        "        print(\"Graded Successfully!/n\")\n",
        "      input(\"\\nPress Enter!!\") \n",
        "\n",
        "    elif ch == '2':\n",
        "      clear_output(wait=True)\n",
        "      ####\n",
        "      numOfQue = 100 #19071999\n",
        "      ansKey = [1]*numOfQue\n",
        "      thisCompetitiveExam = competitiveExam(answerKey = ansKey)\n",
        "      for rNo in range(100):\n",
        "        answerSheet = []\n",
        "        for i in range(numOfQue):\n",
        "          num = 1\n",
        "          if randint(1,1000)%7 == 0:\n",
        "            num = 0\n",
        "          answerSheet.append(num)\n",
        "        thisCompetitiveExam.addCompetitor(answerSheet)\n",
        "      ####\n",
        "      print(\"Results are ready!\\n\")\n",
        "      input(\"\\nPress Enter!!\") \n",
        "\n",
        "    elif ch == '3':\n",
        "      clear_output(wait=True)\n",
        "      thisCompetitiveExam.competitionStats()\n",
        "      input(\"\\nPress Enter!!\") \n",
        "\n",
        "    elif ch =='4':\n",
        "      clear_output(wait=True)\n",
        "      thisCompetitiveExam.competitorStats()\n",
        "      input(\"\\nPress Enter!!\") \n",
        "\n",
        "    elif ch =='5':\n",
        "      clear_output(wait=True)\n",
        "      thisCompetitiveExam.gradingSys()\n",
        "      input(\"\\nPress Enter!!\") \n",
        "\n",
        "    else:      \n",
        "      clear_output(wait=True)\n",
        "      print(\"Good Bye!\")\n",
        "      break\n",
        "\n"
      ],
      "execution_count": 164,
      "outputs": [
        {
          "output_type": "stream",
          "text": [
            "Good Bye!\n"
          ],
          "name": "stdout"
        }
      ]
    }
  ]
}