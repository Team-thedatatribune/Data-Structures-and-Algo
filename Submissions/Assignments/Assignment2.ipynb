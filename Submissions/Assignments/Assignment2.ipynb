{
  "nbformat": 4,
  "nbformat_minor": 0,
  "metadata": {
    "colab": {
      "name": "Untitled2.ipynb",
      "provenance": [],
      "authorship_tag": "ABX9TyMLZeotETWjW+nnuNfvn2tk",
      "include_colab_link": true
    },
    "kernelspec": {
      "name": "python3",
      "display_name": "Python 3"
    }
  },
  "cells": [
    {
      "cell_type": "markdown",
      "metadata": {
        "id": "view-in-github",
        "colab_type": "text"
      },
      "source": [
        "<a href=\"https://colab.research.google.com/github/ravi-prakash1907/Data-Structures-and-Algo/blob/main/Submissions/Assignments/Assignment2.ipynb\" target=\"_parent\"><img src=\"https://colab.research.google.com/assets/colab-badge.svg\" alt=\"Open In Colab\"/></a>"
      ]
    },
    {
      "cell_type": "markdown",
      "metadata": {
        "id": "YXfaLpAfT1Th"
      },
      "source": [
        "# Assignment 2\n",
        "\n",
        "### Linked List"
      ]
    },
    {
      "cell_type": "code",
      "metadata": {
        "id": "lQfp86vg9Gcb"
      },
      "source": [
        "# creating a NODE\n",
        "\n",
        "## how a single node looks like \n",
        "class Node:\n",
        "  def __init__(self, data):\n",
        "    self.data = data\n",
        "    self.next = None"
      ],
      "execution_count": null,
      "outputs": []
    },
    {
      "cell_type": "code",
      "metadata": {
        "id": "yx4vAY1R86_8",
        "outputId": "cbb9bf93-712a-4086-9418-ceda6a30811a",
        "colab": {
          "base_uri": "https://localhost:8080/"
        }
      },
      "source": [
        "# creating a linked list\n",
        "## insertion and traversal\n",
        "\n",
        "class linkedList:\n",
        "  def __init__(self):\n",
        "    self.head = None\n",
        "\n",
        "  def __checkUnderflow(self):\n",
        "    if self.head == None:\n",
        "      print(\"Oops!!! List is empty!\")\n",
        "      return True\n",
        "    return False\n",
        "  \n",
        "  #################################################\n",
        "\n",
        "  # insert at begining\n",
        "  def push(self, newData):\n",
        "    newNode = Node(newData)\n",
        "    newNode.next = self.head # points to node that was head earlier\n",
        "    self.head = newNode # making new node as head\n",
        "  \n",
        "  # insert at a specific location (Data)\n",
        "  def insertAfter(self, prevData, newData):\n",
        "    temp = self.head\n",
        "    while((temp.data is not prevData) and (temp is not None)):\n",
        "      temp = temp.next\n",
        "    if temp is None:\n",
        "      print(prevData,\" itself does not exist!!\")\n",
        "    else:\n",
        "      newNode = Node(newData)\n",
        "      newNode.next = temp.next\n",
        "      temp.next = newNode\n",
        "    return\n",
        "  \n",
        "  # insert at the end\n",
        "  def append(self, newNode):\n",
        "    newNode = Node(newNode)\n",
        "    if self.head is None:\n",
        "      self.head = newNode\n",
        "    else:\n",
        "      last = self.head\n",
        "      while(last.next):\n",
        "        last = last.next\n",
        "      last.next = newNode\n",
        "    return\n",
        "\n",
        "  #################################################\n",
        "\n",
        "  # deletion\n",
        "  def deleteData(self, data):\n",
        "    if self.__checkUnderflow():\n",
        "      return\n",
        "    \n",
        "    temp = self.head    \n",
        "    if temp.data == data:\n",
        "      self.head = self.head.next\n",
        "      return\n",
        "    else:\n",
        "      while((temp.next is not None) and (temp.next.data is not data)):\n",
        "        temp = temp.next\n",
        "      if temp.next is None:\n",
        "        print(\"No such element in list! Can\\'t delete!!\")\n",
        "      else:\n",
        "        temp.next = temp.next.next\n",
        "      return\n",
        "  \n",
        "  def deleteNode(self, nodeNum):\n",
        "    if self.__checkUnderflow():\n",
        "      return\n",
        "    \n",
        "    if nodeNum == 1:\n",
        "      self.head = self.head.next\n",
        "      return\n",
        "    else:\n",
        "      count = 2\n",
        "      temp = self.head\n",
        "      while(count != nodeNum):\n",
        "        temp = temp.next\n",
        "        count += 1\n",
        "      if temp is None:\n",
        "        print(\"List has fewer nodes! Can\\'t delete!!\")\n",
        "      else:\n",
        "        temp.next = temp.next.next\n",
        "    return\n",
        "\n",
        "\n",
        "\n",
        "  #################################################\n",
        "\n",
        "  # printing\n",
        "  def printList(self):\n",
        "    temp = self.head\n",
        "    while(temp):\n",
        "      print(temp.data)\n",
        "      temp = temp.next\n",
        "    return\n",
        "\n",
        "\n",
        "## implementation\n",
        "if __name__ == '__main__':\n",
        "  lList = linkedList()\n",
        "  \n",
        "  # insertion ->   1,2,3,4\n",
        "  print(\"\\nList after adding 1, 2, 3 & 4\")\n",
        "  lList.append(1)\n",
        "  lList.append(2)\n",
        "  lList.append(3)\n",
        "  lList.append(4)\n",
        "  # display\n",
        "  lList.printList()\n",
        "\n",
        "  lList.push(0) # at beg\n",
        "  # display\n",
        "  print(\"\\nList after adding 0 in beginning\")\n",
        "  lList.printList()\n",
        "\n",
        "  # adding 5 between 2 and 3\n",
        "  lList.insertAfter(2,5) # after 2\n",
        "  # display\n",
        "  print(\"\\nList after adding 5 between 2 & 3\")\n",
        "  lList.printList()\n",
        "\n",
        "  # deleting node having data 4\n",
        "  lList.deleteData(4)\n",
        "  # display\n",
        "  print(\"\\nList after deleting 4\")\n",
        "  lList.printList()\n",
        "\n",
        "  # deleting 2nd node\n",
        "  lList.deleteNode(2)\n",
        "  # display\n",
        "  print(\"\\nList after deleting second node\")\n",
        "  lList.printList()\n",
        "\n",
        "  # add 6 at the end\n",
        "  print(\"\\nList after adding 6 at the end\")\n",
        "  lList.append(6)\n",
        "  # display\n",
        "  lList.printList()\n",
        "\n",
        "  # deleting 1st node\n",
        "  lList.deleteNode(1)\n",
        "  # display\n",
        "  print(\"\\nList after deleting first node\")\n",
        "  lList.printList()\n",
        "\n"
      ],
      "execution_count": null,
      "outputs": [
        {
          "output_type": "stream",
          "text": [
            "\n",
            "List after adding 1, 2, 3 & 4\n",
            "1\n",
            "2\n",
            "3\n",
            "4\n",
            "\n",
            "List after adding 0 in beginning\n",
            "0\n",
            "1\n",
            "2\n",
            "3\n",
            "4\n",
            "\n",
            "List after adding 5 between 2 & 3\n",
            "0\n",
            "1\n",
            "2\n",
            "5\n",
            "3\n",
            "4\n",
            "\n",
            "List after deleting 4\n",
            "0\n",
            "1\n",
            "2\n",
            "5\n",
            "3\n",
            "\n",
            "List after deleting second node\n",
            "0\n",
            "2\n",
            "5\n",
            "3\n",
            "\n",
            "List after adding 6 at the end\n",
            "0\n",
            "2\n",
            "5\n",
            "3\n",
            "6\n",
            "\n",
            "List after deleting first node\n",
            "2\n",
            "5\n",
            "3\n",
            "6\n"
          ],
          "name": "stdout"
        }
      ]
    },
    {
      "cell_type": "markdown",
      "metadata": {
        "id": "XtgYT6qLT_sg"
      },
      "source": [
        "### Swap 2 numbers\n",
        "\n"
      ]
    },
    {
      "cell_type": "code",
      "metadata": {
        "id": "IXGWvlaF9X3c",
        "outputId": "8d2a7c41-a052-4c5e-e34e-7f5a18f0cea1",
        "colab": {
          "base_uri": "https://localhost:8080/"
        }
      },
      "source": [
        "## Write a python program to swap two numbers.\n",
        "\n",
        "num1 = int(input(\"Enter first number: \"))\n",
        "num2 = int(input(\"Enter second number: \"))\n",
        "\n",
        "print(\"\\nBefore Swapping: \")\n",
        "print(\"num1 = \",num1,\"  num2 = \",num2)\n",
        "\n",
        "# swapping\n",
        "num1 += num2\n",
        "num2 = num1 - num2\n",
        "num1 -= num2\n",
        "\n",
        "print(\"\\nAfter Swapping: \")\n",
        "print(\"num1 = \",num1,\"  num2 = \",num2)"
      ],
      "execution_count": 1,
      "outputs": [
        {
          "output_type": "stream",
          "text": [
            "Enter first number: 2\n",
            "Enter second number: 3\n",
            "\n",
            "Before Swapping: \n",
            "num1 =  2   num2 =  3\n",
            "\n",
            "After Swapping: \n",
            "num1 =  3   num2 =  2\n"
          ],
          "name": "stdout"
        }
      ]
    },
    {
      "cell_type": "markdown",
      "metadata": {
        "id": "MkRS92axUSzq"
      },
      "source": [
        "### Swap 2 arrays"
      ]
    },
    {
      "cell_type": "code",
      "metadata": {
        "id": "gxqT3rTLUG10",
        "outputId": "d62abd78-a642-47a3-9cd0-7a5f63b0f677",
        "colab": {
          "base_uri": "https://localhost:8080/"
        }
      },
      "source": [
        "## Write a python program to swap two arrays.\n",
        "\n",
        "def getData(size):\n",
        "    arr = []\n",
        "    for i in range (0,size):\n",
        "        arr.append(input(\"Enter an element: \"))\n",
        "    return arr\n",
        "\n",
        "\n",
        "len1 = int(input(\"Enter the size of first array: \"))\n",
        "arr1 = getData(len1)\n",
        "len2 = int(input(\"\\nEnter the size of second array: \"))\n",
        "arr2 = getData(len2)\n",
        "\n",
        "\n",
        "print(\"\\nBefore Swapping: \")\n",
        "print(\"array-1 = \",arr1,\" | array-2 = \",arr2)\n",
        "\n",
        "# swapping\n",
        "temp = arr1\n",
        "arr1 = arr2\n",
        "arr2 = temp\n",
        "del temp\n",
        "\n",
        "print(\"\\nAfter Swapping: \")\n",
        "print(\"array-1 = \",arr1,\" | array-2 = \",arr2)"
      ],
      "execution_count": 7,
      "outputs": [
        {
          "output_type": "stream",
          "text": [
            "Enter the size of first array: 3\n",
            "Enter an element: 1\n",
            "Enter an element: 2\n",
            "Enter an element: 3\n",
            "\n",
            "Enter the size of second array: 4\n",
            "Enter an element: 4\n",
            "Enter an element: 5\n",
            "Enter an element: 6\n",
            "Enter an element: 7\n",
            "\n",
            "Before Swapping: \n",
            "array-1 =  ['1', '2', '3']  | array-2 =  ['4', '5', '6', '7']\n",
            "\n",
            "After Swapping: \n",
            "array-1 =  ['4', '5', '6', '7']  | array-2 =  ['1', '2', '3']\n"
          ],
          "name": "stdout"
        }
      ]
    },
    {
      "cell_type": "markdown",
      "metadata": {
        "id": "ZM8ZPjM3U1eD"
      },
      "source": [
        "### Concatinate 2 strings"
      ]
    },
    {
      "cell_type": "code",
      "metadata": {
        "id": "Aihy31DzUaQX",
        "outputId": "4c71a21a-0594-4130-82c4-b054cf67d304",
        "colab": {
          "base_uri": "https://localhost:8080/"
        }
      },
      "source": [
        "## Write a python program to concatenate two strings.\n",
        "\n",
        "def concat(s1, s2):\n",
        "    return s1+s2\n",
        "\n",
        "str1 = input(\"Enter first string: \")\n",
        "str2 = input(\"Enter second string: \")\n",
        "\n",
        "joined = concat(str1, str2)\n",
        "print(\"\\nConcatinated string: \",joined)"
      ],
      "execution_count": 8,
      "outputs": [
        {
          "output_type": "stream",
          "text": [
            "Enter first string: Hello\n",
            "Enter second string: Ravi!\n",
            "\n",
            "Concatinated string:  HelloRavi!\n"
          ],
          "name": "stdout"
        }
      ]
    },
    {
      "cell_type": "markdown",
      "metadata": {
        "id": "c-rf9XlhbgfD"
      },
      "source": [
        "### Largest 2 numbers of an array"
      ]
    },
    {
      "cell_type": "code",
      "metadata": {
        "id": "arahGzwqaRM-",
        "outputId": "48649394-f87d-4150-a63c-da3266cc5346",
        "colab": {
          "base_uri": "https://localhost:8080/"
        }
      },
      "source": [
        "## Write a python program to find the Largest Two Numbers in a given Array\n",
        "\n",
        "import numpy as np\n",
        "\n",
        "temp = []\n",
        "size = int(input(\"Size of array: \"))\n",
        "print(\"Enter\", size,\" elements!\")\n",
        "\n",
        "for i in range (0,size):\n",
        "    temp.append(int(input(\"\")))\n",
        "\n",
        "print(\"\\nYour array: \",temp)\n",
        "# taking the unique elements\n",
        "arr = np.array(list(dict.fromkeys(temp)))\n",
        "\n",
        "if np.size(arr) >= 2:\n",
        "    arr = np.sort(arr)\n",
        "    print(\"\\nLargest 2 numbers in array: \\n\", arr[-1],\" & \",arr[-2])\n",
        "elif np.size(arr) == 1:\n",
        "    print(\"\\nArray has only one unique element: \",arr[-1])"
      ],
      "execution_count": 9,
      "outputs": [
        {
          "output_type": "stream",
          "text": [
            "Size of array: 6\n",
            "Enter 6  elements!\n",
            "1\n",
            "0\n",
            "3\n",
            "8\n",
            "6\n",
            "4\n",
            "\n",
            "Your array:  [1, 0, 3, 8, 6, 4]\n",
            "\n",
            "Largest 2 numbers in array: \n",
            " 8  &  6\n"
          ],
          "name": "stdout"
        }
      ]
    },
    {
      "cell_type": "code",
      "metadata": {
        "id": "t2f8YtzIcALX"
      },
      "source": [
        "\n"
      ],
      "execution_count": null,
      "outputs": []
    }
  ]
}