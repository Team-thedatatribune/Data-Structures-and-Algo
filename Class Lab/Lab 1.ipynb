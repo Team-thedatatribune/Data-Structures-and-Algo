{
 "cells": [
  {
   "cell_type": "markdown",
   "metadata": {
    "id": "AeIL6LBFkC1L"
   },
   "source": [
    "# Lab 1\n",
    "\n",
    "[![Open In Colab](https://colab.research.google.com/assets/colab-badge.svg)](https://colab.research.google.com/github/googlecolab/colabtools/blob/master/notebooks/colab-github-demo.ipynb)"
   ]
  },
  {
   "cell_type": "markdown",
   "metadata": {
    "id": "53A-USZYpGvH"
   },
   "source": [
    "### Working with Premitive Data Types"
   ]
  },
  {
   "cell_type": "code",
   "execution_count": null,
   "metadata": {
    "colab": {
     "base_uri": "https://localhost:8080/",
     "height": 68
    },
    "id": "ERVdxVMdnbTU",
    "outputId": "2b9fbe95-32fd-4285-e058-5d8216dff3fb"
   },
   "outputs": [
    {
     "name": "stdout",
     "output_type": "stream",
     "text": [
      "4\n",
      "2.2\n",
      "8.8\n"
     ]
    }
   ],
   "source": [
    "x=4    # Int\n",
    "y=2.2   # float\n",
    "z=x*y   # float\n",
    "\n",
    "print(x)\n",
    "print(y)\n",
    "print(z)"
   ]
  },
  {
   "cell_type": "code",
   "execution_count": null,
   "metadata": {
    "colab": {
     "base_uri": "https://localhost:8080/",
     "height": 68
    },
    "id": "9n3sMyUkof-h",
    "outputId": "0407cc20-4e13-42c9-9c31-e5f2fe6521cb"
   },
   "outputs": [
    {
     "name": "stdout",
     "output_type": "stream",
     "text": [
      "1.7999999999999998\n",
      "8.8\n",
      "1.8181818181818181\n"
     ]
    }
   ],
   "source": [
    "print(x-y)   # gives representation err (as o/p 1.7999999...8 instead of 1.8)\n",
    " \n",
    "print(x*y)\n",
    "print(x/y)"
   ]
  },
  {
   "cell_type": "code",
   "execution_count": null,
   "metadata": {
    "colab": {
     "base_uri": "https://localhost:8080/",
     "height": 51
    },
    "id": "XESJFCd_o-oM",
    "outputId": "c7999057-8641-41b7-8aef-0defbbfde25a"
   },
   "outputs": [
    {
     "name": "stdout",
     "output_type": "stream",
     "text": [
      "Brown \n",
      "Fox \n"
     ]
    }
   ],
   "source": [
    "## Strings\n",
    "String1 = \"Brown \"\n",
    "String2 = 'Fox '\n",
    "\n",
    "print(String1)\n",
    "print(String2)"
   ]
  },
  {
   "cell_type": "code",
   "execution_count": null,
   "metadata": {
    "colab": {
     "base_uri": "https://localhost:8080/",
     "height": 35
    },
    "id": "XOFapyJSqkie",
    "outputId": "d376ea68-729d-42a8-d345-52016d487c63"
   },
   "outputs": [
    {
     "data": {
      "application/vnd.google.colaboratory.intrinsic+json": {
       "type": "string"
      },
      "text/plain": [
       "'A Quick Brown Fox Jumps over the lazy dog!'"
      ]
     },
     "execution_count": 11,
     "metadata": {
      "tags": []
     },
     "output_type": "execute_result"
    }
   ],
   "source": [
    "prefix = \"A Quick \"\n",
    "end=\"Jumps over the lazy dog!\"\n",
    "\n",
    "full = prefix+String1+String2+end\n",
    "full"
   ]
  },
  {
   "cell_type": "code",
   "execution_count": null,
   "metadata": {
    "colab": {
     "base_uri": "https://localhost:8080/",
     "height": 35
    },
    "id": "w6iXn22mq40m",
    "outputId": "df9fd643-0bb1-47e3-89cf-e433f78bb796"
   },
   "outputs": [
    {
     "data": {
      "application/vnd.google.colaboratory.intrinsic+json": {
       "type": "string"
      },
      "text/plain": [
       "'A Quick A Quick A Quick '"
      ]
     },
     "execution_count": 19,
     "metadata": {
      "tags": []
     },
     "output_type": "execute_result"
    }
   ],
   "source": [
    "len(full)\n",
    "\n",
    "String1[0] # B\n",
    "prefix[2:] # Quick \n",
    "String1 + String2\n",
    "prefix * 3  # 'A Quick ' thrice"
   ]
  },
  {
   "cell_type": "code",
   "execution_count": null,
   "metadata": {
    "colab": {
     "base_uri": "https://localhost:8080/",
     "height": 34
    },
    "id": "kOppwMrLrDdy",
    "outputId": "d3148eb0-13bd-40a7-cc02-5fbcab8de9a2"
   },
   "outputs": [
    {
     "name": "stdout",
     "output_type": "stream",
     "text": [
      "42\n"
     ]
    }
   ],
   "source": [
    "# Alnum\n",
    "\n",
    "x = 4 # x is int\n",
    "y = '4' # y is char\n",
    "z = '2'\n",
    "\n",
    "print(y+z)\n"
   ]
  },
  {
   "cell_type": "code",
   "execution_count": null,
   "metadata": {
    "colab": {
     "base_uri": "https://localhost:8080/",
     "height": 34
    },
    "id": "8nhWWEilrXsM",
    "outputId": "3e678d2d-41e6-41eb-ba22-f6d3dbc4382f"
   },
   "outputs": [
    {
     "data": {
      "text/plain": [
       "7"
      ]
     },
     "execution_count": 26,
     "metadata": {
      "tags": []
     },
     "output_type": "execute_result"
    }
   ],
   "source": [
    "strEdu=\"book & pen\"\n",
    "strEdu.find('pen')"
   ]
  },
  {
   "cell_type": "code",
   "execution_count": null,
   "metadata": {
    "colab": {
     "base_uri": "https://localhost:8080/",
     "height": 51
    },
    "id": "YWPAiFv7rwXz",
    "outputId": "939b0c51-94d3-4dfa-acca-4051fa7f05c5"
   },
   "outputs": [
    {
     "name": "stdout",
     "output_type": "stream",
     "text": [
      "False\n",
      "True\n"
     ]
    }
   ],
   "source": [
    "# Boolean\n",
    "v1 = 6\n",
    "v2 = 7\n",
    "\n",
    "print(v1 == strEdu.find('pen'))  ## from above, position is found\n",
    "print(v2 == strEdu.find('pen'))  ## this is false"
   ]
  },
  {
   "cell_type": "code",
   "execution_count": null,
   "metadata": {
    "colab": {
     "base_uri": "https://localhost:8080/",
     "height": 102
    },
    "id": "3NBmfTY4z4Vu",
    "outputId": "ed2f95be-b272-4701-f22c-3a3909ba5540"
   },
   "outputs": [
    {
     "name": "stdout",
     "output_type": "stream",
     "text": [
      "<class 'int'>\n",
      "<class 'str'>\n",
      "<class 'int'>\n",
      "<class 'float'>\n"
     ]
    },
    {
     "data": {
      "text/plain": [
       "str"
      ]
     },
     "execution_count": 31,
     "metadata": {
      "tags": []
     },
     "output_type": "execute_result"
    }
   ],
   "source": [
    "print(type(x))\n",
    "print(type(z))\n",
    "print(type(v1))\n",
    "print(type(2.45))\n",
    "\n",
    "type('boy')"
   ]
  },
  {
   "cell_type": "markdown",
   "metadata": {
    "id": "HNS0vPz-zixf"
   },
   "source": [
    "### Working with Non-Premitive Data Types"
   ]
  },
  {
   "cell_type": "markdown",
   "metadata": {
    "id": "3Py7hXyG0avK"
   },
   "source": [
    "#### Type Casting"
   ]
  },
  {
   "cell_type": "code",
   "execution_count": null,
   "metadata": {
    "colab": {
     "base_uri": "https://localhost:8080/",
     "height": 51
    },
    "id": "2eXY9xWjtK-d",
    "outputId": "f098225e-439e-4712-c237-e5a631f0d624"
   },
   "outputs": [
    {
     "name": "stdout",
     "output_type": "stream",
     "text": [
      "6.9\n"
     ]
    },
    {
     "data": {
      "text/plain": [
       "float"
      ]
     },
     "execution_count": 33,
     "metadata": {
      "tags": []
     },
     "output_type": "execute_result"
    }
   ],
   "source": [
    "# implicit\n",
    "\n",
    "x = 4\n",
    "y = 2.9\n",
    "\n",
    "z = x+y\n",
    "\n",
    "print(z)\n",
    "type(z)"
   ]
  },
  {
   "cell_type": "code",
   "execution_count": null,
   "metadata": {
    "colab": {
     "base_uri": "https://localhost:8080/",
     "height": 51
    },
    "id": "fj_1MbLL0q5M",
    "outputId": "5f3b8d99-bcd9-4f11-f28b-962ef21ada4e"
   },
   "outputs": [
    {
     "name": "stdout",
     "output_type": "stream",
     "text": [
      "2 States\n"
     ]
    },
    {
     "data": {
      "text/plain": [
       "str"
      ]
     },
     "execution_count": 36,
     "metadata": {
      "tags": []
     },
     "output_type": "execute_result"
    }
   ],
   "source": [
    "# explicit\n",
    "x=2\n",
    "y=\" States\"\n",
    "\n",
    "#book = x+y  # gives     TypeError: unsupported operand type(s) for +: 'int' and 'str'\n",
    "\n",
    "book = str(x) + y  # explicit conversion\n",
    "print(book)\n",
    "type(book)"
   ]
  },
  {
   "cell_type": "markdown",
   "metadata": {
    "id": "THX5vWqh1rW7"
   },
   "source": [
    "#### Dictionary"
   ]
  },
  {
   "cell_type": "code",
   "execution_count": null,
   "metadata": {
    "colab": {
     "base_uri": "https://localhost:8080/",
     "height": 34
    },
    "id": "DWQTCYMR1JVW",
    "outputId": "c54910ad-399a-4f4a-89e2-2892ac527793"
   },
   "outputs": [
    {
     "name": "stdout",
     "output_type": "stream",
     "text": [
      "{'name': 'Ravi', 'course': 'M.Sc. Computer Science', 'major': 'Cyber Security'}\n"
     ]
    }
   ],
   "source": [
    "## are key value pairs\n",
    "x_dict = {'name':'Ravi','course':'M.Sc. Computer Science', 'major':\"Cyber Security\"}\n",
    "print(x_dict)"
   ]
  },
  {
   "cell_type": "code",
   "execution_count": null,
   "metadata": {
    "colab": {
     "base_uri": "https://localhost:8080/",
     "height": 51
    },
    "id": "AYCOGZcf2JQr",
    "outputId": "ce4aa25f-160f-4211-c114-f651e3711094"
   },
   "outputs": [
    {
     "name": "stdout",
     "output_type": "stream",
     "text": [
      "Cyber Security\n",
      "{'name': 'Ravi', 'major': 'Cyber Security'}\n"
     ]
    }
   ],
   "source": [
    "print(x_dict['major'])\n",
    "del x_dict['course']   # deleting\n",
    "\n",
    "print(x_dict)"
   ]
  },
  {
   "cell_type": "code",
   "execution_count": null,
   "metadata": {
    "colab": {
     "base_uri": "https://localhost:8080/",
     "height": 34
    },
    "id": "BgcoZwoA2OgX",
    "outputId": "0135596c-e015-4d50-beee-728945efae0d"
   },
   "outputs": [
    {
     "name": "stdout",
     "output_type": "stream",
     "text": [
      "1st\n"
     ]
    }
   ],
   "source": [
    "x_dict[\"sem\"] = '1st'\n",
    "# x_dict\n",
    "\n",
    "print(x_dict['sem'])"
   ]
  },
  {
   "cell_type": "markdown",
   "metadata": {
    "id": "5Bg1bQ8n2y1o"
   },
   "source": [
    "#### Tuples\n",
    "(they are immutable)"
   ]
  },
  {
   "cell_type": "code",
   "execution_count": null,
   "metadata": {
    "colab": {
     "base_uri": "https://localhost:8080/",
     "height": 102
    },
    "id": "P0AoKGD22sTb",
    "outputId": "6feddf39-9449-49c0-e995-f3cd4c31f353"
   },
   "outputs": [
    {
     "name": "stdout",
     "output_type": "stream",
     "text": [
      "<class 'tuple'>\n",
      "(1, 2, 3, 5)\n",
      "3\n",
      "4\n",
      "t2 is also : <class 'tuple'>\n"
     ]
    }
   ],
   "source": [
    "tup = (1,2,3,5)\n",
    "t2 = 1,2,3,4,6\n",
    "\n",
    "print(type(tup))\n",
    "print(tup)\n",
    "print(tup[2])\n",
    "print(len(tup))\n",
    "\n",
    "print(\"t2 is also : \"+str(type(t2)))"
   ]
  },
  {
   "cell_type": "code",
   "execution_count": null,
   "metadata": {
    "colab": {
     "base_uri": "https://localhost:8080/",
     "height": 34
    },
    "id": "iRV1uO0r3D4p",
    "outputId": "6dbccbaa-6b6b-4b79-be56-ed9ea8f5e436"
   },
   "outputs": [
    {
     "data": {
      "text/plain": [
       "('l', '0', 'l')"
      ]
     },
     "execution_count": 50,
     "metadata": {
      "tags": []
     },
     "output_type": "execute_result"
    }
   ],
   "source": [
    "newTup = ('l','0','l')\n",
    "newTup"
   ]
  },
  {
   "cell_type": "code",
   "execution_count": null,
   "metadata": {
    "id": "djnRMLvS3ipw"
   },
   "outputs": [],
   "source": [
    "## As tuples are immutable...\n",
    "\n",
    "#del newTup[2]   ## TypeError: 'tuple' object doesn't support item deletion"
   ]
  },
  {
   "cell_type": "code",
   "execution_count": null,
   "metadata": {
    "id": "NTnmON-13_oc"
   },
   "outputs": [],
   "source": []
  },
  {
   "cell_type": "markdown",
   "metadata": {
    "id": "Lo_SeuUI4Im-"
   },
   "source": [
    "#### Linked List\n",
    "(linear data str)"
   ]
  },
  {
   "cell_type": "code",
   "execution_count": 1,
   "metadata": {
    "id": "XtCRR3el-3Gc"
   },
   "outputs": [
    {
     "name": "stdout",
     "output_type": "stream",
     "text": [
      "1\n",
      "2\n",
      "3\n"
     ]
    }
   ],
   "source": [
    "class Node:\n",
    "  def __init__(self, data):\n",
    "    self.data = data\n",
    "    self.next = None\n",
    "\n",
    "class LinkedList:\n",
    "  def __init__(self):\n",
    "    self.head = None\n",
    "    \n",
    "  def printList(self):\n",
    "    temp=self.head\n",
    "    while(temp):\n",
    "      print(temp.data)\n",
    "      temp = temp.next\n",
    "\n",
    "\n",
    "###   Implementation\n",
    "\n",
    "if __name__ == \"__main__\":\n",
    "  llist = LinkedList()\n",
    "\n",
    "  llist.head = Node(1)\n",
    "  second = Node(2)\n",
    "  third = Node(3)\n",
    "\n",
    "  llist.head.next = second\n",
    "  second.next = third\n",
    "  llist.printList()"
   ]
  },
  {
   "cell_type": "markdown",
   "metadata": {},
   "source": [
    "---"
   ]
  },
  {
   "cell_type": "markdown",
   "metadata": {},
   "source": [
    "# Experiments:"
   ]
  },
  {
   "cell_type": "code",
   "execution_count": null,
   "metadata": {
    "id": "N5WCz64r4ODi"
   },
   "outputs": [],
   "source": [
    "## Linked List Construction\n",
    "\n",
    "class Node:\n",
    "  def __init__(self, data):\n",
    "    self.data = data\n",
    "    self.next = None\n",
    "\n",
    "class LinkedList:\n",
    "  def __init__(self):\n",
    "    self.head = None\n",
    "    \n",
    "  def printList(self):\n",
    "    temp=self.head\n",
    "    while(temp):\n",
    "      print(temp.data)\n",
    "      temp = temp.next\n",
    "\n",
    "## to add data\n",
    "  def addNode(self):\n",
    "    tempData = input(\"Enter the data: \")\n",
    "    self.data = tempData\n",
    "    self.next = None\n",
    "\n",
    "## to delete the element(s)\n",
    "\n",
    "## to count the elements\n",
    "\n",
    "\n",
    "\n"
   ]
  },
  {
   "cell_type": "code",
   "execution_count": null,
   "metadata": {
    "colab": {
     "base_uri": "https://localhost:8080/",
     "height": 68
    },
    "id": "KNpNVQS4B00v",
    "outputId": "c49d9d34-d6a2-4529-a0a3-203030b9c661"
   },
   "outputs": [
    {
     "name": "stdout",
     "output_type": "stream",
     "text": [
      "1\n",
      "2\n",
      "3\n"
     ]
    }
   ],
   "source": [
    "###   Implementation\n",
    "\n",
    "if __name__ == \"__main__\":\n",
    "  llist = LinkedList()\n",
    "\n",
    "  llist.head = Node(1)\n",
    "  second = Node(2)\n",
    "  third = Node(3)\n",
    "\n",
    "  llist.head.next = second\n",
    "  second.next = third\n",
    "  llist.printList()"
   ]
  }
 ],
 "metadata": {
  "colab": {
   "name": "Lab 1.ipynb",
   "provenance": []
  },
  "kernelspec": {
   "display_name": "Python 3",
   "language": "python",
   "name": "python3"
  },
  "language_info": {
   "codemirror_mode": {
    "name": "ipython",
    "version": 3
   },
   "file_extension": ".py",
   "mimetype": "text/x-python",
   "name": "python",
   "nbconvert_exporter": "python",
   "pygments_lexer": "ipython3",
   "version": "3.8.3"
  }
 },
 "nbformat": 4,
 "nbformat_minor": 1
}
