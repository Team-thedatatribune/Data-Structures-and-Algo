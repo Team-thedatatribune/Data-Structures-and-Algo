{
  "nbformat": 4,
  "nbformat_minor": 0,
  "metadata": {
    "colab": {
      "name": "Lab 1.ipynb",
      "provenance": [],
      "include_colab_link": true
    },
    "kernelspec": {
      "display_name": "Python 3",
      "language": "python",
      "name": "python3"
    },
    "language_info": {
      "codemirror_mode": {
        "name": "ipython",
        "version": 3
      },
      "file_extension": ".py",
      "mimetype": "text/x-python",
      "name": "python",
      "nbconvert_exporter": "python",
      "pygments_lexer": "ipython3",
      "version": "3.8.3"
    }
  },
  "cells": [
    {
      "cell_type": "markdown",
      "metadata": {
        "id": "view-in-github",
        "colab_type": "text"
      },
      "source": [
        "<a href=\"https://colab.research.google.com/github/ravi-prakash1907/Data-Structures-and-Algo/blob/main/Class%20Lab/Lab%201.ipynb\" target=\"_parent\"><img src=\"https://colab.research.google.com/assets/colab-badge.svg\" alt=\"Open In Colab\"/></a>"
      ]
    },
    {
      "cell_type": "markdown",
      "metadata": {
        "id": "AeIL6LBFkC1L"
      },
      "source": [
        "# Lab 1\n",
        "\n",
        "[![Open In Colab](https://colab.research.google.com/assets/colab-badge.svg)](https://colab.research.google.com/github/googlecolab/colabtools/blob/master/notebooks/colab-github-demo.ipynb)"
      ]
    },
    {
      "cell_type": "markdown",
      "metadata": {
        "id": "53A-USZYpGvH"
      },
      "source": [
        "### Working with Premitive Data Types"
      ]
    },
    {
      "cell_type": "code",
      "metadata": {
        "id": "ERVdxVMdnbTU",
        "outputId": "2b9fbe95-32fd-4285-e058-5d8216dff3fb",
        "colab": {
          "base_uri": "https://localhost:8080/",
          "height": 68
        }
      },
      "source": [
        "x=4    # Int\n",
        "y=2.2   # float\n",
        "z=x*y   # float\n",
        "\n",
        "print(x)\n",
        "print(y)\n",
        "print(z)"
      ],
      "execution_count": null,
      "outputs": [
        {
          "output_type": "stream",
          "text": [
            "4\n",
            "2.2\n",
            "8.8\n"
          ],
          "name": "stdout"
        }
      ]
    },
    {
      "cell_type": "code",
      "metadata": {
        "id": "9n3sMyUkof-h",
        "outputId": "0407cc20-4e13-42c9-9c31-e5f2fe6521cb",
        "colab": {
          "base_uri": "https://localhost:8080/",
          "height": 68
        }
      },
      "source": [
        "print(x-y)   # gives representation err (as o/p 1.7999999...8 instead of 1.8)\n",
        " \n",
        "print(x*y)\n",
        "print(x/y)"
      ],
      "execution_count": null,
      "outputs": [
        {
          "output_type": "stream",
          "text": [
            "1.7999999999999998\n",
            "8.8\n",
            "1.8181818181818181\n"
          ],
          "name": "stdout"
        }
      ]
    },
    {
      "cell_type": "code",
      "metadata": {
        "id": "XESJFCd_o-oM",
        "outputId": "c7999057-8641-41b7-8aef-0defbbfde25a",
        "colab": {
          "base_uri": "https://localhost:8080/",
          "height": 51
        }
      },
      "source": [
        "## Strings\n",
        "String1 = \"Brown \"\n",
        "String2 = 'Fox '\n",
        "\n",
        "print(String1)\n",
        "print(String2)"
      ],
      "execution_count": null,
      "outputs": [
        {
          "output_type": "stream",
          "text": [
            "Brown \n",
            "Fox \n"
          ],
          "name": "stdout"
        }
      ]
    },
    {
      "cell_type": "code",
      "metadata": {
        "id": "XOFapyJSqkie",
        "outputId": "d376ea68-729d-42a8-d345-52016d487c63",
        "colab": {
          "base_uri": "https://localhost:8080/",
          "height": 35
        }
      },
      "source": [
        "prefix = \"A Quick \"\n",
        "end=\"Jumps over the lazy dog!\"\n",
        "\n",
        "full = prefix+String1+String2+end\n",
        "full"
      ],
      "execution_count": null,
      "outputs": [
        {
          "output_type": "execute_result",
          "data": {
            "application/vnd.google.colaboratory.intrinsic+json": {
              "type": "string"
            },
            "text/plain": [
              "'A Quick Brown Fox Jumps over the lazy dog!'"
            ]
          },
          "metadata": {
            "tags": []
          },
          "execution_count": 11
        }
      ]
    },
    {
      "cell_type": "code",
      "metadata": {
        "id": "w6iXn22mq40m",
        "outputId": "df9fd643-0bb1-47e3-89cf-e433f78bb796",
        "colab": {
          "base_uri": "https://localhost:8080/",
          "height": 35
        }
      },
      "source": [
        "len(full)\n",
        "\n",
        "String1[0] # B\n",
        "prefix[2:] # Quick \n",
        "String1 + String2\n",
        "prefix * 3  # 'A Quick ' thrice"
      ],
      "execution_count": null,
      "outputs": [
        {
          "output_type": "execute_result",
          "data": {
            "application/vnd.google.colaboratory.intrinsic+json": {
              "type": "string"
            },
            "text/plain": [
              "'A Quick A Quick A Quick '"
            ]
          },
          "metadata": {
            "tags": []
          },
          "execution_count": 19
        }
      ]
    },
    {
      "cell_type": "code",
      "metadata": {
        "id": "kOppwMrLrDdy",
        "outputId": "d3148eb0-13bd-40a7-cc02-5fbcab8de9a2",
        "colab": {
          "base_uri": "https://localhost:8080/",
          "height": 34
        }
      },
      "source": [
        "# Alnum\n",
        "\n",
        "x = 4 # x is int\n",
        "y = '4' # y is char\n",
        "z = '2'\n",
        "\n",
        "print(y+z)\n"
      ],
      "execution_count": null,
      "outputs": [
        {
          "output_type": "stream",
          "text": [
            "42\n"
          ],
          "name": "stdout"
        }
      ]
    },
    {
      "cell_type": "code",
      "metadata": {
        "id": "8nhWWEilrXsM",
        "outputId": "3e678d2d-41e6-41eb-ba22-f6d3dbc4382f",
        "colab": {
          "base_uri": "https://localhost:8080/",
          "height": 34
        }
      },
      "source": [
        "strEdu=\"book & pen\"\n",
        "strEdu.find('pen')"
      ],
      "execution_count": null,
      "outputs": [
        {
          "output_type": "execute_result",
          "data": {
            "text/plain": [
              "7"
            ]
          },
          "metadata": {
            "tags": []
          },
          "execution_count": 26
        }
      ]
    },
    {
      "cell_type": "code",
      "metadata": {
        "id": "YWPAiFv7rwXz",
        "outputId": "939b0c51-94d3-4dfa-acca-4051fa7f05c5",
        "colab": {
          "base_uri": "https://localhost:8080/",
          "height": 51
        }
      },
      "source": [
        "# Boolean\n",
        "v1 = 6\n",
        "v2 = 7\n",
        "\n",
        "print(v1 == strEdu.find('pen'))  ## from above, position is found\n",
        "print(v2 == strEdu.find('pen'))  ## this is false"
      ],
      "execution_count": null,
      "outputs": [
        {
          "output_type": "stream",
          "text": [
            "False\n",
            "True\n"
          ],
          "name": "stdout"
        }
      ]
    },
    {
      "cell_type": "code",
      "metadata": {
        "id": "3NBmfTY4z4Vu",
        "outputId": "ed2f95be-b272-4701-f22c-3a3909ba5540",
        "colab": {
          "base_uri": "https://localhost:8080/",
          "height": 102
        }
      },
      "source": [
        "print(type(x))\n",
        "print(type(z))\n",
        "print(type(v1))\n",
        "print(type(2.45))\n",
        "\n",
        "type('boy')"
      ],
      "execution_count": null,
      "outputs": [
        {
          "output_type": "stream",
          "text": [
            "<class 'int'>\n",
            "<class 'str'>\n",
            "<class 'int'>\n",
            "<class 'float'>\n"
          ],
          "name": "stdout"
        },
        {
          "output_type": "execute_result",
          "data": {
            "text/plain": [
              "str"
            ]
          },
          "metadata": {
            "tags": []
          },
          "execution_count": 31
        }
      ]
    },
    {
      "cell_type": "markdown",
      "metadata": {
        "id": "HNS0vPz-zixf"
      },
      "source": [
        "### Working with Non-Premitive Data Types"
      ]
    },
    {
      "cell_type": "markdown",
      "metadata": {
        "id": "3Py7hXyG0avK"
      },
      "source": [
        "#### Type Casting"
      ]
    },
    {
      "cell_type": "code",
      "metadata": {
        "id": "2eXY9xWjtK-d",
        "outputId": "f098225e-439e-4712-c237-e5a631f0d624",
        "colab": {
          "base_uri": "https://localhost:8080/",
          "height": 51
        }
      },
      "source": [
        "# implicit\n",
        "\n",
        "x = 4\n",
        "y = 2.9\n",
        "\n",
        "z = x+y\n",
        "\n",
        "print(z)\n",
        "type(z)"
      ],
      "execution_count": null,
      "outputs": [
        {
          "output_type": "stream",
          "text": [
            "6.9\n"
          ],
          "name": "stdout"
        },
        {
          "output_type": "execute_result",
          "data": {
            "text/plain": [
              "float"
            ]
          },
          "metadata": {
            "tags": []
          },
          "execution_count": 33
        }
      ]
    },
    {
      "cell_type": "code",
      "metadata": {
        "id": "fj_1MbLL0q5M",
        "outputId": "5f3b8d99-bcd9-4f11-f28b-962ef21ada4e",
        "colab": {
          "base_uri": "https://localhost:8080/",
          "height": 51
        }
      },
      "source": [
        "# explicit\n",
        "x=2\n",
        "y=\" States\"\n",
        "\n",
        "#book = x+y  # gives     TypeError: unsupported operand type(s) for +: 'int' and 'str'\n",
        "\n",
        "book = str(x) + y  # explicit conversion\n",
        "print(book)\n",
        "type(book)"
      ],
      "execution_count": null,
      "outputs": [
        {
          "output_type": "stream",
          "text": [
            "2 States\n"
          ],
          "name": "stdout"
        },
        {
          "output_type": "execute_result",
          "data": {
            "text/plain": [
              "str"
            ]
          },
          "metadata": {
            "tags": []
          },
          "execution_count": 36
        }
      ]
    },
    {
      "cell_type": "markdown",
      "metadata": {
        "id": "THX5vWqh1rW7"
      },
      "source": [
        "#### Dictionary"
      ]
    },
    {
      "cell_type": "code",
      "metadata": {
        "id": "DWQTCYMR1JVW",
        "outputId": "c54910ad-399a-4f4a-89e2-2892ac527793",
        "colab": {
          "base_uri": "https://localhost:8080/",
          "height": 34
        }
      },
      "source": [
        "## are key value pairs\n",
        "x_dict = {'name':'Ravi','course':'M.Sc. Computer Science', 'major':\"Cyber Security\"}\n",
        "print(x_dict)"
      ],
      "execution_count": null,
      "outputs": [
        {
          "output_type": "stream",
          "text": [
            "{'name': 'Ravi', 'course': 'M.Sc. Computer Science', 'major': 'Cyber Security'}\n"
          ],
          "name": "stdout"
        }
      ]
    },
    {
      "cell_type": "code",
      "metadata": {
        "id": "AYCOGZcf2JQr",
        "outputId": "ce4aa25f-160f-4211-c114-f651e3711094",
        "colab": {
          "base_uri": "https://localhost:8080/",
          "height": 51
        }
      },
      "source": [
        "print(x_dict['major'])\n",
        "del x_dict['course']   # deleting\n",
        "\n",
        "print(x_dict)"
      ],
      "execution_count": null,
      "outputs": [
        {
          "output_type": "stream",
          "text": [
            "Cyber Security\n",
            "{'name': 'Ravi', 'major': 'Cyber Security'}\n"
          ],
          "name": "stdout"
        }
      ]
    },
    {
      "cell_type": "code",
      "metadata": {
        "id": "BgcoZwoA2OgX",
        "outputId": "0135596c-e015-4d50-beee-728945efae0d",
        "colab": {
          "base_uri": "https://localhost:8080/",
          "height": 34
        }
      },
      "source": [
        "x_dict[\"sem\"] = '1st'\n",
        "# x_dict\n",
        "\n",
        "print(x_dict['sem'])"
      ],
      "execution_count": null,
      "outputs": [
        {
          "output_type": "stream",
          "text": [
            "1st\n"
          ],
          "name": "stdout"
        }
      ]
    },
    {
      "cell_type": "markdown",
      "metadata": {
        "id": "5Bg1bQ8n2y1o"
      },
      "source": [
        "#### Tuples\n",
        "(they are immutable)"
      ]
    },
    {
      "cell_type": "code",
      "metadata": {
        "id": "P0AoKGD22sTb",
        "outputId": "6feddf39-9449-49c0-e995-f3cd4c31f353",
        "colab": {
          "base_uri": "https://localhost:8080/",
          "height": 102
        }
      },
      "source": [
        "tup = (1,2,3,5)\n",
        "t2 = 1,2,3,4,6\n",
        "\n",
        "print(type(tup))\n",
        "print(tup)\n",
        "print(tup[2])\n",
        "print(len(tup))\n",
        "\n",
        "print(\"t2 is also : \"+str(type(t2)))"
      ],
      "execution_count": null,
      "outputs": [
        {
          "output_type": "stream",
          "text": [
            "<class 'tuple'>\n",
            "(1, 2, 3, 5)\n",
            "3\n",
            "4\n",
            "t2 is also : <class 'tuple'>\n"
          ],
          "name": "stdout"
        }
      ]
    },
    {
      "cell_type": "code",
      "metadata": {
        "id": "iRV1uO0r3D4p",
        "outputId": "6dbccbaa-6b6b-4b79-be56-ed9ea8f5e436",
        "colab": {
          "base_uri": "https://localhost:8080/",
          "height": 34
        }
      },
      "source": [
        "newTup = ('l','0','l')\n",
        "newTup"
      ],
      "execution_count": null,
      "outputs": [
        {
          "output_type": "execute_result",
          "data": {
            "text/plain": [
              "('l', '0', 'l')"
            ]
          },
          "metadata": {
            "tags": []
          },
          "execution_count": 50
        }
      ]
    },
    {
      "cell_type": "code",
      "metadata": {
        "id": "djnRMLvS3ipw"
      },
      "source": [
        "## As tuples are immutable...\n",
        "\n",
        "#del newTup[2]   ## TypeError: 'tuple' object doesn't support item deletion"
      ],
      "execution_count": null,
      "outputs": []
    },
    {
      "cell_type": "code",
      "metadata": {
        "id": "NTnmON-13_oc"
      },
      "source": [
        ""
      ],
      "execution_count": null,
      "outputs": []
    },
    {
      "cell_type": "markdown",
      "metadata": {
        "id": "Lo_SeuUI4Im-"
      },
      "source": [
        "#### Linked List\n",
        "(linear data str)"
      ]
    },
    {
      "cell_type": "code",
      "metadata": {
        "id": "XtCRR3el-3Gc",
        "outputId": "2cf6e518-84c8-4329-f5e5-09a15c3ae467"
      },
      "source": [
        "class Node:\n",
        "  def __init__(self, data):\n",
        "    self.data = data\n",
        "    self.next = None\n",
        "\n",
        "class LinkedList:\n",
        "  def __init__(self):\n",
        "    self.head = None\n",
        "    \n",
        "  def printList(self):\n",
        "    temp=self.head\n",
        "    while(temp):\n",
        "      print(temp.data)\n",
        "      temp = temp.next\n",
        "\n",
        "\n",
        "###   Implementation\n",
        "\n",
        "if __name__ == \"__main__\":\n",
        "  llist = LinkedList()\n",
        "\n",
        "  llist.head = Node(1)\n",
        "  second = Node(2)\n",
        "  third = Node(3)\n",
        "\n",
        "  llist.head.next = second\n",
        "  second.next = third\n",
        "  llist.printList()"
      ],
      "execution_count": null,
      "outputs": [
        {
          "output_type": "stream",
          "text": [
            "1\n",
            "2\n",
            "3\n"
          ],
          "name": "stdout"
        }
      ]
    },
    {
      "cell_type": "markdown",
      "metadata": {
        "id": "YoVs453OoK6T"
      },
      "source": [
        "---"
      ]
    },
    {
      "cell_type": "markdown",
      "metadata": {
        "id": "DehEj5-KoK6V"
      },
      "source": [
        "# Self\n",
        "\n",
        "## Stack"
      ]
    },
    {
      "cell_type": "code",
      "metadata": {
        "id": "N5WCz64r4ODi"
      },
      "source": [
        "## STACK using Linked List Construction\n",
        "## LIFO\n",
        "\n",
        "# NODE\n",
        "class Node:\n",
        "  def __init__(self):\n",
        "    tempData = input(\"Enter the data: \")\n",
        "    self.data = tempData\n",
        "    self.next = None\n",
        "\n",
        "# STACK\n",
        "class Stack:\n",
        "  def __init__(self):\n",
        "    self.head = None\n",
        "    self.tail = None\n",
        "    \n",
        "  ## Print\n",
        "  def traverse(self):\n",
        "    temp=self.head\n",
        "    while(temp):\n",
        "      print(temp.data)\n",
        "      temp = temp.next\n",
        "    \n",
        "  ## to add data\n",
        "  def push(self):\n",
        "    temp = Node()\n",
        "    if self.head is None:\n",
        "      self.head = temp\n",
        "      self.tail = temp\n",
        "    else:\n",
        "      self.tail.next = temp\n",
        "      self.tail = temp\n",
        "    print(\"Pushed!!\\n\\n\")\n",
        "  \n",
        "  ## to delete the element(s)\n",
        "  def pop(self):\n",
        "    if self.head is None:\n",
        "      print(\"Stack Underflow!!\\n\\n\")\n",
        "    else:\n",
        "      if self.head == self.tail:\n",
        "        self.head = self.tail = None\n",
        "      else:\n",
        "        temp = self.head\n",
        "        while(temp.next != self.tail):\n",
        "          temp = temp.next\n",
        "        temp.next = None\n",
        "        self.tail = temp\n",
        "      print(\"Popped!!\\n\\n\")\n",
        "\n",
        "\n",
        "\n"
      ],
      "execution_count": 43,
      "outputs": []
    },
    {
      "cell_type": "code",
      "metadata": {
        "id": "KNpNVQS4B00v",
        "outputId": "d5826b80-283d-4ede-e0d9-d65153f88492",
        "colab": {
          "base_uri": "https://localhost:8080/",
          "height": 1000
        }
      },
      "source": [
        "###   Stack Implementation\n",
        "\n",
        "def menu():\n",
        "  print(\"Menu:\\n-----\")\n",
        "  print(\" 1) Push\\n 2) Pop\\n 3) Traverse\\n\\n *  Any other key to exit!\\n\")\n",
        "  ch = int(input(\"Your choice: \"))\n",
        "  return ch\n",
        "\n",
        "\n",
        "if __name__ == \"__main__\":\n",
        "  llist = Stack()\n",
        "\n",
        "  # Menu\n",
        "  choice = menu()\n",
        "\n",
        "  while(choice in (1,2,3)):\n",
        "    if choice == 1:\n",
        "      llist.push()\n",
        "    elif choice == 2:\n",
        "      llist.pop()\n",
        "    else:\n",
        "      llist.traverse()\n",
        "      print(\"\\n\\n\")\n",
        "    choice = menu()\n",
        "  \n",
        "  print(\"\\nGood Bye!!\")\n",
        "  "
      ],
      "execution_count": 46,
      "outputs": [
        {
          "output_type": "stream",
          "text": [
            "Menu:\n",
            "-----\n",
            " 1) Push\n",
            " 2) Pop\n",
            " 3) Traverse\n",
            "\n",
            " *  Any other key to exit!\n",
            "\n",
            "Your choice: 1\n",
            "Enter the data: 2\n",
            "Pushed!!\n",
            "Menu:\n",
            "-----\n",
            " 1) Push\n",
            " 2) Pop\n",
            " 3) Traverse\n",
            "\n",
            " *  Any other key to exit!\n",
            "\n",
            "Your choice: 1\n",
            "Enter the data: 3\n",
            "Pushed!!\n",
            "Menu:\n",
            "-----\n",
            " 1) Push\n",
            " 2) Pop\n",
            " 3) Traverse\n",
            "\n",
            " *  Any other key to exit!\n",
            "\n",
            "Your choice: 1\n",
            "Enter the data: 5\n",
            "Pushed!!\n",
            "Menu:\n",
            "-----\n",
            " 1) Push\n",
            " 2) Pop\n",
            " 3) Traverse\n",
            "\n",
            " *  Any other key to exit!\n",
            "\n",
            "Your choice: 1\n",
            "Enter the data: 7\n",
            "Pushed!!\n",
            "Menu:\n",
            "-----\n",
            " 1) Push\n",
            " 2) Pop\n",
            " 3) Traverse\n",
            "\n",
            " *  Any other key to exit!\n",
            "\n",
            "Your choice: 3\n",
            "2\n",
            "3\n",
            "5\n",
            "7\n",
            "\n",
            "\n",
            "\n",
            "Menu:\n",
            "-----\n",
            " 1) Push\n",
            " 2) Pop\n",
            " 3) Traverse\n",
            "\n",
            " *  Any other key to exit!\n",
            "\n",
            "Your choice: 1\n",
            "Enter the data: 9\n",
            "Pushed!!\n",
            "Menu:\n",
            "-----\n",
            " 1) Push\n",
            " 2) Pop\n",
            " 3) Traverse\n",
            "\n",
            " *  Any other key to exit!\n",
            "\n",
            "Your choice: 3\n",
            "2\n",
            "3\n",
            "5\n",
            "7\n",
            "9\n",
            "\n",
            "\n",
            "\n",
            "Menu:\n",
            "-----\n",
            " 1) Push\n",
            " 2) Pop\n",
            " 3) Traverse\n",
            "\n",
            " *  Any other key to exit!\n",
            "\n",
            "Your choice: 2\n",
            "Popped!!\n",
            "Menu:\n",
            "-----\n",
            " 1) Push\n",
            " 2) Pop\n",
            " 3) Traverse\n",
            "\n",
            " *  Any other key to exit!\n",
            "\n",
            "Your choice: 1\n",
            "Enter the data: 89\n",
            "Pushed!!\n",
            "Menu:\n",
            "-----\n",
            " 1) Push\n",
            " 2) Pop\n",
            " 3) Traverse\n",
            "\n",
            " *  Any other key to exit!\n",
            "\n",
            "Your choice: 3\n",
            "2\n",
            "3\n",
            "5\n",
            "7\n",
            "89\n",
            "\n",
            "\n",
            "\n",
            "Menu:\n",
            "-----\n",
            " 1) Push\n",
            " 2) Pop\n",
            " 3) Traverse\n",
            "\n",
            " *  Any other key to exit!\n",
            "\n",
            "Your choice: 2\n",
            "Popped!!\n",
            "Menu:\n",
            "-----\n",
            " 1) Push\n",
            " 2) Pop\n",
            " 3) Traverse\n",
            "\n",
            " *  Any other key to exit!\n",
            "\n",
            "Your choice: 2\n",
            "Popped!!\n",
            "Menu:\n",
            "-----\n",
            " 1) Push\n",
            " 2) Pop\n",
            " 3) Traverse\n",
            "\n",
            " *  Any other key to exit!\n",
            "\n",
            "Your choice: 2\n",
            "Popped!!\n",
            "Menu:\n",
            "-----\n",
            " 1) Push\n",
            " 2) Pop\n",
            " 3) Traverse\n",
            "\n",
            " *  Any other key to exit!\n",
            "\n",
            "Your choice: 3\n",
            "2\n",
            "3\n",
            "\n",
            "\n",
            "\n",
            "Menu:\n",
            "-----\n",
            " 1) Push\n",
            " 2) Pop\n",
            " 3) Traverse\n",
            "\n",
            " *  Any other key to exit!\n",
            "\n",
            "Your choice: 2\n",
            "Popped!!\n",
            "Menu:\n",
            "-----\n",
            " 1) Push\n",
            " 2) Pop\n",
            " 3) Traverse\n",
            "\n",
            " *  Any other key to exit!\n",
            "\n",
            "Your choice: 1\n",
            "Enter the data: 26\n",
            "Your choice: 3\n",
            "Pushed!!\n",
            "Menu:\n",
            "-----\n",
            " 1) Push\n",
            " 2) Pop\n",
            " 3) Traverse\n",
            "\n",
            " *  Any other key to exit!\n",
            "\n",
            "2\n",
            "26\n",
            "\n",
            "\n",
            "\n",
            "Menu:\n",
            "-----\n",
            " 1) Push\n",
            " 2) Pop\n",
            " 3) Traverse\n",
            "\n",
            " *  Any other key to exit!\n",
            "\n",
            "Your choice: 2\n",
            "Popped!!\n",
            "Menu:\n",
            "-----\n",
            " 1) Push\n",
            " 2) Pop\n",
            " 3) Traverse\n",
            "\n",
            " *  Any other key to exit!\n",
            "\n",
            "Your choice: 3\n",
            "2\n",
            "\n",
            "\n",
            "\n",
            "Menu:\n",
            "-----\n",
            " 1) Push\n",
            " 2) Pop\n",
            " 3) Traverse\n",
            "\n",
            " *  Any other key to exit!\n",
            "\n",
            "Your choice: 2\n",
            "Popped!!\n",
            "Menu:\n",
            "-----\n",
            " 1) Push\n",
            " 2) Pop\n",
            " 3) Traverse\n",
            "\n",
            " *  Any other key to exit!\n",
            "\n",
            "Your choice: 2\n",
            "Stack Underflow!!\n",
            "Menu:\n",
            "-----\n",
            " 1) Push\n",
            " 2) Pop\n",
            " 3) Traverse\n",
            "\n",
            " *  Any other key to exit!\n",
            "\n",
            "Your choice: 6\n",
            "\n",
            "Good Bye!!\n"
          ],
          "name": "stdout"
        }
      ]
    },
    {
      "cell_type": "code",
      "metadata": {
        "id": "9cgO6cmAOa2b"
      },
      "source": [
        ""
      ],
      "execution_count": null,
      "outputs": []
    }
  ]
}