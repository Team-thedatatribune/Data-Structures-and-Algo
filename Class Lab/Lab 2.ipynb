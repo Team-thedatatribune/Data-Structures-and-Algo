{
  "nbformat": 4,
  "nbformat_minor": 0,
  "metadata": {
    "colab": {
      "name": "Untitled2.ipynb",
      "provenance": [],
      "authorship_tag": "ABX9TyPYv+SIvChYWoSGEh5gJTz6",
      "include_colab_link": true
    },
    "kernelspec": {
      "name": "python3",
      "display_name": "Python 3"
    }
  },
  "cells": [
    {
      "cell_type": "markdown",
      "metadata": {
        "id": "view-in-github",
        "colab_type": "text"
      },
      "source": [
        "<a href=\"https://colab.research.google.com/github/ravi-prakash1907/Data-Structures-and-Algo/blob/main/Class%20Lab/Lab%202.ipynb\" target=\"_parent\"><img src=\"https://colab.research.google.com/assets/colab-badge.svg\" alt=\"Open In Colab\"/></a>"
      ]
    },
    {
      "cell_type": "markdown",
      "metadata": {
        "id": "7WOhdmLZnNIt"
      },
      "source": [
        "# Lab 2"
      ]
    },
    {
      "cell_type": "markdown",
      "metadata": {
        "id": "EaCll028napf"
      },
      "source": [
        "### Array\n",
        "\n",
        "1. Holds only homogenious datatype"
      ]
    },
    {
      "cell_type": "code",
      "metadata": {
        "id": "Mw5aXFOpflOm",
        "outputId": "749580fc-5cff-442e-fda7-9332ffc0f470",
        "colab": {
          "base_uri": "https://localhost:8080/",
          "height": 34
        }
      },
      "source": [
        "import array as arr\n",
        "\n",
        "##  array.array('dayatype', <actual array>)\n",
        "a=arr.array(\"I\", [1,2,3]) # 'I' indecates we'll store integer\n",
        "\n",
        "type(a)"
      ],
      "execution_count": 6,
      "outputs": [
        {
          "output_type": "execute_result",
          "data": {
            "text/plain": [
              "array.array"
            ]
          },
          "metadata": {
            "tags": []
          },
          "execution_count": 6
        }
      ]
    },
    {
      "cell_type": "code",
      "metadata": {
        "id": "OKVes8rkn7ij",
        "outputId": "12aafd1c-3a97-4327-b25c-c999b38b74d5",
        "colab": {
          "base_uri": "https://localhost:8080/",
          "height": 68
        }
      },
      "source": [
        "# Numpy is an array module\n",
        "import numpy as np\n",
        "\n",
        "arr = np.array([1,2,3])\n",
        "print(type(arr))\n",
        "\n",
        "print(arr)\n",
        "arr[2]"
      ],
      "execution_count": 10,
      "outputs": [
        {
          "output_type": "stream",
          "text": [
            "<class 'numpy.ndarray'>\n",
            "[1 2 3]\n"
          ],
          "name": "stdout"
        },
        {
          "output_type": "execute_result",
          "data": {
            "text/plain": [
              "3"
            ]
          },
          "metadata": {
            "tags": []
          },
          "execution_count": 10
        }
      ]
    },
    {
      "cell_type": "code",
      "metadata": {
        "id": "n0pU7Et0n7sv",
        "outputId": "aec43047-e122-484f-bc34-f837cb014e62",
        "colab": {
          "base_uri": "https://localhost:8080/",
          "height": 34
        }
      },
      "source": [
        "x = [1,2,3]\n",
        "type(x)  # no array, it's list"
      ],
      "execution_count": 11,
      "outputs": [
        {
          "output_type": "execute_result",
          "data": {
            "text/plain": [
              "list"
            ]
          },
          "metadata": {
            "tags": []
          },
          "execution_count": 11
        }
      ]
    },
    {
      "cell_type": "code",
      "metadata": {
        "id": "Urf7lfB6n7pv",
        "outputId": "34805f2a-4274-49a1-eecc-aa564c9206a5",
        "colab": {
          "base_uri": "https://localhost:8080/",
          "height": 52
        }
      },
      "source": [
        "data = list([1, 'book', 3])\n",
        "\n",
        "print(type(data))\n",
        "data[1]  # accessing elements of list\n",
        "\n",
        "######################\n"
      ],
      "execution_count": 12,
      "outputs": [
        {
          "output_type": "stream",
          "text": [
            "<class 'list'>\n"
          ],
          "name": "stdout"
        },
        {
          "output_type": "execute_result",
          "data": {
            "application/vnd.google.colaboratory.intrinsic+json": {
              "type": "string"
            },
            "text/plain": [
              "'book'"
            ]
          },
          "metadata": {
            "tags": []
          },
          "execution_count": 12
        }
      ]
    },
    {
      "cell_type": "code",
      "metadata": {
        "id": "Jt_7t1L6n7nV"
      },
      "source": [
        ""
      ],
      "execution_count": null,
      "outputs": []
    },
    {
      "cell_type": "code",
      "metadata": {
        "id": "h0h8hIHnn7f5"
      },
      "source": [
        ""
      ],
      "execution_count": null,
      "outputs": []
    },
    {
      "cell_type": "markdown",
      "metadata": {
        "id": "8zmgsdmQncNq"
      },
      "source": [
        "### Linked Lists"
      ]
    },
    {
      "cell_type": "code",
      "metadata": {
        "id": "YQRyysLHneOE"
      },
      "source": [
        ""
      ],
      "execution_count": null,
      "outputs": []
    }
  ]
}