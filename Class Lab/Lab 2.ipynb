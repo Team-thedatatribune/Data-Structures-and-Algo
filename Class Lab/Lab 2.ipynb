{
  "nbformat": 4,
  "nbformat_minor": 0,
  "metadata": {
    "colab": {
      "name": "Lab 2.ipynb",
      "provenance": [],
      "authorship_tag": "ABX9TyNaxLbWcNCNqt0YGrIhQMVr",
      "include_colab_link": true
    },
    "kernelspec": {
      "name": "python3",
      "display_name": "Python 3"
    }
  },
  "cells": [
    {
      "cell_type": "markdown",
      "metadata": {
        "id": "view-in-github",
        "colab_type": "text"
      },
      "source": [
        "<a href=\"https://colab.research.google.com/github/ravi-prakash1907/Data-Structures-and-Algo/blob/main/Class%20Lab/Lab%202.ipynb\" target=\"_parent\"><img src=\"https://colab.research.google.com/assets/colab-badge.svg\" alt=\"Open In Colab\"/></a>"
      ]
    },
    {
      "cell_type": "markdown",
      "metadata": {
        "id": "7WOhdmLZnNIt"
      },
      "source": [
        "# Lab 2"
      ]
    },
    {
      "cell_type": "markdown",
      "metadata": {
        "id": "EaCll028napf"
      },
      "source": [
        "### Array\n",
        "\n",
        "* Holds only homogenious datatype"
      ]
    },
    {
      "cell_type": "code",
      "metadata": {
        "id": "Mw5aXFOpflOm",
        "outputId": "749580fc-5cff-442e-fda7-9332ffc0f470",
        "colab": {
          "base_uri": "https://localhost:8080/",
          "height": 34
        }
      },
      "source": [
        "import array as arr\n",
        "\n",
        "##  array.array('dayatype', <actual array>)\n",
        "a=arr.array(\"I\", [1,2,3]) # 'I' indecates we'll store integer\n",
        "\n",
        "type(a)"
      ],
      "execution_count": null,
      "outputs": [
        {
          "output_type": "execute_result",
          "data": {
            "text/plain": [
              "array.array"
            ]
          },
          "metadata": {
            "tags": []
          },
          "execution_count": 6
        }
      ]
    },
    {
      "cell_type": "code",
      "metadata": {
        "id": "OKVes8rkn7ij",
        "outputId": "12aafd1c-3a97-4327-b25c-c999b38b74d5",
        "colab": {
          "base_uri": "https://localhost:8080/",
          "height": 68
        }
      },
      "source": [
        "# Numpy is an array module\n",
        "import numpy as np\n",
        "\n",
        "arr = np.array([1,2,3])\n",
        "print(type(arr))\n",
        "\n",
        "print(arr)\n",
        "arr[2]"
      ],
      "execution_count": null,
      "outputs": [
        {
          "output_type": "stream",
          "text": [
            "<class 'numpy.ndarray'>\n",
            "[1 2 3]\n"
          ],
          "name": "stdout"
        },
        {
          "output_type": "execute_result",
          "data": {
            "text/plain": [
              "3"
            ]
          },
          "metadata": {
            "tags": []
          },
          "execution_count": 10
        }
      ]
    },
    {
      "cell_type": "code",
      "metadata": {
        "id": "n0pU7Et0n7sv",
        "outputId": "aec43047-e122-484f-bc34-f837cb014e62",
        "colab": {
          "base_uri": "https://localhost:8080/",
          "height": 34
        }
      },
      "source": [
        "x = [1,2,3]\n",
        "type(x)  # no array, it's list"
      ],
      "execution_count": null,
      "outputs": [
        {
          "output_type": "execute_result",
          "data": {
            "text/plain": [
              "list"
            ]
          },
          "metadata": {
            "tags": []
          },
          "execution_count": 11
        }
      ]
    },
    {
      "cell_type": "markdown",
      "metadata": {
        "id": "m1k-bYDmqYDF"
      },
      "source": [
        "### Lists\n",
        "\n",
        "* Can hold elements with multiple datatype"
      ]
    },
    {
      "cell_type": "code",
      "metadata": {
        "id": "Urf7lfB6n7pv",
        "outputId": "1d423bda-059d-4078-f609-f8a520b53405",
        "colab": {
          "base_uri": "https://localhost:8080/",
          "height": 68
        }
      },
      "source": [
        "data = list([1, 'book', 3])\n",
        "\n",
        "print(type(data))\n",
        "data[1]  # accessing elements of list\n",
        "\n",
        "######################\n",
        "\n",
        "list1 = [1,2,3,4,5,6]\n",
        "list1.append(7)  ## add at the end\n",
        "print(list1)\n",
        "\n",
        "list1.insert(0,0) # .insert(<pos>,<data>)\n",
        "print(list1)"
      ],
      "execution_count": null,
      "outputs": [
        {
          "output_type": "stream",
          "text": [
            "<class 'list'>\n",
            "[1, 2, 3, 4, 5, 6, 7]\n",
            "[0, 1, 2, 3, 4, 5, 6, 7]\n"
          ],
          "name": "stdout"
        }
      ]
    },
    {
      "cell_type": "code",
      "metadata": {
        "id": "Jt_7t1L6n7nV",
        "outputId": "8cac602a-3ac6-4c55-e58d-8c962f5050ac",
        "colab": {
          "base_uri": "https://localhost:8080/",
          "height": 34
        }
      },
      "source": [
        "# remoing elements from list\n",
        "list1.remove(0) # specify element\n",
        "list1"
      ],
      "execution_count": null,
      "outputs": [
        {
          "output_type": "execute_result",
          "data": {
            "text/plain": [
              "[1, 2, 3, 4, 5, 6, 7]"
            ]
          },
          "metadata": {
            "tags": []
          },
          "execution_count": 21
        }
      ]
    },
    {
      "cell_type": "code",
      "metadata": {
        "id": "h0h8hIHnn7f5",
        "outputId": "f3bf19ed-998d-4e6a-9cb5-d4bfc2bbad7d",
        "colab": {
          "base_uri": "https://localhost:8080/",
          "height": 51
        }
      },
      "source": [
        "# arrangment\n",
        "list1.reverse()\n",
        "print(list1)\n",
        "\n",
        "list1.sort()\n",
        "print(list1) # in assending order"
      ],
      "execution_count": null,
      "outputs": [
        {
          "output_type": "stream",
          "text": [
            "[7, 6, 5, 4, 3, 2, 1]\n",
            "[1, 2, 3, 4, 5, 6, 7]\n"
          ],
          "name": "stdout"
        }
      ]
    },
    {
      "cell_type": "code",
      "metadata": {
        "id": "YQRyysLHneOE"
      },
      "source": [
        ""
      ],
      "execution_count": null,
      "outputs": []
    },
    {
      "cell_type": "markdown",
      "metadata": {
        "id": "_xukxBGprfmj"
      },
      "source": [
        "---\n",
        "\n",
        "## Linked List\n"
      ]
    },
    {
      "cell_type": "markdown",
      "metadata": {
        "id": "28FwHNcV41gT"
      },
      "source": [
        "### NODE\n",
        "* Elements are stored in NODEs\n",
        "* Each nodes have two fields:\n",
        "  * Data\n",
        "  * Next\n",
        "* Holds link to only one next node  \n"
      ]
    },
    {
      "cell_type": "code",
      "metadata": {
        "id": "06_MxcmSyTgf"
      },
      "source": [
        "# creating a NODE\n",
        "\n",
        "## how a single node looks like \n",
        "class Node:\n",
        "  def __init__(self, data):\n",
        "    self.data = data\n",
        "    self.next = None"
      ],
      "execution_count": 1,
      "outputs": []
    },
    {
      "cell_type": "markdown",
      "metadata": {
        "id": "DP-7sTg84vRM"
      },
      "source": [
        "\n",
        "### Singly Linked Lists\n",
        "##### **Insertions:**\n",
        "1. Can be done in 3 ways:  \n",
        "  * At top (begining)\n",
        "  * At bottom (end)\n",
        "  * In between\n",
        "2. There can be following situations:\n",
        "  * Linked List is empty\n",
        "  * Linked List Already has any element at that place\n",
        "    * Remove\n",
        "    * Replace\n",
        "3. Decision making for head/rear position change\n",
        "\n",
        "\n",
        "##### **Display:**\n",
        "1. Navigation through the sequence untill NULL encounters\n",
        "2. There can be following situations:\n",
        "  * Linked List is Empty\n",
        "  * Linked List has some element(s) to display"
      ]
    },
    {
      "cell_type": "code",
      "metadata": {
        "id": "ut-gcBcMyTxC"
      },
      "source": [
        "# creating a linked list\n",
        "## insertion and traversal\n",
        "\n",
        "class linkedList:\n",
        "  def __init__(self):\n",
        "    self.head = None\n",
        "\n",
        "  #################################################\n",
        "\n",
        "  # insert at begining\n",
        "  def push(self, newData):\n",
        "    newNode = Node(newData)\n",
        "    newNode.next = self.head # points to node that was head earlier\n",
        "    self.head = newNode # making new node as head\n",
        "  \n",
        "  # insert at a specific location\n",
        "  def insertAfter(self, prevNode, newData):\n",
        "    if prevNode is None:\n",
        "      print(\"The given node does not exist!!\")\n",
        "    else:\n",
        "      newNode = Node(newData)\n",
        "      newNode.next = prevNode.next\n",
        "      prevNode.next = newNode\n",
        "    return\n",
        "  \n",
        "  # insert at the end\n",
        "  def append(self, newNode):\n",
        "    newNode = Node(newNode)\n",
        "    if self.head is None:\n",
        "      self.head = newNode\n",
        "    else:\n",
        "      last = self.head\n",
        "      while(last.next):\n",
        "        last = last.next\n",
        "      last.next = newNode\n",
        "    return\n",
        "\n",
        "  #################################################\n",
        "  \n",
        "  # printing\n",
        "  def printList(self):\n",
        "    temp = self.head\n",
        "    while(temp):\n",
        "      print(temp.data)\n",
        "      temp = temp.next\n",
        "    return"
      ],
      "execution_count": 15,
      "outputs": []
    },
    {
      "cell_type": "code",
      "metadata": {
        "id": "WU6zaAmAyT5M",
        "outputId": "a83b2b9a-60fd-4ca6-b423-1b1687f544f7",
        "colab": {
          "base_uri": "https://localhost:8080/",
          "height": 102
        }
      },
      "source": [
        "## implementation\n",
        "if __name__ == '__main__':\n",
        "  lList = linkedList()\n",
        "\n",
        "  # insertion\n",
        "  lList.append(6) # at end\n",
        "  lList.push(7) # at beg\n",
        "  lList.push(1) # at beg\n",
        "  lList.append(4) # at end\n",
        "  lList.insertAfter(lList.head.next,3) # at third loc i.e. after second node \n",
        "\n",
        "  # display\n",
        "  lList.printList()\n"
      ],
      "execution_count": 16,
      "outputs": [
        {
          "output_type": "stream",
          "text": [
            "1\n",
            "7\n",
            "3\n",
            "6\n",
            "4\n"
          ],
          "name": "stdout"
        }
      ]
    },
    {
      "cell_type": "markdown",
      "metadata": {
        "id": "ExAlDO6Y9qlG"
      },
      "source": [
        "##### **Deletion:**\n",
        "1. Can be done in 3 ways:  \n",
        "  * From top (begining)\n",
        "  * From bottom (end)\n",
        "  * From between\n",
        "2. There can be following situations:\n",
        "  * Linked List is Empty\n",
        "  * Linked List has any element at that place\n",
        "3. Decision making for head/rear position change\n",
        "4. Positioning the links of adjacent nodes"
      ]
    },
    {
      "cell_type": "code",
      "metadata": {
        "id": "Au4RRDFPyUCb"
      },
      "source": [
        "# creating a linked list\n",
        "## deletion and traversal\n",
        "\n",
        "class linkedList:\n",
        "  def __init__(self):\n",
        "    self.head = None\n",
        "\n",
        "  #################################################\n",
        "\n",
        "  # insert at begining\n",
        "  def push(self, newData):\n",
        "    newNode = Node(newData)\n",
        "    newNode.next = self.head # points to node that was head earlier\n",
        "    self.head = newNode # making new node as head\n",
        "\n",
        "  #################################################\n",
        "  \n",
        "  # delete node having daya = key (passed)\n",
        "  def deleteNode(self, key):\n",
        "    if self.head is None:\n",
        "      print(\"Linked List is Empty!!\")\n",
        "      return\n",
        "    elif self.head.data == key:\n",
        "      self.head = self.head.next\n",
        "      print(key,\" Deleted!!\")\n",
        "      return\n",
        "    else:\n",
        "      temp = self.head\n",
        "      while(temp.next is not None):\n",
        "        if temp.next.data == key:\n",
        "          temp.next = temp.next.next\n",
        "          print(key,\" Deleted!!\")\n",
        "          return\n",
        "        else:\n",
        "          temp = temp.next\n",
        "      print(\"Not Found!!\")\n",
        "      return\n",
        "      \n",
        "\n",
        "  #################################################\n",
        "  \n",
        "  # printing\n",
        "  def printList(self):\n",
        "    temp = self.head\n",
        "    while(temp):\n",
        "      print(temp.data)\n",
        "      temp = temp.next\n",
        "    print(\"\\n\")\n",
        "    return"
      ],
      "execution_count": 50,
      "outputs": []
    },
    {
      "cell_type": "code",
      "metadata": {
        "id": "ixCD7LyJyUAE",
        "outputId": "bb19b8f9-e0f2-4497-a739-d4e56b3e7154",
        "colab": {
          "base_uri": "https://localhost:8080/",
          "height": 289
        }
      },
      "source": [
        "## implementation\n",
        "if __name__ == '__main__':\n",
        "  lList = linkedList()\n",
        "\n",
        "  lList.push(7)\n",
        "  lList.push(1)\n",
        "  lList.push(3)\n",
        "  lList.push(2)\n",
        "\n",
        "  print(\"Created linked list1: \")\n",
        "  lList.printList()\n",
        "\n",
        "  lList.deleteNode(7)\n",
        "\n",
        "  print(\"\\n\\nlinked list1 after deleting 1: \")\n",
        "  lList.printList()"
      ],
      "execution_count": 51,
      "outputs": [
        {
          "output_type": "stream",
          "text": [
            "Created linked list1: \n",
            "2\n",
            "3\n",
            "1\n",
            "7\n",
            "\n",
            "\n",
            "7  Deleted!!\n",
            "\n",
            "\n",
            "linked list1 after deleting 1: \n",
            "2\n",
            "3\n",
            "1\n",
            "\n",
            "\n"
          ],
          "name": "stdout"
        }
      ]
    },
    {
      "cell_type": "code",
      "metadata": {
        "id": "o502zKiCyT1x"
      },
      "source": [
        ""
      ],
      "execution_count": null,
      "outputs": []
    },
    {
      "cell_type": "code",
      "metadata": {
        "id": "ph2Xgn3ayTpG"
      },
      "source": [
        ""
      ],
      "execution_count": null,
      "outputs": []
    }
  ]
}