{
  "nbformat": 4,
  "nbformat_minor": 0,
  "metadata": {
    "colab": {
      "name": "Singly Linked List.ipynb",
      "provenance": [],
      "authorship_tag": "ABX9TyPrDpbACxXyURnDnafE83u+",
      "include_colab_link": true
    },
    "kernelspec": {
      "name": "python3",
      "display_name": "Python 3"
    }
  },
  "cells": [
    {
      "cell_type": "markdown",
      "metadata": {
        "id": "view-in-github",
        "colab_type": "text"
      },
      "source": [
        "<a href=\"https://colab.research.google.com/github/ravi-prakash1907/Data-Structures-and-Algo/blob/main/Own%20Work/Singly%20Linked%20List.ipynb\" target=\"_parent\"><img src=\"https://colab.research.google.com/assets/colab-badge.svg\" alt=\"Open In Colab\"/></a>"
      ]
    },
    {
      "cell_type": "markdown",
      "metadata": {
        "id": "4jauCkffNN0X"
      },
      "source": [
        "# Node"
      ]
    },
    {
      "cell_type": "code",
      "metadata": {
        "id": "eKaE2o_aNc3a"
      },
      "source": [
        "# NODE\n",
        "class Node:\n",
        "  def __init__(self):\n",
        "    tempData = input(\"Enter the data: \")\n",
        "    self.data = tempData\n",
        "    self.next = None"
      ],
      "execution_count": 2,
      "outputs": []
    },
    {
      "cell_type": "code",
      "metadata": {
        "id": "ISunQbBxNuim"
      },
      "source": [
        "## Function for menu\n",
        "\n",
        "def menu():\n",
        "  print(\"Menu:\\n-----\")\n",
        "  print(\" 1) Push\\n 2) Pop\\n 3) Traverse\\n\\n *  Any other key to exit!\\n\")\n",
        "  ch = int(input(\"Your choice: \"))\n",
        "  return ch"
      ],
      "execution_count": 3,
      "outputs": []
    },
    {
      "cell_type": "markdown",
      "metadata": {
        "id": "pZbZ5SkSNfDm"
      },
      "source": [
        "## Stack"
      ]
    },
    {
      "cell_type": "code",
      "metadata": {
        "id": "_w3d0VxpM7p_"
      },
      "source": [
        "## STACK using Linked List Construction\n",
        "## LIFO\n",
        "\n",
        "# STACK\n",
        "class Stack:\n",
        "  def __init__(self):\n",
        "    self.head = None\n",
        "    self.tail = None\n",
        "    \n",
        "  ## Print\n",
        "  def traverse(self):\n",
        "    temp=self.head\n",
        "    while(temp):\n",
        "      print(temp.data)\n",
        "      temp = temp.next\n",
        "    \n",
        "  ## to add data\n",
        "  def push(self):\n",
        "    temp = Node()\n",
        "    if self.head is None:\n",
        "      self.head = temp\n",
        "      self.tail = temp\n",
        "    else:\n",
        "      temp.next = self.head\n",
        "      self.head = temp\n",
        "    print(\"Pushed!!\\n\\n\")\n",
        "  \n",
        "  ## to delete the element(s)\n",
        "  def pop(self):\n",
        "    if self.head is None:\n",
        "      print(\"Stack Underflow!!\\n\\n\")\n",
        "    else:\n",
        "      if self.head == self.tail:\n",
        "        self.head = self.tail = None\n",
        "      else:\n",
        "        temp = self.head\n",
        "        while(temp.next != self.tail):\n",
        "          temp = temp.next\n",
        "        temp.next = None\n",
        "        self.tail = temp\n",
        "      print(\"Popped!!\\n\\n\")"
      ],
      "execution_count": 8,
      "outputs": []
    },
    {
      "cell_type": "markdown",
      "metadata": {
        "id": "L5sEoiKpNjwK"
      },
      "source": [
        "#### Implementing the Stack"
      ]
    },
    {
      "cell_type": "code",
      "metadata": {
        "id": "dugn19FCNnA7",
        "outputId": "ee805905-674c-48ca-cbb3-b260846a9cfa",
        "colab": {
          "base_uri": "https://localhost:8080/",
          "height": 1000
        }
      },
      "source": [
        "if __name__ == \"__main__\":\n",
        "  llist = Stack()\n",
        "\n",
        "  # Menu\n",
        "  choice = menu()\n",
        "\n",
        "  while(choice in (1,2,3)):\n",
        "    if choice == 1:\n",
        "      llist.push()\n",
        "    elif choice == 2:\n",
        "      llist.pop()\n",
        "    else:\n",
        "      llist.traverse()\n",
        "      print(\"\\n\\n\")\n",
        "    choice = menu()\n",
        "  \n",
        "  print(\"\\nGood Bye!!\")"
      ],
      "execution_count": 9,
      "outputs": [
        {
          "output_type": "stream",
          "text": [
            "Menu:\n",
            "-----\n",
            " 1) Push\n",
            " 2) Pop\n",
            " 3) Traverse\n",
            "\n",
            " *  Any other key to exit!\n",
            "\n",
            "Your choice: 1\n",
            "Enter the data: 1\n",
            "Pushed!!\n",
            "\n",
            "\n",
            "Menu:\n",
            "-----\n",
            " 1) Push\n",
            " 2) Pop\n",
            " 3) Traverse\n",
            "\n",
            " *  Any other key to exit!\n",
            "\n",
            "Your choice: 1\n",
            "Enter the data: 2\n",
            "Pushed!!\n",
            "\n",
            "\n",
            "Menu:\n",
            "-----\n",
            " 1) Push\n",
            " 2) Pop\n",
            " 3) Traverse\n",
            "\n",
            " *  Any other key to exit!\n",
            "\n",
            "Your choice: 1\n",
            "Enter the data: 3\n",
            "Pushed!!\n",
            "\n",
            "\n",
            "Menu:\n",
            "-----\n",
            " 1) Push\n",
            " 2) Pop\n",
            " 3) Traverse\n",
            "\n",
            " *  Any other key to exit!\n",
            "\n",
            "Your choice: 3\n",
            "3\n",
            "2\n",
            "1\n",
            "\n",
            "\n",
            "\n",
            "Menu:\n",
            "-----\n",
            " 1) Push\n",
            " 2) Pop\n",
            " 3) Traverse\n",
            "\n",
            " *  Any other key to exit!\n",
            "\n",
            "Your choice: 2\n",
            "Popped!!\n",
            "\n",
            "\n",
            "Menu:\n",
            "-----\n",
            " 1) Push\n",
            " 2) Pop\n",
            " 3) Traverse\n",
            "\n",
            " *  Any other key to exit!\n",
            "\n",
            "Your choice: 3\n",
            "3\n",
            "2\n",
            "\n",
            "\n",
            "\n",
            "Menu:\n",
            "-----\n",
            " 1) Push\n",
            " 2) Pop\n",
            " 3) Traverse\n",
            "\n",
            " *  Any other key to exit!\n",
            "\n",
            "Your choice: 5\n",
            "\n",
            "Good Bye!!\n"
          ],
          "name": "stdout"
        }
      ]
    },
    {
      "cell_type": "markdown",
      "metadata": {
        "id": "m5CwmnQbOVdI"
      },
      "source": [
        "## Queue"
      ]
    },
    {
      "cell_type": "code",
      "metadata": {
        "id": "AuvuK9THOWzK"
      },
      "source": [
        "## QUEUE using Linked List Construction\n",
        "## FIFO\n",
        "\n",
        "# QUEUE\n",
        "class Queue:\n",
        "  def __init__(self):\n",
        "    self.head = None\n",
        "    self.tail = None\n",
        "    \n",
        "  ## Print\n",
        "  def traverse(self):\n",
        "    temp=self.head\n",
        "    while(temp):\n",
        "      print(temp.data)\n",
        "      temp = temp.next\n",
        "    \n",
        "  ## to add data\n",
        "  def push(self):\n",
        "    temp = Node()\n",
        "    if self.head is None:\n",
        "      self.head = temp\n",
        "      self.tail = temp\n",
        "    else:\n",
        "      self.tail.next = temp\n",
        "      self.tail = temp\n",
        "    print(\"Pushed!!\\n\\n\")\n",
        "  \n",
        "  ## to delete the element(s)\n",
        "  def pop(self):\n",
        "    if self.head is None:\n",
        "      print(\"Stack Underflow!!\\n\\n\")\n",
        "    else:\n",
        "      if self.head == self.tail:\n",
        "        self.head = self.tail = None\n",
        "      else:\n",
        "        self.head = self.head.next\n",
        "      print(\"Popped!!\\n\\n\")"
      ],
      "execution_count": 6,
      "outputs": []
    },
    {
      "cell_type": "markdown",
      "metadata": {
        "id": "g5fQyFYaR3B6"
      },
      "source": [
        "#### Implementing the Queue"
      ]
    },
    {
      "cell_type": "code",
      "metadata": {
        "id": "7yVx2wICP0Wu",
        "outputId": "6893426d-adc3-475c-e9e3-f4109593016b",
        "colab": {
          "base_uri": "https://localhost:8080/",
          "height": 1000
        }
      },
      "source": [
        "if __name__ == \"__main__\":\n",
        "  llist = Queue()\n",
        "\n",
        "  # Menu\n",
        "  choice = menu()\n",
        "\n",
        "  while(choice in (1,2,3)):\n",
        "    if choice == 1:\n",
        "      llist.push()\n",
        "    elif choice == 2:\n",
        "      llist.pop()\n",
        "    else:\n",
        "      llist.traverse()\n",
        "      print(\"\\n\\n\")\n",
        "    choice = menu()\n",
        "  \n",
        "  print(\"\\nGood Bye!!\")"
      ],
      "execution_count": 7,
      "outputs": [
        {
          "output_type": "stream",
          "text": [
            "Menu:\n",
            "-----\n",
            " 1) Push\n",
            " 2) Pop\n",
            " 3) Traverse\n",
            "\n",
            " *  Any other key to exit!\n",
            "\n",
            "Your choice: 1\n",
            "Enter the data: 1\n",
            "Pushed!!\n",
            "\n",
            "\n",
            "Menu:\n",
            "-----\n",
            " 1) Push\n",
            " 2) Pop\n",
            " 3) Traverse\n",
            "\n",
            " *  Any other key to exit!\n",
            "\n",
            "Your choice: 1\n",
            "Enter the data: 2\n",
            "Pushed!!\n",
            "\n",
            "\n",
            "Menu:\n",
            "-----\n",
            " 1) Push\n",
            " 2) Pop\n",
            " 3) Traverse\n",
            "\n",
            " *  Any other key to exit!\n",
            "\n",
            "Your choice: 1\n",
            "Enter the data: 3\n",
            "Pushed!!\n",
            "\n",
            "\n",
            "Menu:\n",
            "-----\n",
            " 1) Push\n",
            " 2) Pop\n",
            " 3) Traverse\n",
            "\n",
            " *  Any other key to exit!\n",
            "\n",
            "Your choice: 3\n",
            "1\n",
            "2\n",
            "3\n",
            "\n",
            "\n",
            "\n",
            "Menu:\n",
            "-----\n",
            " 1) Push\n",
            " 2) Pop\n",
            " 3) Traverse\n",
            "\n",
            " *  Any other key to exit!\n",
            "\n",
            "Your choice: 2\n",
            "Popped!!\n",
            "\n",
            "\n",
            "Menu:\n",
            "-----\n",
            " 1) Push\n",
            " 2) Pop\n",
            " 3) Traverse\n",
            "\n",
            " *  Any other key to exit!\n",
            "\n",
            "Your choice: 3\n",
            "2\n",
            "3\n",
            "\n",
            "\n",
            "\n",
            "Menu:\n",
            "-----\n",
            " 1) Push\n",
            " 2) Pop\n",
            " 3) Traverse\n",
            "\n",
            " *  Any other key to exit!\n",
            "\n",
            "Your choice: 5\n",
            "\n",
            "Good Bye!!\n"
          ],
          "name": "stdout"
        }
      ]
    },
    {
      "cell_type": "code",
      "metadata": {
        "id": "VqPNzZwDP59f"
      },
      "source": [
        ""
      ],
      "execution_count": null,
      "outputs": []
    }
  ]
}