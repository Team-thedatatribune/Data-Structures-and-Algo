{
  "nbformat": 4,
  "nbformat_minor": 0,
  "metadata": {
    "colab": {
      "name": "Untitled0.ipynb",
      "provenance": [],
      "include_colab_link": true
    },
    "kernelspec": {
      "name": "python3",
      "display_name": "Python 3"
    }
  },
  "cells": [
    {
      "cell_type": "markdown",
      "metadata": {
        "id": "view-in-github",
        "colab_type": "text"
      },
      "source": [
        "<a href=\"https://colab.research.google.com/github/ravi-prakash1907/Data-Structures-and-Algo/blob/main/Own%20Work/Class%20Lab/Lab%205.ipynb\" target=\"_parent\"><img src=\"https://colab.research.google.com/assets/colab-badge.svg\" alt=\"Open In Colab\"/></a>"
      ]
    },
    {
      "cell_type": "markdown",
      "metadata": {
        "id": "ZGKYci7wrSZc"
      },
      "source": [
        "# Lab 5"
      ]
    },
    {
      "cell_type": "markdown",
      "metadata": {
        "id": "VDDrX3JgvEVK"
      },
      "source": [
        "## Recursion"
      ]
    },
    {
      "cell_type": "code",
      "metadata": {
        "id": "av-AgnThyh5w"
      },
      "source": [
        "# fact\n"
      ],
      "execution_count": null,
      "outputs": []
    },
    {
      "cell_type": "markdown",
      "metadata": {
        "id": "qfflbGlOyjI6"
      },
      "source": [
        "### Heap"
      ]
    },
    {
      "cell_type": "code",
      "metadata": {
        "id": "X2tX5t44ykgh"
      },
      "source": [
        ""
      ],
      "execution_count": null,
      "outputs": []
    }
  ]
}