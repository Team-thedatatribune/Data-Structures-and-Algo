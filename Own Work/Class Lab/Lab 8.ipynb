{
  "nbformat": 4,
  "nbformat_minor": 0,
  "metadata": {
    "colab": {
      "name": "Lab 8.ipynb",
      "provenance": [],
      "include_colab_link": true
    },
    "kernelspec": {
      "name": "python3",
      "display_name": "Python 3"
    }
  },
  "cells": [
    {
      "cell_type": "markdown",
      "metadata": {
        "id": "view-in-github",
        "colab_type": "text"
      },
      "source": [
        "<a href=\"https://colab.research.google.com/github/ravi-prakash1907/Data-Structures-and-Algo/blob/main/Own%20Work/Class%20Lab/Lab%208.ipynb\" target=\"_parent\"><img src=\"https://colab.research.google.com/assets/colab-badge.svg\" alt=\"Open In Colab\"/></a>"
      ]
    },
    {
      "cell_type": "markdown",
      "metadata": {
        "id": "ZGKYci7wrSZc"
      },
      "source": [
        "# Lab 8"
      ]
    },
    {
      "cell_type": "markdown",
      "metadata": {
        "id": "VDDrX3JgvEVK"
      },
      "source": [
        "## Graphs\n",
        "\n",
        "They have:  \n",
        "1. Vertices  \n",
        "2. Edges  \n",
        "\n",
        "Can be:  \n",
        "* Directed  \n",
        "* Undirected  \n",
        "* Weighted  \n",
        "* Unweighted  \n",
        "\n",
        "Represented using:  \n",
        "* Adjacency Matrix  \n",
        "* Adjacency List/Array  \n",
        "\n"
      ]
    },
    {
      "cell_type": "code",
      "metadata": {
        "id": "wFhZLFszAzHs",
        "colab": {
          "base_uri": "https://localhost:8080/"
        },
        "outputId": "43a639ce-3ade-4e58-f430-39b39ab271d2"
      },
      "source": [
        "## best way of representing graphs is dictionary\n",
        "graph = { \"a\" : [\"b\", \"c\"],\n",
        "          \"b\" : [\"a\", \"d\"],\n",
        "          \"c\" : [\"a\", \"d\"],\n",
        "          \"d\" : [\"e\"],\n",
        "          \"e\" : [\"d\"]\n",
        "         }\n",
        "\n",
        "# Print the graph \t\t \n",
        "print(graph)"
      ],
      "execution_count": null,
      "outputs": [
        {
          "output_type": "stream",
          "text": [
            "{'a': ['b', 'c'], 'b': ['a', 'd'], 'c': ['a', 'd'], 'd': ['e'], 'e': ['d']}\n"
          ],
          "name": "stdout"
        }
      ]
    },
    {
      "cell_type": "code",
      "metadata": {
        "id": "R0My8Ne7BReT",
        "colab": {
          "base_uri": "https://localhost:8080/"
        },
        "outputId": "657b3824-ec61-48ab-ae07-f61029de4d55"
      },
      "source": [
        "class graph:\n",
        "  def __init__(self, gdict = None):\n",
        "    if gdict is None:\n",
        "      gdict = []\n",
        "    self.gdict = gdict\n",
        "  \n",
        "  def getVertices(self):\n",
        "    return list(self.gdict.keys())\n",
        "  \n",
        "##############\n",
        "graph_data = { \"a\" : [\"b\", \"c\"],\n",
        "          \"b\" : [\"a\", \"d\"],\n",
        "          \"c\" : [\"a\", \"d\"],\n",
        "          \"d\" : [\"e\"],\n",
        "          \"e\" : [\"d\"]\n",
        "         }\n",
        "\n",
        "g = graph(graph_data)\n",
        "print(g.getVertices())"
      ],
      "execution_count": null,
      "outputs": [
        {
          "output_type": "stream",
          "text": [
            "['a', 'b', 'c', 'd', 'e']\n"
          ],
          "name": "stdout"
        }
      ]
    },
    {
      "cell_type": "code",
      "metadata": {
        "id": "2_espcXGCHrS",
        "colab": {
          "base_uri": "https://localhost:8080/"
        },
        "outputId": "a309a08a-c121-48d7-d18e-5226de69bc66"
      },
      "source": [
        "class graph:\n",
        "  def __init__(self, gdict = None):\n",
        "    if gdict is None:\n",
        "      gdict = {}\n",
        "    self.gdict = gdict\n",
        "  \n",
        "  def edges(self):\n",
        "    return self.findedges()\n",
        "  \n",
        "  ## list of distinct list of the edges\n",
        "  def findedges(self):\n",
        "    edgeName = []\n",
        "    for vrtx in self.gdict:\n",
        "      for nxtvrtx in self.gdict[vrtx]:\n",
        "        if {nxtvrtx, vrtx} not in edgeName:\n",
        "          edgeName.append({nxtvrtx, vrtx})\n",
        "    return edgeName\n",
        "\n",
        "\n",
        "##################\n",
        "g = graph(graph_data)\n",
        "print(g.edges())"
      ],
      "execution_count": null,
      "outputs": [
        {
          "output_type": "stream",
          "text": [
            "[{'b', 'a'}, {'c', 'a'}, {'b', 'd'}, {'c', 'd'}, {'e', 'd'}]\n"
          ],
          "name": "stdout"
        }
      ]
    },
    {
      "cell_type": "markdown",
      "metadata": {
        "id": "SUzr--t7Dygm"
      },
      "source": [
        "### Directed Graph\n",
        "\n",
        "Have no weight for the vertices"
      ]
    },
    {
      "cell_type": "code",
      "metadata": {
        "id": "WRkNUEnED1m-",
        "colab": {
          "base_uri": "https://localhost:8080/"
        },
        "outputId": "5939cd5f-ff0d-40e2-f6f0-12b6d10c55c0"
      },
      "source": [
        "# Directed Graph Implementation in Python\n",
        " \n",
        " \n",
        "# data structure to store graph edges\n",
        "class Edge:\n",
        "    def __init__(self, src, dest):\n",
        "        self.src = src\n",
        "        self.dest = dest\n",
        " \n",
        " \n",
        "# class to represent a graph object:\n",
        "class Graph:\n",
        "    # Constructor\n",
        "    def __init__(self, edges, N):\n",
        "        # allocate memory for the adjacency list\n",
        "        self.adj = [[] for _ in range(N)]\n",
        " \n",
        "        # add edges to the undirected graph\n",
        "        for current in edges:\n",
        "            # allocate node in adjacency List from src to dest\n",
        "            self.adj[current.src].append(current.dest)\n",
        " \n",
        " \n",
        "# print adjacency list representation of graph\n",
        "def printGraph(graph):\n",
        "    for src in range(len(graph.adj)):\n",
        "        # print current vertex and all its neighboring vertices\n",
        "        for dest in graph.adj[src]:\n",
        "            print(f\"({src} -> {dest}) \", end=\"\")\n",
        "        print()\n",
        " \n",
        " \n",
        "if __name__ == '__main__':\n",
        " \n",
        "    # Input: Edges in a directed graph\n",
        "    edges = [Edge(0, 1), Edge(1, 2), Edge(2, 0), Edge(2, 1),\n",
        "             Edge(3, 2), Edge(4, 5), Edge(5, 4)]\n",
        " \n",
        "    # Input: No of vertices\n",
        "    N = 6\n",
        " \n",
        "    # construct graph from given list of edges\n",
        "    graph = Graph(edges, N)\n",
        " \n",
        "    # print adjacency list representation of the graph\n",
        "    printGraph(graph)"
      ],
      "execution_count": null,
      "outputs": [
        {
          "output_type": "stream",
          "text": [
            "(0 -> 1) \n",
            "(1 -> 2) \n",
            "(2 -> 0) (2 -> 1) \n",
            "(3 -> 2) \n",
            "(4 -> 5) \n",
            "(5 -> 4) \n"
          ],
          "name": "stdout"
        }
      ]
    },
    {
      "cell_type": "markdown",
      "metadata": {
        "id": "84UgTvPxEeGH"
      },
      "source": [
        "### Weighted Directed Graphs\n",
        "Have weights on the edges"
      ]
    },
    {
      "cell_type": "code",
      "metadata": {
        "id": "EAsre65sETgb",
        "colab": {
          "base_uri": "https://localhost:8080/"
        },
        "outputId": "40a6dfb1-460a-4f07-b037-96966f5e2d9c"
      },
      "source": [
        "# Weighted Directed Graph Implementation in Python\n",
        " \n",
        " \n",
        "# data structure to store graph edges\n",
        "class Edge:\n",
        "    def __init__(self, src, dest, weight):\n",
        "        self.src = src\n",
        "        self.dest = dest\n",
        "        self.weight = weight\n",
        " \n",
        " \n",
        "# data structure for adjacency list node\n",
        "class Node:\n",
        "    def __init__(self, value, weight):\n",
        "        self.value = value\n",
        "        self.weight = weight\n",
        " \n",
        " \n",
        "# class to represent a graph object\n",
        "class Graph:\n",
        "    # Constructor to construct graph\n",
        "    def __init__(self, edges, N):\n",
        " \n",
        "        # A list of lists to represent adjacency list\n",
        "        self.adj = [None] * N\n",
        " \n",
        "        # allocate memory for adjacency list\n",
        "        for i in range(N):\n",
        "            self.adj[i] = []\n",
        " \n",
        "        # add edges to the undirected graph\n",
        "        for e in edges:\n",
        "            # allocate node in adjacency List from src to dest\n",
        "            node = Node(e.dest, e.weight)\n",
        "            self.adj[e.src].append(node)\n",
        " \n",
        " \n",
        "# print adjacency list representation of graph\n",
        "def printGraph(graph):\n",
        "    for src in range(len(graph.adj)):\n",
        "        # print current vertex and all its neighboring vertices\n",
        "        for edge in graph.adj[src]:\n",
        "            print(f\"({src} -> {edge.value}, {edge.weight}) \", end='')\n",
        "        print()\n",
        " \n",
        " \n",
        "if __name__ == '__main__':\n",
        " \n",
        "    # Input: Edges in a weighted digraph (as per above diagram)\n",
        "    # Edge(x, y, w) represents an edge from x to y having weight w\n",
        "    edges = [Edge(0, 1, 6), Edge(1, 2, 7), Edge(2, 0, 5), Edge(2, 1, 4),\n",
        "             Edge(3, 2, 10), Edge(4, 5, 1), Edge(5, 4, 3)]\n",
        " \n",
        "    # Input: No of vertices\n",
        "    N = 6\n",
        " \n",
        "    # construct graph from given list of edges\n",
        "    graph = Graph(edges, N)\n",
        " \n",
        "    # print adjacency list representation of the graph\n",
        "    printGraph(graph)"
      ],
      "execution_count": null,
      "outputs": [
        {
          "output_type": "stream",
          "text": [
            "(0 -> 1, 6) \n",
            "(1 -> 2, 7) \n",
            "(2 -> 0, 5) (2 -> 1, 4) \n",
            "(3 -> 2, 10) \n",
            "(4 -> 5, 1) \n",
            "(5 -> 4, 3) \n"
          ],
          "name": "stdout"
        }
      ]
    },
    {
      "cell_type": "markdown",
      "metadata": {
        "id": "gVwCZrHS_EN5"
      },
      "source": [
        "---\n",
        "\n",
        "## Spanning Trees  \n",
        "\n",
        "Are sub-graphs of the Undirected-Graphs  \n"
      ]
    },
    {
      "cell_type": "markdown",
      "metadata": {
        "id": "EMT6bH3R_gRW"
      },
      "source": [
        "### Minimum Spanning Trees  \n",
        "1. Krushkal's Algo  \n",
        "2. Prim's Algo"
      ]
    },
    {
      "cell_type": "code",
      "metadata": {
        "id": "9yjBamKW_CIj"
      },
      "source": [
        ""
      ],
      "execution_count": null,
      "outputs": []
    },
    {
      "cell_type": "code",
      "metadata": {
        "id": "av-AgnThyh5w"
      },
      "source": [
        "# fact\n"
      ],
      "execution_count": null,
      "outputs": []
    },
    {
      "cell_type": "markdown",
      "metadata": {
        "id": "qfflbGlOyjI6"
      },
      "source": [
        "## Greedy Algos\n"
      ]
    },
    {
      "cell_type": "code",
      "metadata": {
        "id": "X2tX5t44ykgh"
      },
      "source": [
        ""
      ],
      "execution_count": null,
      "outputs": []
    },
    {
      "cell_type": "markdown",
      "metadata": {
        "id": "3cCkNrgFAfGw"
      },
      "source": [
        "## Tree Traversal\n",
        "* BSF"
      ]
    },
    {
      "cell_type": "code",
      "metadata": {
        "id": "MJZb4N6bAjh8"
      },
      "source": [
        ""
      ],
      "execution_count": null,
      "outputs": []
    },
    {
      "cell_type": "markdown",
      "metadata": {
        "id": "k7eF-QHYAkQC"
      },
      "source": [
        "* DFS"
      ]
    },
    {
      "cell_type": "code",
      "metadata": {
        "id": "TNOawsXPAmMS"
      },
      "source": [
        ""
      ],
      "execution_count": null,
      "outputs": []
    },
    {
      "cell_type": "markdown",
      "metadata": {
        "id": "opDJIzYCAoEd"
      },
      "source": [
        "### Dijkshthra's Algo"
      ]
    },
    {
      "cell_type": "code",
      "metadata": {
        "id": "FY4NsZcwAtz-"
      },
      "source": [
        ""
      ],
      "execution_count": null,
      "outputs": []
    }
  ]
}