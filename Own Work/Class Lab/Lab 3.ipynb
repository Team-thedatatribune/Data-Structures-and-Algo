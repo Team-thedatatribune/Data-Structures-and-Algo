{
  "nbformat": 4,
  "nbformat_minor": 0,
  "metadata": {
    "colab": {
      "name": "Untitled0.ipynb",
      "provenance": [],
      "include_colab_link": true
    },
    "kernelspec": {
      "name": "python3",
      "display_name": "Python 3"
    }
  },
  "cells": [
    {
      "cell_type": "markdown",
      "metadata": {
        "id": "view-in-github",
        "colab_type": "text"
      },
      "source": [
        "<a href=\"https://colab.research.google.com/github/ravi-prakash1907/Data-Structures-and-Algo/blob/main/Own%20Work/Class%20Lab/Lab%203.ipynb\" target=\"_parent\"><img src=\"https://colab.research.google.com/assets/colab-badge.svg\" alt=\"Open In Colab\"/></a>"
      ]
    },
    {
      "cell_type": "markdown",
      "metadata": {
        "id": "ZGKYci7wrSZc"
      },
      "source": [
        "# Lab 3"
      ]
    },
    {
      "cell_type": "markdown",
      "metadata": {
        "id": "VDDrX3JgvEVK"
      },
      "source": [
        "## Circular Linked List"
      ]
    },
    {
      "cell_type": "code",
      "metadata": {
        "id": "P4S2sffRvDgH"
      },
      "source": [
        "# node\n",
        "class Node:\n",
        "  def __init__(self, data):\n",
        "    self.data = data\n",
        "    self.next = None\n",
        "\n",
        "# defining circular linked list\n",
        "class CircularLinkedList:\n",
        "  def __init__(self):\n",
        "    self.head = None\n",
        "  \n",
        "  def push(self, data):\n",
        "    ptr1 = Node(data)\n",
        "    temp = self.head\n",
        "    ptr1.next = self.head\n",
        "\n",
        "    if self.head is not None:\n",
        "      while(temp.next != self.head):\n",
        "        temp = temp.next\n",
        "      temp.next = ptr1\n",
        "    else:\n",
        "      ptr1.next = ptr1\n",
        "\n",
        "    self.head = ptr1\n",
        "\n",
        "  # Function to print nodes in a given circular linked list\n",
        "  def printList(self):\n",
        "    temp = self.head\n",
        "    if self.head is not None:\n",
        "      while(True):\n",
        "        print (\"%d\" %(temp.data), )\n",
        "        temp = temp.next\n",
        "        if (temp == self.head):\n",
        "          break\n",
        "  "
      ],
      "execution_count": 7,
      "outputs": []
    },
    {
      "cell_type": "code",
      "metadata": {
        "id": "ExAth3jdrPbm",
        "outputId": "1de562e2-0fc4-4ef9-c9c7-c7c1532e6f22",
        "colab": {
          "base_uri": "https://localhost:8080/",
          "height": 119
        }
      },
      "source": [
        "## implementation of circular linked list\n",
        "\n",
        "cllist = CircularLinkedList() \n",
        "\n",
        "# Created linked list will be 11->2->56->12 \n",
        "cllist.push(12) \n",
        "cllist.push(56) \n",
        "cllist.push(2) \n",
        "cllist.push(11)\n",
        "cllist.push(18) \n",
        "\n",
        "print (\"Contents of circular Linked List\")\n",
        "cllist.printList() \n",
        "\t\t\t\n"
      ],
      "execution_count": 8,
      "outputs": [
        {
          "output_type": "stream",
          "text": [
            "Contents of circular Linked List\n",
            "18\n",
            "11\n",
            "2\n",
            "56\n",
            "12\n"
          ],
          "name": "stdout"
        }
      ]
    },
    {
      "cell_type": "markdown",
      "metadata": {
        "id": "hTB5csMFxhRD"
      },
      "source": [
        "## Circular L.L. (insertion)\n",
        "### insertion on diff. loc."
      ]
    },
    {
      "cell_type": "code",
      "metadata": {
        "id": "2_aVopngxGDh"
      },
      "source": [
        "class Node:\n",
        "\tdef __init__(self, data):\n",
        "\t\tself.data = data\n",
        "\t\tself.next = None\n",
        "\n",
        "class CircularLinkedList:\n",
        "\tdef __init__(self):\n",
        "\t\tself.last = None\n",
        "\n",
        "\t# This function is only for empty list\n",
        "\tdef addToEmpty(self, data):\n",
        "\n",
        "\t\tif (self.last != None):\n",
        "\t\t\treturn self.last\n",
        "\n",
        "\t\t# Creating the newnode temp\n",
        "\t\ttemp = Node(data)\n",
        "\t\tself.last = temp\n",
        "\n",
        "\t\t# Creating the link\n",
        "\t\tself.last.next = self.last\n",
        "\t\treturn self.last\n",
        "\n",
        "\tdef addBegin(self, data):\n",
        "\n",
        "\t\tif (self.last == None):\n",
        "\t\t\treturn self.addToEmpty(data)\n",
        "\n",
        "\t\ttemp = Node(data)\n",
        "\t\ttemp.next = self.last.next\n",
        "\t\tself.last.next = temp\n",
        "\n",
        "\t\treturn self.last\n",
        "\n",
        "\tdef addEnd(self, data):\n",
        "\n",
        "\t\tif (self.last == None):\n",
        "\t\t\treturn self.addToEmpty(data)\n",
        "\n",
        "\t\ttemp = Node(data)\n",
        "\t\ttemp.next = self.last.next\n",
        "\t\tself.last.next = temp\n",
        "\t\tself.last = temp\n",
        "\n",
        "\t\treturn self.last\n",
        "\n",
        "\tdef addAfter(self, data, item):\n",
        "\n",
        "\t\tif (self.last == None):\n",
        "\t\t\treturn None\n",
        "\n",
        "\t\ttemp = Node(data)\n",
        "\t\tp = self.last.next\n",
        "\t\twhile p:\n",
        "\t\t\tif (p.data == item):\n",
        "\t\t\t\ttemp.next = p.next\n",
        "\t\t\t\tp.next = temp\n",
        "\n",
        "\t\t\t\tif (p == self.last):\n",
        "\t\t\t\t\tself.last = temp\n",
        "\t\t\t\t\treturn self.last\n",
        "\t\t\t\telse:\n",
        "\t\t\t\t\treturn self.last\n",
        "\t\t\tp = p.next\n",
        "\t\t\tif (p == self.last.next):\n",
        "\t\t\t\tprint(item, \"not present in the list\")\n",
        "\t\t\t\tbreak\n",
        "\n",
        "\tdef traverse(self):\n",
        "\t\tif (self.last == None):\n",
        "\t\t\tprint(\"List is empty\")\n",
        "\t\t\treturn\n",
        "\n",
        "\t\ttemp = self.last.next\n",
        "\t\twhile temp:\n",
        "\t\t\tprint(temp.data, end= \" \")\n",
        "\t\t\ttemp = temp.next\n",
        "\t\t\tif temp == self.last.next:\n",
        "\t\t\t\tbreak\n",
        "\n",
        "\n"
      ],
      "execution_count": 9,
      "outputs": []
    },
    {
      "cell_type": "markdown",
      "metadata": {
        "id": "ovelh7VLyqL2"
      },
      "source": [
        "### Driver Code"
      ]
    },
    {
      "cell_type": "code",
      "metadata": {
        "id": "9ZOHu-bxyncB",
        "outputId": "8787249b-47bc-4e00-beeb-180c1fee93b5",
        "colab": {
          "base_uri": "https://localhost:8080/",
          "height": 34
        }
      },
      "source": [
        "if __name__ == '__main__':\n",
        "\n",
        "\tllist = CircularLinkedList()\n",
        "\n",
        "\t#last = llist.addToEmpty(6)\n",
        "\t#last = llist.addBegin(4)\n",
        "\t#last = llist.addBegin(2)\n",
        "\t#last = llist.addEnd(8)\n",
        "\t#last = llist.addEnd(12)\n",
        "\t#last = llist.addAfter(10,8)\n",
        "\t#last = llist.addToEmpty(6)\n",
        "\tlast = llist.addEnd(4)\n",
        "\tlast = llist.addToEmpty(6)\n",
        "\n",
        "\tllist.traverse()"
      ],
      "execution_count": 18,
      "outputs": [
        {
          "output_type": "stream",
          "text": [
            "4 "
          ],
          "name": "stdout"
        }
      ]
    },
    {
      "cell_type": "markdown",
      "metadata": {
        "id": "yObdWCxj0r5G"
      },
      "source": [
        "## Circular L.L. (deletion)"
      ]
    },
    {
      "cell_type": "code",
      "metadata": {
        "id": "ewCIJjQ1yssA",
        "outputId": "f873d609-8ff8-465b-8042-a42afa7bce2d",
        "colab": {
          "base_uri": "https://localhost:8080/",
          "height": 85
        }
      },
      "source": [
        "# Python program to delete a given key from \n",
        "# linked list. \n",
        "\n",
        "# Node of a doubly linked list \n",
        "class Node: \n",
        "\tdef __init__(self, next = None, data = None): \n",
        "\t\tself.next = next\n",
        "\t\tself.data = data \n",
        "\n",
        "# Function to insert a node at the beginning of \n",
        "# a Circular linked list \n",
        "def push(head_ref, data): \n",
        "\n",
        "\t# Create a new node and make head as next \n",
        "\t# of it. \n",
        "\tptr1 = Node() \n",
        "\tptr1.data = data \n",
        "\tptr1.next = head_ref \n",
        "\n",
        "\t# If linked list is not None then set the \n",
        "\t# next of last node \n",
        "\tif (head_ref != None) : \n",
        "\t\t\n",
        "\t\t# Find the node before head and update \n",
        "\t\t# next of it. \n",
        "\t\ttemp = head_ref \n",
        "\t\twhile (temp.next != head_ref): \n",
        "\t\t\ttemp = temp.next\n",
        "\t\ttemp.next = ptr1 \n",
        "\t\n",
        "\telse: \n",
        "\t\tptr1.next = ptr1 # For the first node \n",
        "\n",
        "\thead_ref = ptr1 \n",
        "\treturn head_ref \n",
        "\n",
        "# Function to print nodes in a given \n",
        "# circular linked list \n",
        "def printList( head): \n",
        "\n",
        "\ttemp = head \n",
        "\tif (head != None) : \n",
        "\t\twhile(True) : \n",
        "\t\t\tprint( temp.data, end = \" \") \n",
        "\t\t\ttemp = temp.next\n",
        "\t\t\tif (temp == head): \n",
        "\t\t\t\tbreak\n",
        "\tprint() \n",
        "\n",
        "# Function to delete a given node from the list \n",
        "def deleteNode( head, key) : \n",
        "\n",
        "\t# If linked list is empty \n",
        "\tif (head == None): \n",
        "\t\treturn\n",
        "\t\t\n",
        "\t# If the list contains only a single node \n",
        "\tif((head).data == key and (head).next == head): \n",
        "\t\n",
        "\t\thead = None\n",
        "\t\n",
        "\tlast = head \n",
        "\td = None\n",
        "\t\n",
        "\t# If head is to be deleted \n",
        "\tif((head).data == key) : \n",
        "\t\t\n",
        "\t\t# Find the last node of the list \n",
        "\t\twhile(last.next != head): \n",
        "\t\t\tlast = last.next\n",
        "\t\t\t\n",
        "\t\t# Point last node to the next of head i.e. \n",
        "\t\t# the second node of the list \n",
        "\t\tlast.next = (head).next\n",
        "\t\thead = last.next\n",
        "\t\n",
        "\t# Either the node to be deleted is not found \n",
        "\t# or the end of list is not reached \n",
        "\twhile(last.next != head and last.next.data != key) : \n",
        "\t\tlast = last.next\n",
        "\n",
        "\t# If node to be deleted was found \n",
        "\tif(last.next.data == key) : \n",
        "\t\td = last.next\n",
        "\t\tlast.next = d.next\n",
        "\t\n",
        "\telse: \n",
        "\t\tprint(\"no such keyfound\") \n",
        "\t\n",
        "\treturn head \n",
        "\n",
        "# Driver program to test above functions \n",
        "\n",
        "# Initialize lists as empty \n",
        "head = None\n",
        "\n",
        "# Created linked list will be 2.5.7.8.10 \n",
        "head = push(head, 2) \n",
        "head = push(head, 5) \n",
        "head = push(head, 7) \n",
        "head = push(head, 8) \n",
        "head = push(head, 10) \n",
        "\n",
        "print(\"List Before Deletion: \") \n",
        "printList(head) \n",
        "\n",
        "head = deleteNode(head, 7) \n",
        "\n",
        "print( \"List After Deletion: \") \n",
        "printList(head) \n",
        "\n"
      ],
      "execution_count": 20,
      "outputs": [
        {
          "output_type": "stream",
          "text": [
            "List Before Deletion: \n",
            "10 8 7 5 2 \n",
            "List After Deletion: \n",
            "10 8 5 2 \n"
          ],
          "name": "stdout"
        }
      ]
    },
    {
      "cell_type": "code",
      "metadata": {
        "id": "qeG6RzUe15E2"
      },
      "source": [
        ""
      ],
      "execution_count": null,
      "outputs": []
    }
  ]
}