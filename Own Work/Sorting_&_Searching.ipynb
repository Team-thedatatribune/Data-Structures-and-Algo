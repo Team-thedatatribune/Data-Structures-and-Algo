{
  "nbformat": 4,
  "nbformat_minor": 0,
  "metadata": {
    "colab": {
      "name": "Sorting & Searching.ipynb",
      "provenance": [],
      "authorship_tag": "ABX9TyO+8jypOSPe2X0T4itJMSUh",
      "include_colab_link": true
    },
    "kernelspec": {
      "name": "python3",
      "display_name": "Python 3"
    }
  },
  "cells": [
    {
      "cell_type": "markdown",
      "metadata": {
        "id": "view-in-github",
        "colab_type": "text"
      },
      "source": [
        "<a href=\"https://colab.research.google.com/github/ravi-prakash1907/Data-Structures-and-Algo/blob/main/Own%20Work/Sorting_%26_Searching.ipynb\" target=\"_parent\"><img src=\"https://colab.research.google.com/assets/colab-badge.svg\" alt=\"Open In Colab\"/></a>"
      ]
    },
    {
      "cell_type": "markdown",
      "metadata": {
        "id": "D8NTSMqZ8xVx"
      },
      "source": [
        "# Sorting Algorithms"
      ]
    },
    {
      "cell_type": "markdown",
      "metadata": {
        "id": "eHLO7St95xAI"
      },
      "source": [
        "## Bubble Sort"
      ]
    },
    {
      "cell_type": "code",
      "metadata": {
        "id": "r6o_VVA45hLU"
      },
      "source": [
        "def bs(arr):\n",
        "  for i in range(len(arr)-1):\n",
        "    swap(arr[])"
      ],
      "execution_count": null,
      "outputs": []
    },
    {
      "cell_type": "markdown",
      "metadata": {
        "id": "EUIkgCy650Vg"
      },
      "source": [
        "## Merge Sort\n",
        "\n",
        "_Devide and Conquer_"
      ]
    },
    {
      "cell_type": "code",
      "metadata": {
        "id": "hvOBXMaK52Sg"
      },
      "source": [
        "def mergeSort(arr):\n",
        "  #"
      ],
      "execution_count": null,
      "outputs": []
    },
    {
      "cell_type": "markdown",
      "metadata": {
        "id": "A6GIjOCD52vi"
      },
      "source": [
        "## Insertion Sort"
      ]
    },
    {
      "cell_type": "code",
      "metadata": {
        "colab": {
          "base_uri": "https://localhost:8080/"
        },
        "id": "BwQbOtUZ61Tj",
        "outputId": "08587c64-9f14-4750-9bb2-fdcc0d568ba0"
      },
      "source": [
        "def insertionSort(arr):\n",
        "  for i in range(1,len(arr)):\n",
        "    key =\n",
        "    if arr[i] < arr[i-1]:\n",
        "      print(\"here\")\n",
        "      arr[i],arr[i-1] = arr[i-1],arr[i]\n",
        "  \n",
        "  return arr\n",
        "\n",
        "x = [2,5,1,6,3]\n",
        "insertionSort(x)\n"
      ],
      "execution_count": 2,
      "outputs": [
        {
          "output_type": "stream",
          "text": [
            "here\n",
            "here\n"
          ],
          "name": "stdout"
        },
        {
          "output_type": "execute_result",
          "data": {
            "text/plain": [
              "[2, 1, 5, 3, 6]"
            ]
          },
          "metadata": {
            "tags": []
          },
          "execution_count": 2
        }
      ]
    },
    {
      "cell_type": "markdown",
      "metadata": {
        "id": "6cP1TpQT7tjI"
      },
      "source": [
        "## Selection Sort"
      ]
    },
    {
      "cell_type": "code",
      "metadata": {
        "id": "T3E9na6L7vpZ"
      },
      "source": [
        "def selectionSort(arr):\n",
        "  for i in range(1,len(arr)):\n",
        "    key =\n",
        "    if arr[i] < arr[i-1]:\n",
        "      print(\"here\")\n",
        "      arr[i],arr[i-1] = arr[i-1],arr[i]\n",
        "  \n",
        "  return arr\n",
        "\n",
        "x = [2,5,1,6,3]\n",
        "insertionSort(x)\n"
      ],
      "execution_count": null,
      "outputs": []
    },
    {
      "cell_type": "markdown",
      "metadata": {
        "id": "r9qcP8K-9g5n"
      },
      "source": [
        "# Searching Algorithms"
      ]
    },
    {
      "cell_type": "markdown",
      "metadata": {
        "id": "RUmxtNbd9mDM"
      },
      "source": [
        "## Linear Search"
      ]
    },
    {
      "cell_type": "code",
      "metadata": {
        "id": "H-a1xH359k58"
      },
      "source": [
        "def linearSearch(arr):\n",
        "  #"
      ],
      "execution_count": null,
      "outputs": []
    },
    {
      "cell_type": "markdown",
      "metadata": {
        "id": "E5Pym7IV9q2i"
      },
      "source": [
        "## Binary Search"
      ]
    },
    {
      "cell_type": "code",
      "metadata": {
        "id": "6RwCReV49skA"
      },
      "source": [
        "def binarySearch(arr):\n",
        "  #"
      ],
      "execution_count": null,
      "outputs": []
    },
    {
      "cell_type": "markdown",
      "metadata": {
        "id": "qPHPg1Vs-eGX"
      },
      "source": [
        "## Hashing\n",
        "\n",
        "_**Hash Table:**_  \n",
        "Index Collession is dealt using -  \n",
        "1. Chaining\n",
        "2. Open Addressing  \n",
        "  - Linear Probing\n",
        "  - Quadratic Probing\n",
        "  - Double Hashing"
      ]
    },
    {
      "cell_type": "code",
      "metadata": {
        "id": "_j_Sa9lP-izS"
      },
      "source": [
        ""
      ],
      "execution_count": null,
      "outputs": []
    },
    {
      "cell_type": "markdown",
      "metadata": {
        "id": "SR905P6XBq9e"
      },
      "source": [
        "## Pattern Searching Algorithms\n",
        "\n",
        "_(kind of text-searching)_"
      ]
    },
    {
      "cell_type": "markdown",
      "metadata": {
        "id": "Tgp1j5vBB7_R"
      },
      "source": [
        "### Naive Pattern Searching Algo"
      ]
    },
    {
      "cell_type": "code",
      "metadata": {
        "id": "XprUmIZABuna"
      },
      "source": [
        ""
      ],
      "execution_count": null,
      "outputs": []
    },
    {
      "cell_type": "markdown",
      "metadata": {
        "id": "mg-cwDyACc0u"
      },
      "source": [
        "### Knuth Morris Pratt (KNP) Algo"
      ]
    },
    {
      "cell_type": "code",
      "metadata": {
        "id": "QAI4o-d4Ci7-"
      },
      "source": [
        ""
      ],
      "execution_count": null,
      "outputs": []
    }
  ]
}