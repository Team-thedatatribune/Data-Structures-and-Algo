{
  "nbformat": 4,
  "nbformat_minor": 0,
  "metadata": {
    "colab": {
      "name": "Sorting & Searching.ipynb",
      "provenance": [],
      "authorship_tag": "ABX9TyN6OXceonwsXcRB2GQ4DahF",
      "include_colab_link": true
    },
    "kernelspec": {
      "name": "python3",
      "display_name": "Python 3"
    }
  },
  "cells": [
    {
      "cell_type": "markdown",
      "metadata": {
        "id": "view-in-github",
        "colab_type": "text"
      },
      "source": [
        "<a href=\"https://colab.research.google.com/github/ravi-prakash1907/Data-Structures-and-Algo/blob/main/Own%20Work/Sorting_%26_Searching.ipynb\" target=\"_parent\"><img src=\"https://colab.research.google.com/assets/colab-badge.svg\" alt=\"Open In Colab\"/></a>"
      ]
    },
    {
      "cell_type": "markdown",
      "metadata": {
        "id": "D8NTSMqZ8xVx"
      },
      "source": [
        "# Sorting Algorithms"
      ]
    },
    {
      "cell_type": "markdown",
      "metadata": {
        "id": "eHLO7St95xAI"
      },
      "source": [
        "## Bubble Sort"
      ]
    },
    {
      "cell_type": "code",
      "metadata": {
        "id": "r6o_VVA45hLU",
        "colab": {
          "base_uri": "https://localhost:8080/"
        },
        "outputId": "97f842e1-446d-48be-d757-914c1ebec8eb"
      },
      "source": [
        "def bubbleSort(arr):\n",
        "  for i in range(len(arr)):\n",
        "    for j in range(len(arr)-i-1):\n",
        "      if arr[j] > arr[j+1]:\n",
        "        print(\"Swaping {} and {}\".format(arr[i],arr[i+1]))\n",
        "        arr[j],arr[j+1] = arr[j+1],arr[j]\n",
        "  return arr\n",
        "\n",
        "\n",
        "x = bubbleSort([9,8,6,4,2])\n",
        "print()\n",
        "print(x)\n",
        "print(\"\\nTime complexity of bubble sort is 'O(n^2)' because of 2 nested for loops!\")"
      ],
      "execution_count": 2,
      "outputs": [
        {
          "output_type": "stream",
          "text": [
            "Swaping 9 and 8\n",
            "Swaping 8 and 9\n",
            "Swaping 8 and 6\n",
            "Swaping 8 and 6\n",
            "Swaping 6 and 4\n",
            "Swaping 8 and 4\n",
            "Swaping 4 and 8\n",
            "Swaping 2 and 8\n",
            "Swaping 2 and 8\n",
            "Swaping 8 and 9\n",
            "\n",
            "[2, 4, 6, 8, 9]\n",
            "\n",
            "Time complexity of bubble sort is 'O(n^2)' because of 2 nested for loops!\n"
          ],
          "name": "stdout"
        }
      ]
    },
    {
      "cell_type": "markdown",
      "metadata": {
        "id": "A6GIjOCD52vi"
      },
      "source": [
        "## Insertion Sort"
      ]
    },
    {
      "cell_type": "code",
      "metadata": {
        "colab": {
          "base_uri": "https://localhost:8080/"
        },
        "id": "BwQbOtUZ61Tj",
        "outputId": "36723652-9b57-426c-fb81-591bcf269ae5"
      },
      "source": [
        "def insertionSort(arr):\n",
        "  for step in range(1, len(arr)):\n",
        "    key = arr[step]\n",
        "    j = step - 1   \n",
        "    while j >= 0 and key < arr[j]:\n",
        "      arr[j+1] = arr[j]\n",
        "      j -= 1\n",
        "    arr[j+1] = key\n",
        "  return arr\n",
        "\n",
        "\n",
        "\n",
        "x = insertionSort([9,8,6,4,2])\n",
        "print()\n",
        "print(x)\n",
        "print(\"\\nTime complexity of insertion sort is 'O(n)' because of only 1 for loop!\")"
      ],
      "execution_count": 5,
      "outputs": [
        {
          "output_type": "stream",
          "text": [
            "\n",
            "[2, 4, 6, 8, 9]\n",
            "\n",
            "Time complexity of insertion sort is 'O(n)' because of only 1 for loop!\n"
          ],
          "name": "stdout"
        }
      ]
    },
    {
      "cell_type": "markdown",
      "metadata": {
        "id": "EUIkgCy650Vg"
      },
      "source": [
        "## Merge Sort\n",
        "\n",
        "_Devide and Conquer_"
      ]
    },
    {
      "cell_type": "code",
      "metadata": {
        "id": "hvOBXMaK52Sg",
        "colab": {
          "base_uri": "https://localhost:8080/"
        },
        "outputId": "0e2a93f2-1ddb-413a-dffc-5c6071d7ca5c"
      },
      "source": [
        "def mergeSort(arr):\n",
        "  if len(arr) <= 1:\n",
        "    return arr\n",
        "  else:\n",
        "    mid = len(arr) // 2\n",
        "    leftHalf = arr[:mid]\n",
        "    rightHalf = arr[mid:]\n",
        "\n",
        "    leftHalf = mergeSort(leftHalf)\n",
        "    rightHalf = mergeSort(rightHalf)\n",
        "    return merge(leftHalf,rightHalf)\n",
        "\n",
        "\n",
        "def merge(leftHalf, rightHalf):\n",
        "  merged = []\n",
        "  while len(leftHalf) != 0 and len(rightHalf) != 0:\n",
        "    if leftHalf[0] < rightHalf[0]:\n",
        "      merged.append(leftHalf[0])\n",
        "      leftHalf.remove(leftHalf[0])\n",
        "    else:\n",
        "      merged.append(rightHalf[0])\n",
        "      rightHalf.remove(rightHalf[0])\n",
        "  \n",
        "  if len(leftHalf) == 0:\n",
        "    merged += rightHalf   \n",
        "  else:\n",
        "    merged += leftHalf\n",
        "  \n",
        "  return merged\n",
        "\n",
        "x = mergeSort([38,27,43,3,9,82,10,10])\n",
        "print()\n",
        "print(x)\n",
        "print(\"\\nTime complexity of insertion sort is 'O(n.logn)' because of the sorting n elements parallely!\")"
      ],
      "execution_count": 38,
      "outputs": [
        {
          "output_type": "stream",
          "text": [
            "\n",
            "[3, 9, 10, 10, 27, 38, 43, 82]\n",
            "\n",
            "Time complexity of insertion sort is 'O(n.logn)' because of the sorting n elements parallely!\n"
          ],
          "name": "stdout"
        }
      ]
    },
    {
      "cell_type": "markdown",
      "metadata": {
        "id": "6cP1TpQT7tjI"
      },
      "source": [
        "## Selection Sort"
      ]
    },
    {
      "cell_type": "code",
      "metadata": {
        "id": "T3E9na6L7vpZ",
        "colab": {
          "base_uri": "https://localhost:8080/"
        },
        "outputId": "aee55c49-d3fa-4c41-87ae-a03120876077"
      },
      "source": [
        "def selectionSort(arr):\n",
        "  for i in range(len(arr)):\n",
        "    key = i\n",
        "    for j in range(i+1,len(arr)):\n",
        "      if arr[j] < arr[key]:\n",
        "        key = j    \n",
        "    print(\"Swaping {} and {}\".format(arr[i],arr[key]))\n",
        "    arr[i],arr[key] = arr[key],arr[i]\n",
        "  return arr\n",
        "\n",
        "x = selectionSort([2,5,1,6,3])\n",
        "print()\n",
        "print(x)\n",
        "print(\"\\nTime complexity of bubble sort is 'O(n^2)' because of 2 nested for loops!\")"
      ],
      "execution_count": 39,
      "outputs": [
        {
          "output_type": "stream",
          "text": [
            "Swaping 2 and 1\n",
            "Swaping 5 and 2\n",
            "Swaping 5 and 3\n",
            "Swaping 6 and 5\n",
            "Swaping 6 and 6\n",
            "\n",
            "[1, 2, 3, 5, 6]\n",
            "\n",
            "Time complexity of bubble sort is 'O(n^2)' because of 2 nested for loops!\n"
          ],
          "name": "stdout"
        }
      ]
    },
    {
      "cell_type": "markdown",
      "metadata": {
        "id": "r9qcP8K-9g5n"
      },
      "source": [
        "# Searching Algorithms"
      ]
    },
    {
      "cell_type": "markdown",
      "metadata": {
        "id": "RUmxtNbd9mDM"
      },
      "source": [
        "## Linear Search"
      ]
    },
    {
      "cell_type": "code",
      "metadata": {
        "id": "H-a1xH359k58",
        "colab": {
          "base_uri": "https://localhost:8080/"
        },
        "outputId": "dab49e3a-f8d2-40c7-b2cd-29b893894d40"
      },
      "source": [
        "def linearSearch(arr, searched):\n",
        "  for i in range(0, len(arr)):\n",
        "    if arr[i] == searched:\n",
        "      return i+1\n",
        "  return False\n",
        "\n",
        "###\n",
        "arr = [2,5,6,1,9,0,7,3]\n",
        "find = int(input(\"Enter the element to search from list: \"))\n",
        "\n",
        "index = linearSearch(arr,find)\n",
        "if index:\n",
        "  print(\"Element is present at position: \", index,\"(array index = {})\".format(index-1))\n",
        "else:\n",
        "  print(\"Element not found!\")"
      ],
      "execution_count": null,
      "outputs": [
        {
          "output_type": "stream",
          "text": [
            "Enter the element to search from list: 0\n",
            "Element is present at position:  6 (array index = 5)\n"
          ],
          "name": "stdout"
        }
      ]
    },
    {
      "cell_type": "markdown",
      "metadata": {
        "id": "E5Pym7IV9q2i"
      },
      "source": [
        "## Binary Search"
      ]
    },
    {
      "cell_type": "code",
      "metadata": {
        "id": "6RwCReV49skA",
        "outputId": "203a109f-375d-4d0c-de98-3a6092c9f62b",
        "colab": {
          "base_uri": "https://localhost:8080/"
        }
      },
      "source": [
        "# recursive\n",
        "def binarySearch(arr, beg, end, searched):\n",
        "  mid = beg + (len(arr[beg:end]) // 2)\n",
        "  #print(\"\\n\",arr[mid],\"\\t\",beg,end)\n",
        "\n",
        "  if end-beg == 1:    \n",
        "    if arr[mid] == searched:\n",
        "      return mid+1\n",
        "    else:\n",
        "      return False\n",
        "  \n",
        "  elif arr[mid] > searched:\n",
        "    end = mid\n",
        "    #print(\"Left : \",arr, beg, end, searched)\n",
        "    return binarySearch(arr, beg, end, searched)\n",
        "  else:\n",
        "    beg = mid\n",
        "    #print(\"Right : \",arr, beg, end, searched)\n",
        "    return binarySearch(arr, beg, end, searched)\n",
        "\n",
        "\n",
        "###\n",
        "arr = [1,2,3,4,5,7,9] # len = 7\n",
        "find = int(input(\"Enter the element to search from list: \"))\n",
        "\n",
        "index = binarySearch(arr,0, len(arr),find) # (arr,0,1,find)\n",
        "if index:\n",
        "  print(\"Element is present at position: \", index,\"(array index = {})\".format(index-1))\n",
        "else:\n",
        "  print(\"Element not found!\")"
      ],
      "execution_count": 36,
      "outputs": [
        {
          "output_type": "stream",
          "text": [
            "Enter the element to search from list: 0\n",
            "Element not found!\n"
          ],
          "name": "stdout"
        }
      ]
    },
    {
      "cell_type": "markdown",
      "metadata": {
        "id": "qPHPg1Vs-eGX"
      },
      "source": [
        "## Hashing\n",
        "\n",
        "_**Hash Table:**_  \n",
        "Index Collession is dealt using -  \n",
        "1. Chaining\n",
        "2. Open Addressing  \n",
        "  - Linear Probing\n",
        "  - Quadratic Probing\n",
        "  - Double Hashing"
      ]
    },
    {
      "cell_type": "code",
      "metadata": {
        "id": "_j_Sa9lP-izS"
      },
      "source": [
        ""
      ],
      "execution_count": null,
      "outputs": []
    },
    {
      "cell_type": "markdown",
      "metadata": {
        "id": "SR905P6XBq9e"
      },
      "source": [
        "## Pattern Searching Algorithms\n",
        "\n",
        "_(kind of text-searching)_"
      ]
    },
    {
      "cell_type": "markdown",
      "metadata": {
        "id": "Tgp1j5vBB7_R"
      },
      "source": [
        "### Naive Pattern Searching Algo"
      ]
    },
    {
      "cell_type": "code",
      "metadata": {
        "id": "XprUmIZABuna"
      },
      "source": [
        ""
      ],
      "execution_count": null,
      "outputs": []
    },
    {
      "cell_type": "markdown",
      "metadata": {
        "id": "mg-cwDyACc0u"
      },
      "source": [
        "### Knuth Morris Pratt (KNP) Algo"
      ]
    },
    {
      "cell_type": "code",
      "metadata": {
        "id": "QAI4o-d4Ci7-"
      },
      "source": [
        ""
      ],
      "execution_count": null,
      "outputs": []
    }
  ]
}